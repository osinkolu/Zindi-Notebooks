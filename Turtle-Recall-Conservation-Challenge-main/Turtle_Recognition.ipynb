{
 "cells": [
  {
   "cell_type": "markdown",
   "metadata": {
    "id": "OZXVQ63jE4NS",
    "outputId": "faa48f1f-fc50-4cde-b0c5-a11881ee831a"
   },
   "source": [
    "# INTRO.\n",
    "\n",
    "[Turtle Recall: Conservation Challenge](https://zindi.africa/competitions/turtle-recall-conservation-challenge) Just ended on zindi. The aim of this competition was to build a machine learning model to identify individual sea turtles. For each image presented, the model should output the turtle’s unique ID or, if the image corresponds to a new turtle (not present in the database), we identify it as a new turtle. A dataset of labelled photos of turtle faces was provided for the competition."
   ]
  },
  {
   "cell_type": "markdown",
   "metadata": {
    "id": "DKQ7u1zkSjGB"
   },
   "source": [
    "## Requirements.\n",
    "\n",
    "Just a basic setup: please use a GPU enabled setup so you don't spend the whole day training the simple model 😉. I used colab pro, the colab free version also works just fine for running this notebook."
   ]
  },
  {
   "cell_type": "markdown",
   "metadata": {
    "id": "qBYSsSYASjGD"
   },
   "source": [
    "### High level Understanding.\n",
    "\n",
    "For this challenge, we were given a train dataset that contains 100 unique turtles, however we were given another extra data set that contains about 2000 unique turtles. Since the challenge is to predict new turtles asides the 100 turtles, I trained the model on thousands of different turtles, picking images from the extra csv file. After predictions, If the label isn't among the original 100 given, we change the class name to new turtle.\n",
    "\n",
    "The Approach used was simple classification."
   ]
  },
  {
   "cell_type": "markdown",
   "metadata": {
    "id": "hglo_niWSjGF"
   },
   "source": [
    "### The Data Given\n",
    "\n",
    "1. Training data: https://storage.googleapis.com/dm-turtle-recall/train.csv\n",
    "2. Extra images data: https://storage.googleapis.com/dm-turtle-recall/extra_images.csv\n",
    "3. Test data: https://storage.googleapis.com/dm-turtle-recall/test.csv\n",
    "4. Sample submission file: https://storage.googleapis.com/dm-turtle-recall/sample_submission.csv\n",
    "5. Images: https://storage.googleapis.com/dm-turtle-recall/images.tar"
   ]
  },
  {
   "cell_type": "markdown",
   "metadata": {
    "id": "LHBgvLfmSjGG"
   },
   "source": [
    "###### Let's Dive In."
   ]
  },
  {
   "cell_type": "markdown",
   "metadata": {
    "id": "SE7IsyQ8SjGH"
   },
   "source": [
    "Check out your GPU"
   ]
  },
  {
   "cell_type": "code",
   "execution_count": 1,
   "metadata": {
    "colab": {
     "base_uri": "https://localhost:8080/"
    },
    "id": "FKQ6Ni_n9I5M",
    "outputId": "b8026652-f635-4afb-feb4-e4e97625c360"
   },
   "outputs": [
    {
     "name": "stdout",
     "output_type": "stream",
     "text": [
      "Fri Apr 22 12:41:25 2022       \n",
      "+-----------------------------------------------------------------------------+\n",
      "| NVIDIA-SMI 460.32.03    Driver Version: 460.32.03    CUDA Version: 11.2     |\n",
      "|-------------------------------+----------------------+----------------------+\n",
      "| GPU  Name        Persistence-M| Bus-Id        Disp.A | Volatile Uncorr. ECC |\n",
      "| Fan  Temp  Perf  Pwr:Usage/Cap|         Memory-Usage | GPU-Util  Compute M. |\n",
      "|                               |                      |               MIG M. |\n",
      "|===============================+======================+======================|\n",
      "|   0  Tesla P100-PCIE...  Off  | 00000000:00:04.0 Off |                    0 |\n",
      "| N/A   33C    P0    26W / 250W |      0MiB / 16280MiB |      0%      Default |\n",
      "|                               |                      |                  N/A |\n",
      "+-------------------------------+----------------------+----------------------+\n",
      "                                                                               \n",
      "+-----------------------------------------------------------------------------+\n",
      "| Processes:                                                                  |\n",
      "|  GPU   GI   CI        PID   Type   Process name                  GPU Memory |\n",
      "|        ID   ID                                                   Usage      |\n",
      "|=============================================================================|\n",
      "|  No running processes found                                                 |\n",
      "+-----------------------------------------------------------------------------+\n"
     ]
    }
   ],
   "source": [
    "!nvidia-smi"
   ]
  },
  {
   "cell_type": "markdown",
   "metadata": {
    "id": "lqVq1HTcSjGM"
   },
   "source": [
    "###### Download Unzip and Load in your Dataset"
   ]
  },
  {
   "cell_type": "code",
   "execution_count": 2,
   "metadata": {
    "cellView": "code",
    "colab": {
     "base_uri": "https://localhost:8080/"
    },
    "id": "jRWAKiMZFHdU",
    "outputId": "fa3f52f8-67d8-48ca-cae1-7b17156d7b56"
   },
   "outputs": [
    {
     "name": "stdout",
     "output_type": "stream",
     "text": [
      "The total number of images is: 13891\n"
     ]
    }
   ],
   "source": [
    "#@title Download images\n",
    "import os\n",
    "SOURCE_URL = 'https://storage.googleapis.com/dm-turtle-recall/images.tar'\n",
    "IMAGE_DIR = './turtle_recall/images'\n",
    "TAR_PATH = os.path.join(IMAGE_DIR, os.path.basename(SOURCE_URL))\n",
    "EXPECTED_IMAGE_COUNT = 13891\n",
    "\n",
    "%sx mkdir --parents \"{IMAGE_DIR}\"\n",
    "if len(os.listdir(IMAGE_DIR)) != EXPECTED_IMAGE_COUNT:\n",
    "  %sx wget --no-check-certificate -O \"{TAR_PATH}\" \"{SOURCE_URL}\"\n",
    "  %sx tar --extract --file=\"{TAR_PATH}\" --directory=\"{IMAGE_DIR}\"\n",
    "  %sx rm \"{TAR_PATH}\"\n",
    "\n",
    "print(f'The total number of images is: {len(os.listdir(IMAGE_DIR))}')"
   ]
  },
  {
   "cell_type": "markdown",
   "metadata": {
    "id": "3diQ74_s9MFy"
   },
   "source": [
    "###### Download and  pull CSV files too."
   ]
  },
  {
   "cell_type": "code",
   "execution_count": 3,
   "metadata": {
    "cellView": "code",
    "colab": {
     "base_uri": "https://localhost:8080/",
     "height": 161
    },
    "id": "kGTyBPrCFN7F",
    "outputId": "743dae8f-69f2-47db-8fc7-5228d1048fef"
   },
   "outputs": [
    {
     "name": "stdout",
     "output_type": "stream",
     "text": [
      "(2145, 3) (490, 2) (490, 6)\n"
     ]
    },
    {
     "data": {
      "text/html": [
       "\n",
       "  <div id=\"df-ee2ebdb1-a1d2-4c12-9355-212807e76316\">\n",
       "    <div class=\"colab-df-container\">\n",
       "      <div>\n",
       "<style scoped>\n",
       "    .dataframe tbody tr th:only-of-type {\n",
       "        vertical-align: middle;\n",
       "    }\n",
       "\n",
       "    .dataframe tbody tr th {\n",
       "        vertical-align: top;\n",
       "    }\n",
       "\n",
       "    .dataframe thead th {\n",
       "        text-align: right;\n",
       "    }\n",
       "</style>\n",
       "<table border=\"1\" class=\"dataframe\">\n",
       "  <thead>\n",
       "    <tr style=\"text-align: right;\">\n",
       "      <th></th>\n",
       "      <th>image_id</th>\n",
       "      <th>image_location</th>\n",
       "      <th>turtle_id</th>\n",
       "    </tr>\n",
       "  </thead>\n",
       "  <tbody>\n",
       "    <tr>\n",
       "      <th>0</th>\n",
       "      <td>ID_2RK4WLN8</td>\n",
       "      <td>top</td>\n",
       "      <td>t_id_VP2NW7aV</td>\n",
       "    </tr>\n",
       "    <tr>\n",
       "      <th>1</th>\n",
       "      <td>ID_VVW0QXLX</td>\n",
       "      <td>left</td>\n",
       "      <td>t_id_qZ0iZYsC</td>\n",
       "    </tr>\n",
       "    <tr>\n",
       "      <th>2</th>\n",
       "      <td>ID_RVATH2HZ</td>\n",
       "      <td>right</td>\n",
       "      <td>t_id_3b65X5Lw</td>\n",
       "    </tr>\n",
       "  </tbody>\n",
       "</table>\n",
       "</div>\n",
       "      <button class=\"colab-df-convert\" onclick=\"convertToInteractive('df-ee2ebdb1-a1d2-4c12-9355-212807e76316')\"\n",
       "              title=\"Convert this dataframe to an interactive table.\"\n",
       "              style=\"display:none;\">\n",
       "        \n",
       "  <svg xmlns=\"http://www.w3.org/2000/svg\" height=\"24px\"viewBox=\"0 0 24 24\"\n",
       "       width=\"24px\">\n",
       "    <path d=\"M0 0h24v24H0V0z\" fill=\"none\"/>\n",
       "    <path d=\"M18.56 5.44l.94 2.06.94-2.06 2.06-.94-2.06-.94-.94-2.06-.94 2.06-2.06.94zm-11 1L8.5 8.5l.94-2.06 2.06-.94-2.06-.94L8.5 2.5l-.94 2.06-2.06.94zm10 10l.94 2.06.94-2.06 2.06-.94-2.06-.94-.94-2.06-.94 2.06-2.06.94z\"/><path d=\"M17.41 7.96l-1.37-1.37c-.4-.4-.92-.59-1.43-.59-.52 0-1.04.2-1.43.59L10.3 9.45l-7.72 7.72c-.78.78-.78 2.05 0 2.83L4 21.41c.39.39.9.59 1.41.59.51 0 1.02-.2 1.41-.59l7.78-7.78 2.81-2.81c.8-.78.8-2.07 0-2.86zM5.41 20L4 18.59l7.72-7.72 1.47 1.35L5.41 20z\"/>\n",
       "  </svg>\n",
       "      </button>\n",
       "      \n",
       "  <style>\n",
       "    .colab-df-container {\n",
       "      display:flex;\n",
       "      flex-wrap:wrap;\n",
       "      gap: 12px;\n",
       "    }\n",
       "\n",
       "    .colab-df-convert {\n",
       "      background-color: #E8F0FE;\n",
       "      border: none;\n",
       "      border-radius: 50%;\n",
       "      cursor: pointer;\n",
       "      display: none;\n",
       "      fill: #1967D2;\n",
       "      height: 32px;\n",
       "      padding: 0 0 0 0;\n",
       "      width: 32px;\n",
       "    }\n",
       "\n",
       "    .colab-df-convert:hover {\n",
       "      background-color: #E2EBFA;\n",
       "      box-shadow: 0px 1px 2px rgba(60, 64, 67, 0.3), 0px 1px 3px 1px rgba(60, 64, 67, 0.15);\n",
       "      fill: #174EA6;\n",
       "    }\n",
       "\n",
       "    [theme=dark] .colab-df-convert {\n",
       "      background-color: #3B4455;\n",
       "      fill: #D2E3FC;\n",
       "    }\n",
       "\n",
       "    [theme=dark] .colab-df-convert:hover {\n",
       "      background-color: #434B5C;\n",
       "      box-shadow: 0px 1px 3px 1px rgba(0, 0, 0, 0.15);\n",
       "      filter: drop-shadow(0px 1px 2px rgba(0, 0, 0, 0.3));\n",
       "      fill: #FFFFFF;\n",
       "    }\n",
       "  </style>\n",
       "\n",
       "      <script>\n",
       "        const buttonEl =\n",
       "          document.querySelector('#df-ee2ebdb1-a1d2-4c12-9355-212807e76316 button.colab-df-convert');\n",
       "        buttonEl.style.display =\n",
       "          google.colab.kernel.accessAllowed ? 'block' : 'none';\n",
       "\n",
       "        async function convertToInteractive(key) {\n",
       "          const element = document.querySelector('#df-ee2ebdb1-a1d2-4c12-9355-212807e76316');\n",
       "          const dataTable =\n",
       "            await google.colab.kernel.invokeFunction('convertToInteractive',\n",
       "                                                     [key], {});\n",
       "          if (!dataTable) return;\n",
       "\n",
       "          const docLinkHtml = 'Like what you see? Visit the ' +\n",
       "            '<a target=\"_blank\" href=https://colab.research.google.com/notebooks/data_table.ipynb>data table notebook</a>'\n",
       "            + ' to learn more about interactive tables.';\n",
       "          element.innerHTML = '';\n",
       "          dataTable['output_type'] = 'display_data';\n",
       "          await google.colab.output.renderOutput(dataTable, element);\n",
       "          const docLink = document.createElement('div');\n",
       "          docLink.innerHTML = docLinkHtml;\n",
       "          element.appendChild(docLink);\n",
       "        }\n",
       "      </script>\n",
       "    </div>\n",
       "  </div>\n",
       "  "
      ],
      "text/plain": [
       "      image_id image_location      turtle_id\n",
       "0  ID_2RK4WLN8            top  t_id_VP2NW7aV\n",
       "1  ID_VVW0QXLX           left  t_id_qZ0iZYsC\n",
       "2  ID_RVATH2HZ          right  t_id_3b65X5Lw"
      ]
     },
     "execution_count": 3,
     "metadata": {},
     "output_type": "execute_result"
    }
   ],
   "source": [
    "#@title Load train, test and sample_submission\n",
    "\n",
    "import requests\n",
    "import io, os\n",
    "import urllib.parse\n",
    "import pandas as pd\n",
    "\n",
    "BASE_URL = 'https://storage.googleapis.com/dm-turtle-recall/'\n",
    "\n",
    "def read_csv_from_web(file_name):\n",
    "  url = urllib.parse.urljoin(BASE_URL, file_name)\n",
    "  content = requests.get(url).content\n",
    "  return pd.read_csv(io.StringIO(content.decode('utf-8')))\n",
    "\n",
    "\n",
    "# Read in csv files.\n",
    "train_df = read_csv_from_web('train.csv')\n",
    "test_df = read_csv_from_web('test.csv')\n",
    "sample_submission = read_csv_from_web('sample_submission.csv')\n",
    "extra_images = read_csv_from_web(\"extra_images.csv\")\n",
    "\n",
    "# Convert image_location strings to lowercase.\n",
    "for df in [train_df, test_df]:\n",
    "  df.image_location = df.image_location.apply(lambda x: x.lower())\n",
    "  assert set(df.image_location.unique()) == set(['left', 'right', 'top'])\n",
    "\n",
    "print(train_df.shape, test_df.shape, sample_submission.shape)\n",
    "train_df.head(3)"
   ]
  },
  {
   "cell_type": "markdown",
   "metadata": {
    "id": "fkjBM8x7SjGU"
   },
   "source": [
    "In my previous notebook on \"FastAI bag of Tricks\" I explained in details how that the FastAI library is relatively easy to use, there are a bunch of models provided by the library like resnets, densenets, etc. However, the Efficientnet Model is a state of the art model, scaled to 8 different variations B0 to B7. read more [here](https://ai.googleblog.com/2019/05/efficientnet-improving-accuracy-and.html).\n",
    "\n",
    "Since FastAI does not provide the EfficientNet models, Folks like Luke Melas-Kyriaz have made the corresponding pytorch implementation available, so i can just pip install the library to get the model."
   ]
  },
  {
   "cell_type": "markdown",
   "metadata": {
    "id": "xob3muE5SjGV"
   },
   "source": [
    "###### Install FastAI and Efficientnet"
   ]
  },
  {
   "cell_type": "code",
   "execution_count": 4,
   "metadata": {
    "colab": {
     "base_uri": "https://localhost:8080/"
    },
    "id": "x4noQzDjFTmC",
    "outputId": "42e79f8a-2ae1-43d2-ff05-494eee13f53a"
   },
   "outputs": [
    {
     "name": "stdout",
     "output_type": "stream",
     "text": [
      "\u001b[?25l\r",
      "\u001b[K     |█████▌                          | 10 kB 29.8 MB/s eta 0:00:01\r",
      "\u001b[K     |███████████                     | 20 kB 35.5 MB/s eta 0:00:01\r",
      "\u001b[K     |████████████████▍               | 30 kB 29.7 MB/s eta 0:00:01\r",
      "\u001b[K     |█████████████████████▉          | 40 kB 15.0 MB/s eta 0:00:01\r",
      "\u001b[K     |███████████████████████████▎    | 51 kB 17.6 MB/s eta 0:00:01\r",
      "\u001b[K     |████████████████████████████████| 60 kB 6.2 MB/s \n",
      "\u001b[?25h\u001b[?25l\r",
      "\u001b[K     |█▊                              | 10 kB 41.0 MB/s eta 0:00:01\r",
      "\u001b[K     |███▌                            | 20 kB 45.6 MB/s eta 0:00:01\r",
      "\u001b[K     |█████▏                          | 30 kB 53.5 MB/s eta 0:00:01\r",
      "\u001b[K     |███████                         | 40 kB 58.5 MB/s eta 0:00:01\r",
      "\u001b[K     |████████▊                       | 51 kB 61.9 MB/s eta 0:00:01\r",
      "\u001b[K     |██████████▍                     | 61 kB 66.4 MB/s eta 0:00:01\r",
      "\u001b[K     |████████████▏                   | 71 kB 25.5 MB/s eta 0:00:01\r",
      "\u001b[K     |██████████████                  | 81 kB 27.4 MB/s eta 0:00:01\r",
      "\u001b[K     |███████████████▋                | 92 kB 29.4 MB/s eta 0:00:01\r",
      "\u001b[K     |█████████████████▍              | 102 kB 31.4 MB/s eta 0:00:01\r",
      "\u001b[K     |███████████████████▏            | 112 kB 31.4 MB/s eta 0:00:01\r",
      "\u001b[K     |████████████████████▉           | 122 kB 31.4 MB/s eta 0:00:01\r",
      "\u001b[K     |██████████████████████▋         | 133 kB 31.4 MB/s eta 0:00:01\r",
      "\u001b[K     |████████████████████████▍       | 143 kB 31.4 MB/s eta 0:00:01\r",
      "\u001b[K     |██████████████████████████      | 153 kB 31.4 MB/s eta 0:00:01\r",
      "\u001b[K     |███████████████████████████▉    | 163 kB 31.4 MB/s eta 0:00:01\r",
      "\u001b[K     |█████████████████████████████▋  | 174 kB 31.4 MB/s eta 0:00:01\r",
      "\u001b[K     |███████████████████████████████▎| 184 kB 31.4 MB/s eta 0:00:01\r",
      "\u001b[K     |████████████████████████████████| 188 kB 31.4 MB/s \n",
      "\u001b[?25h  Building wheel for efficientnet-pytorch (setup.py) ... \u001b[?25l\u001b[?25hdone\n"
     ]
    }
   ],
   "source": [
    "!pip install -q --upgrade fastcore fastai\n",
    "!pip install -q efficientnet_pytorch"
   ]
  },
  {
   "cell_type": "markdown",
   "metadata": {
    "id": "EEr0QE5mSjGX"
   },
   "source": [
    "###### Import corresponding libraries."
   ]
  },
  {
   "cell_type": "code",
   "execution_count": 5,
   "metadata": {
    "id": "6IELg5BkGy8w"
   },
   "outputs": [],
   "source": [
    "import random\n",
    "import numpy as np\n",
    "import gc\n",
    "from pathlib import Path\n",
    "import matplotlib.pyplot as plt\n",
    "import pandas as pd\n",
    "from efficientnet_pytorch import EfficientNet"
   ]
  },
  {
   "cell_type": "markdown",
   "metadata": {
    "id": "BR1eyhTBSjGZ"
   },
   "source": [
    "###### Preview DataFrame"
   ]
  },
  {
   "cell_type": "code",
   "execution_count": 45,
   "metadata": {
    "colab": {
     "base_uri": "https://localhost:8080/",
     "height": 206
    },
    "id": "xWtxfqgrG1QS",
    "outputId": "7c282a43-6a54-466d-f760-4c23f2849b85"
   },
   "outputs": [
    {
     "data": {
      "text/html": [
       "\n",
       "  <div id=\"df-2d8bc22c-53d1-45a0-9f4b-a74d85912914\">\n",
       "    <div class=\"colab-df-container\">\n",
       "      <div>\n",
       "<style scoped>\n",
       "    .dataframe tbody tr th:only-of-type {\n",
       "        vertical-align: middle;\n",
       "    }\n",
       "\n",
       "    .dataframe tbody tr th {\n",
       "        vertical-align: top;\n",
       "    }\n",
       "\n",
       "    .dataframe thead th {\n",
       "        text-align: right;\n",
       "    }\n",
       "</style>\n",
       "<table border=\"1\" class=\"dataframe\">\n",
       "  <thead>\n",
       "    <tr style=\"text-align: right;\">\n",
       "      <th></th>\n",
       "      <th>image_id</th>\n",
       "      <th>image_location</th>\n",
       "      <th>turtle_id</th>\n",
       "    </tr>\n",
       "  </thead>\n",
       "  <tbody>\n",
       "    <tr>\n",
       "      <th>2140</th>\n",
       "      <td>ID_BDMVQH6G</td>\n",
       "      <td>left</td>\n",
       "      <td>t_id_SwQZGIpa</td>\n",
       "    </tr>\n",
       "    <tr>\n",
       "      <th>2141</th>\n",
       "      <td>ID_JD58AF27</td>\n",
       "      <td>left</td>\n",
       "      <td>t_id_QqeoI5F3</td>\n",
       "    </tr>\n",
       "    <tr>\n",
       "      <th>2142</th>\n",
       "      <td>ID_Y2LJOVUQ</td>\n",
       "      <td>left</td>\n",
       "      <td>t_id_Lhp87PBX</td>\n",
       "    </tr>\n",
       "    <tr>\n",
       "      <th>2143</th>\n",
       "      <td>ID_GH1RFB6Z</td>\n",
       "      <td>right</td>\n",
       "      <td>t_id_FBsGDJhU</td>\n",
       "    </tr>\n",
       "    <tr>\n",
       "      <th>2144</th>\n",
       "      <td>ID_A4XCXRO9</td>\n",
       "      <td>left</td>\n",
       "      <td>t_id_pCO59rOk</td>\n",
       "    </tr>\n",
       "  </tbody>\n",
       "</table>\n",
       "</div>\n",
       "      <button class=\"colab-df-convert\" onclick=\"convertToInteractive('df-2d8bc22c-53d1-45a0-9f4b-a74d85912914')\"\n",
       "              title=\"Convert this dataframe to an interactive table.\"\n",
       "              style=\"display:none;\">\n",
       "        \n",
       "  <svg xmlns=\"http://www.w3.org/2000/svg\" height=\"24px\"viewBox=\"0 0 24 24\"\n",
       "       width=\"24px\">\n",
       "    <path d=\"M0 0h24v24H0V0z\" fill=\"none\"/>\n",
       "    <path d=\"M18.56 5.44l.94 2.06.94-2.06 2.06-.94-2.06-.94-.94-2.06-.94 2.06-2.06.94zm-11 1L8.5 8.5l.94-2.06 2.06-.94-2.06-.94L8.5 2.5l-.94 2.06-2.06.94zm10 10l.94 2.06.94-2.06 2.06-.94-2.06-.94-.94-2.06-.94 2.06-2.06.94z\"/><path d=\"M17.41 7.96l-1.37-1.37c-.4-.4-.92-.59-1.43-.59-.52 0-1.04.2-1.43.59L10.3 9.45l-7.72 7.72c-.78.78-.78 2.05 0 2.83L4 21.41c.39.39.9.59 1.41.59.51 0 1.02-.2 1.41-.59l7.78-7.78 2.81-2.81c.8-.78.8-2.07 0-2.86zM5.41 20L4 18.59l7.72-7.72 1.47 1.35L5.41 20z\"/>\n",
       "  </svg>\n",
       "      </button>\n",
       "      \n",
       "  <style>\n",
       "    .colab-df-container {\n",
       "      display:flex;\n",
       "      flex-wrap:wrap;\n",
       "      gap: 12px;\n",
       "    }\n",
       "\n",
       "    .colab-df-convert {\n",
       "      background-color: #E8F0FE;\n",
       "      border: none;\n",
       "      border-radius: 50%;\n",
       "      cursor: pointer;\n",
       "      display: none;\n",
       "      fill: #1967D2;\n",
       "      height: 32px;\n",
       "      padding: 0 0 0 0;\n",
       "      width: 32px;\n",
       "    }\n",
       "\n",
       "    .colab-df-convert:hover {\n",
       "      background-color: #E2EBFA;\n",
       "      box-shadow: 0px 1px 2px rgba(60, 64, 67, 0.3), 0px 1px 3px 1px rgba(60, 64, 67, 0.15);\n",
       "      fill: #174EA6;\n",
       "    }\n",
       "\n",
       "    [theme=dark] .colab-df-convert {\n",
       "      background-color: #3B4455;\n",
       "      fill: #D2E3FC;\n",
       "    }\n",
       "\n",
       "    [theme=dark] .colab-df-convert:hover {\n",
       "      background-color: #434B5C;\n",
       "      box-shadow: 0px 1px 3px 1px rgba(0, 0, 0, 0.15);\n",
       "      filter: drop-shadow(0px 1px 2px rgba(0, 0, 0, 0.3));\n",
       "      fill: #FFFFFF;\n",
       "    }\n",
       "  </style>\n",
       "\n",
       "      <script>\n",
       "        const buttonEl =\n",
       "          document.querySelector('#df-2d8bc22c-53d1-45a0-9f4b-a74d85912914 button.colab-df-convert');\n",
       "        buttonEl.style.display =\n",
       "          google.colab.kernel.accessAllowed ? 'block' : 'none';\n",
       "\n",
       "        async function convertToInteractive(key) {\n",
       "          const element = document.querySelector('#df-2d8bc22c-53d1-45a0-9f4b-a74d85912914');\n",
       "          const dataTable =\n",
       "            await google.colab.kernel.invokeFunction('convertToInteractive',\n",
       "                                                     [key], {});\n",
       "          if (!dataTable) return;\n",
       "\n",
       "          const docLinkHtml = 'Like what you see? Visit the ' +\n",
       "            '<a target=\"_blank\" href=https://colab.research.google.com/notebooks/data_table.ipynb>data table notebook</a>'\n",
       "            + ' to learn more about interactive tables.';\n",
       "          element.innerHTML = '';\n",
       "          dataTable['output_type'] = 'display_data';\n",
       "          await google.colab.output.renderOutput(dataTable, element);\n",
       "          const docLink = document.createElement('div');\n",
       "          docLink.innerHTML = docLinkHtml;\n",
       "          element.appendChild(docLink);\n",
       "        }\n",
       "      </script>\n",
       "    </div>\n",
       "  </div>\n",
       "  "
      ],
      "text/plain": [
       "         image_id image_location      turtle_id\n",
       "2140  ID_BDMVQH6G           left  t_id_SwQZGIpa\n",
       "2141  ID_JD58AF27           left  t_id_QqeoI5F3\n",
       "2142  ID_Y2LJOVUQ           left  t_id_Lhp87PBX\n",
       "2143  ID_GH1RFB6Z          right  t_id_FBsGDJhU\n",
       "2144  ID_A4XCXRO9           left  t_id_pCO59rOk"
      ]
     },
     "execution_count": 45,
     "metadata": {},
     "output_type": "execute_result"
    }
   ],
   "source": [
    "train_df.tail()"
   ]
  },
  {
   "cell_type": "markdown",
   "metadata": {
    "id": "hgTGh-ZHXNcm"
   },
   "source": [
    "\n",
    "Keep a copy of the train data frame"
   ]
  },
  {
   "cell_type": "code",
   "execution_count": 46,
   "metadata": {
    "id": "jqi6DVC_W1kS"
   },
   "outputs": [],
   "source": [
    "train_df_orig = train_df.copy()"
   ]
  },
  {
   "cell_type": "markdown",
   "metadata": {
    "id": "atuTfJg_SjGa"
   },
   "source": [
    "Import FastAI to check out your version to avoid disparities. As at the time of writing mine was 2.5.6 as long as you are not using version 1.x.x we should be good."
   ]
  },
  {
   "cell_type": "code",
   "execution_count": 7,
   "metadata": {
    "colab": {
     "base_uri": "https://localhost:8080/"
    },
    "id": "AbKwOOV3HBlH",
    "outputId": "1fb92cba-146e-4561-c2cd-be42598e39aa"
   },
   "outputs": [
    {
     "name": "stdout",
     "output_type": "stream",
     "text": [
      "2.5.6\n"
     ]
    }
   ],
   "source": [
    "import fastai\n",
    "print(fastai.__version__ )"
   ]
  },
  {
   "cell_type": "code",
   "execution_count": 8,
   "metadata": {
    "id": "H9CBIJSkHDPh"
   },
   "outputs": [],
   "source": [
    "from fastai.vision.all import *"
   ]
  },
  {
   "cell_type": "markdown",
   "metadata": {
    "id": "EYD9V-CNSjGd"
   },
   "source": [
    "###### Set Seed.\n",
    "We definitely don't want to be in the shoes of those not able to reproduce their score, so let's seed everything seedable...."
   ]
  },
  {
   "cell_type": "code",
   "execution_count": 9,
   "metadata": {
    "id": "FY620Ct5HFgX"
   },
   "outputs": [],
   "source": [
    " def random_seed(seed_value, use_cuda): \n",
    "    np.random.seed(seed_value)\n",
    " #cpu vars\n",
    "    torch.manual_seed(seed_value) \n",
    "# cpu  vars\n",
    "    random.seed(seed_value)\n",
    " # Python \n",
    "    if use_cuda: \n",
    "        torch.cuda.manual_seed(seed_value) \n",
    "        torch.cuda.manual_seed_all(seed_value) \n",
    "# gpu vars\n",
    "        torch.backends.cudnn.deterministic = True \n",
    " #needed\n",
    "        torch.backends.cudnn.benchmark = False \n",
    "#Remember to use num_workers=0 when creating the DataBunch."
   ]
  },
  {
   "cell_type": "code",
   "execution_count": 10,
   "metadata": {
    "id": "t-L4CJIQHH2P"
   },
   "outputs": [],
   "source": [
    "random_seed(2022,True)"
   ]
  },
  {
   "cell_type": "markdown",
   "metadata": {
    "id": "kx4kqpnRSjGf"
   },
   "source": [
    "###### preview DataFrames"
   ]
  },
  {
   "cell_type": "code",
   "execution_count": 11,
   "metadata": {
    "colab": {
     "base_uri": "https://localhost:8080/",
     "height": 206
    },
    "id": "GxQCMPOEHJqe",
    "outputId": "fac723bd-2f65-4ada-f09a-0510c9c52add"
   },
   "outputs": [
    {
     "data": {
      "text/html": [
       "\n",
       "  <div id=\"df-fe448572-94f6-4108-a38b-9e867680cb49\">\n",
       "    <div class=\"colab-df-container\">\n",
       "      <div>\n",
       "<style scoped>\n",
       "    .dataframe tbody tr th:only-of-type {\n",
       "        vertical-align: middle;\n",
       "    }\n",
       "\n",
       "    .dataframe tbody tr th {\n",
       "        vertical-align: top;\n",
       "    }\n",
       "\n",
       "    .dataframe thead th {\n",
       "        text-align: right;\n",
       "    }\n",
       "</style>\n",
       "<table border=\"1\" class=\"dataframe\">\n",
       "  <thead>\n",
       "    <tr style=\"text-align: right;\">\n",
       "      <th></th>\n",
       "      <th>image_id</th>\n",
       "      <th>image_location</th>\n",
       "      <th>turtle_id</th>\n",
       "    </tr>\n",
       "  </thead>\n",
       "  <tbody>\n",
       "    <tr>\n",
       "      <th>0</th>\n",
       "      <td>ID_2RK4WLN8</td>\n",
       "      <td>top</td>\n",
       "      <td>t_id_VP2NW7aV</td>\n",
       "    </tr>\n",
       "    <tr>\n",
       "      <th>1</th>\n",
       "      <td>ID_VVW0QXLX</td>\n",
       "      <td>left</td>\n",
       "      <td>t_id_qZ0iZYsC</td>\n",
       "    </tr>\n",
       "    <tr>\n",
       "      <th>2</th>\n",
       "      <td>ID_RVATH2HZ</td>\n",
       "      <td>right</td>\n",
       "      <td>t_id_3b65X5Lw</td>\n",
       "    </tr>\n",
       "    <tr>\n",
       "      <th>3</th>\n",
       "      <td>ID_2GB90GPS</td>\n",
       "      <td>left</td>\n",
       "      <td>t_id_YjXYTCGC</td>\n",
       "    </tr>\n",
       "    <tr>\n",
       "      <th>4</th>\n",
       "      <td>ID_LM6S0B1M</td>\n",
       "      <td>top</td>\n",
       "      <td>t_id_d6aYXtor</td>\n",
       "    </tr>\n",
       "  </tbody>\n",
       "</table>\n",
       "</div>\n",
       "      <button class=\"colab-df-convert\" onclick=\"convertToInteractive('df-fe448572-94f6-4108-a38b-9e867680cb49')\"\n",
       "              title=\"Convert this dataframe to an interactive table.\"\n",
       "              style=\"display:none;\">\n",
       "        \n",
       "  <svg xmlns=\"http://www.w3.org/2000/svg\" height=\"24px\"viewBox=\"0 0 24 24\"\n",
       "       width=\"24px\">\n",
       "    <path d=\"M0 0h24v24H0V0z\" fill=\"none\"/>\n",
       "    <path d=\"M18.56 5.44l.94 2.06.94-2.06 2.06-.94-2.06-.94-.94-2.06-.94 2.06-2.06.94zm-11 1L8.5 8.5l.94-2.06 2.06-.94-2.06-.94L8.5 2.5l-.94 2.06-2.06.94zm10 10l.94 2.06.94-2.06 2.06-.94-2.06-.94-.94-2.06-.94 2.06-2.06.94z\"/><path d=\"M17.41 7.96l-1.37-1.37c-.4-.4-.92-.59-1.43-.59-.52 0-1.04.2-1.43.59L10.3 9.45l-7.72 7.72c-.78.78-.78 2.05 0 2.83L4 21.41c.39.39.9.59 1.41.59.51 0 1.02-.2 1.41-.59l7.78-7.78 2.81-2.81c.8-.78.8-2.07 0-2.86zM5.41 20L4 18.59l7.72-7.72 1.47 1.35L5.41 20z\"/>\n",
       "  </svg>\n",
       "      </button>\n",
       "      \n",
       "  <style>\n",
       "    .colab-df-container {\n",
       "      display:flex;\n",
       "      flex-wrap:wrap;\n",
       "      gap: 12px;\n",
       "    }\n",
       "\n",
       "    .colab-df-convert {\n",
       "      background-color: #E8F0FE;\n",
       "      border: none;\n",
       "      border-radius: 50%;\n",
       "      cursor: pointer;\n",
       "      display: none;\n",
       "      fill: #1967D2;\n",
       "      height: 32px;\n",
       "      padding: 0 0 0 0;\n",
       "      width: 32px;\n",
       "    }\n",
       "\n",
       "    .colab-df-convert:hover {\n",
       "      background-color: #E2EBFA;\n",
       "      box-shadow: 0px 1px 2px rgba(60, 64, 67, 0.3), 0px 1px 3px 1px rgba(60, 64, 67, 0.15);\n",
       "      fill: #174EA6;\n",
       "    }\n",
       "\n",
       "    [theme=dark] .colab-df-convert {\n",
       "      background-color: #3B4455;\n",
       "      fill: #D2E3FC;\n",
       "    }\n",
       "\n",
       "    [theme=dark] .colab-df-convert:hover {\n",
       "      background-color: #434B5C;\n",
       "      box-shadow: 0px 1px 3px 1px rgba(0, 0, 0, 0.15);\n",
       "      filter: drop-shadow(0px 1px 2px rgba(0, 0, 0, 0.3));\n",
       "      fill: #FFFFFF;\n",
       "    }\n",
       "  </style>\n",
       "\n",
       "      <script>\n",
       "        const buttonEl =\n",
       "          document.querySelector('#df-fe448572-94f6-4108-a38b-9e867680cb49 button.colab-df-convert');\n",
       "        buttonEl.style.display =\n",
       "          google.colab.kernel.accessAllowed ? 'block' : 'none';\n",
       "\n",
       "        async function convertToInteractive(key) {\n",
       "          const element = document.querySelector('#df-fe448572-94f6-4108-a38b-9e867680cb49');\n",
       "          const dataTable =\n",
       "            await google.colab.kernel.invokeFunction('convertToInteractive',\n",
       "                                                     [key], {});\n",
       "          if (!dataTable) return;\n",
       "\n",
       "          const docLinkHtml = 'Like what you see? Visit the ' +\n",
       "            '<a target=\"_blank\" href=https://colab.research.google.com/notebooks/data_table.ipynb>data table notebook</a>'\n",
       "            + ' to learn more about interactive tables.';\n",
       "          element.innerHTML = '';\n",
       "          dataTable['output_type'] = 'display_data';\n",
       "          await google.colab.output.renderOutput(dataTable, element);\n",
       "          const docLink = document.createElement('div');\n",
       "          docLink.innerHTML = docLinkHtml;\n",
       "          element.appendChild(docLink);\n",
       "        }\n",
       "      </script>\n",
       "    </div>\n",
       "  </div>\n",
       "  "
      ],
      "text/plain": [
       "      image_id image_location      turtle_id\n",
       "0  ID_2RK4WLN8            top  t_id_VP2NW7aV\n",
       "1  ID_VVW0QXLX           left  t_id_qZ0iZYsC\n",
       "2  ID_RVATH2HZ          right  t_id_3b65X5Lw\n",
       "3  ID_2GB90GPS           left  t_id_YjXYTCGC\n",
       "4  ID_LM6S0B1M            top  t_id_d6aYXtor"
      ]
     },
     "execution_count": 11,
     "metadata": {},
     "output_type": "execute_result"
    }
   ],
   "source": [
    "train_df.head()"
   ]
  },
  {
   "cell_type": "code",
   "execution_count": 12,
   "metadata": {
    "colab": {
     "base_uri": "https://localhost:8080/",
     "height": 206
    },
    "id": "lRHDnpDNHLox",
    "outputId": "6b4578ef-7933-465f-df3d-251aacdc1061"
   },
   "outputs": [
    {
     "data": {
      "text/html": [
       "\n",
       "  <div id=\"df-9c0b3249-a2a7-4b32-b219-b64b7ad95604\">\n",
       "    <div class=\"colab-df-container\">\n",
       "      <div>\n",
       "<style scoped>\n",
       "    .dataframe tbody tr th:only-of-type {\n",
       "        vertical-align: middle;\n",
       "    }\n",
       "\n",
       "    .dataframe tbody tr th {\n",
       "        vertical-align: top;\n",
       "    }\n",
       "\n",
       "    .dataframe thead th {\n",
       "        text-align: right;\n",
       "    }\n",
       "</style>\n",
       "<table border=\"1\" class=\"dataframe\">\n",
       "  <thead>\n",
       "    <tr style=\"text-align: right;\">\n",
       "      <th></th>\n",
       "      <th>image_id</th>\n",
       "      <th>turtle_id</th>\n",
       "    </tr>\n",
       "  </thead>\n",
       "  <tbody>\n",
       "    <tr>\n",
       "      <th>10653</th>\n",
       "      <td>ID_PLYDY39S</td>\n",
       "      <td>t_id_9YXAIhtI</td>\n",
       "    </tr>\n",
       "    <tr>\n",
       "      <th>10654</th>\n",
       "      <td>ID_1EJCP0DF</td>\n",
       "      <td>t_id_9YXAIhtI</td>\n",
       "    </tr>\n",
       "    <tr>\n",
       "      <th>10655</th>\n",
       "      <td>ID_WXIGYROR</td>\n",
       "      <td>t_id_ajlHbN2F</td>\n",
       "    </tr>\n",
       "    <tr>\n",
       "      <th>10656</th>\n",
       "      <td>ID_UAU4GUNK</td>\n",
       "      <td>t_id_ajlHbN2F</td>\n",
       "    </tr>\n",
       "    <tr>\n",
       "      <th>10657</th>\n",
       "      <td>ID_Z02Y4N4V</td>\n",
       "      <td>t_id_ajlHbN2F</td>\n",
       "    </tr>\n",
       "  </tbody>\n",
       "</table>\n",
       "</div>\n",
       "      <button class=\"colab-df-convert\" onclick=\"convertToInteractive('df-9c0b3249-a2a7-4b32-b219-b64b7ad95604')\"\n",
       "              title=\"Convert this dataframe to an interactive table.\"\n",
       "              style=\"display:none;\">\n",
       "        \n",
       "  <svg xmlns=\"http://www.w3.org/2000/svg\" height=\"24px\"viewBox=\"0 0 24 24\"\n",
       "       width=\"24px\">\n",
       "    <path d=\"M0 0h24v24H0V0z\" fill=\"none\"/>\n",
       "    <path d=\"M18.56 5.44l.94 2.06.94-2.06 2.06-.94-2.06-.94-.94-2.06-.94 2.06-2.06.94zm-11 1L8.5 8.5l.94-2.06 2.06-.94-2.06-.94L8.5 2.5l-.94 2.06-2.06.94zm10 10l.94 2.06.94-2.06 2.06-.94-2.06-.94-.94-2.06-.94 2.06-2.06.94z\"/><path d=\"M17.41 7.96l-1.37-1.37c-.4-.4-.92-.59-1.43-.59-.52 0-1.04.2-1.43.59L10.3 9.45l-7.72 7.72c-.78.78-.78 2.05 0 2.83L4 21.41c.39.39.9.59 1.41.59.51 0 1.02-.2 1.41-.59l7.78-7.78 2.81-2.81c.8-.78.8-2.07 0-2.86zM5.41 20L4 18.59l7.72-7.72 1.47 1.35L5.41 20z\"/>\n",
       "  </svg>\n",
       "      </button>\n",
       "      \n",
       "  <style>\n",
       "    .colab-df-container {\n",
       "      display:flex;\n",
       "      flex-wrap:wrap;\n",
       "      gap: 12px;\n",
       "    }\n",
       "\n",
       "    .colab-df-convert {\n",
       "      background-color: #E8F0FE;\n",
       "      border: none;\n",
       "      border-radius: 50%;\n",
       "      cursor: pointer;\n",
       "      display: none;\n",
       "      fill: #1967D2;\n",
       "      height: 32px;\n",
       "      padding: 0 0 0 0;\n",
       "      width: 32px;\n",
       "    }\n",
       "\n",
       "    .colab-df-convert:hover {\n",
       "      background-color: #E2EBFA;\n",
       "      box-shadow: 0px 1px 2px rgba(60, 64, 67, 0.3), 0px 1px 3px 1px rgba(60, 64, 67, 0.15);\n",
       "      fill: #174EA6;\n",
       "    }\n",
       "\n",
       "    [theme=dark] .colab-df-convert {\n",
       "      background-color: #3B4455;\n",
       "      fill: #D2E3FC;\n",
       "    }\n",
       "\n",
       "    [theme=dark] .colab-df-convert:hover {\n",
       "      background-color: #434B5C;\n",
       "      box-shadow: 0px 1px 3px 1px rgba(0, 0, 0, 0.15);\n",
       "      filter: drop-shadow(0px 1px 2px rgba(0, 0, 0, 0.3));\n",
       "      fill: #FFFFFF;\n",
       "    }\n",
       "  </style>\n",
       "\n",
       "      <script>\n",
       "        const buttonEl =\n",
       "          document.querySelector('#df-9c0b3249-a2a7-4b32-b219-b64b7ad95604 button.colab-df-convert');\n",
       "        buttonEl.style.display =\n",
       "          google.colab.kernel.accessAllowed ? 'block' : 'none';\n",
       "\n",
       "        async function convertToInteractive(key) {\n",
       "          const element = document.querySelector('#df-9c0b3249-a2a7-4b32-b219-b64b7ad95604');\n",
       "          const dataTable =\n",
       "            await google.colab.kernel.invokeFunction('convertToInteractive',\n",
       "                                                     [key], {});\n",
       "          if (!dataTable) return;\n",
       "\n",
       "          const docLinkHtml = 'Like what you see? Visit the ' +\n",
       "            '<a target=\"_blank\" href=https://colab.research.google.com/notebooks/data_table.ipynb>data table notebook</a>'\n",
       "            + ' to learn more about interactive tables.';\n",
       "          element.innerHTML = '';\n",
       "          dataTable['output_type'] = 'display_data';\n",
       "          await google.colab.output.renderOutput(dataTable, element);\n",
       "          const docLink = document.createElement('div');\n",
       "          docLink.innerHTML = docLinkHtml;\n",
       "          element.appendChild(docLink);\n",
       "        }\n",
       "      </script>\n",
       "    </div>\n",
       "  </div>\n",
       "  "
      ],
      "text/plain": [
       "          image_id      turtle_id\n",
       "10653  ID_PLYDY39S  t_id_9YXAIhtI\n",
       "10654  ID_1EJCP0DF  t_id_9YXAIhtI\n",
       "10655  ID_WXIGYROR  t_id_ajlHbN2F\n",
       "10656  ID_UAU4GUNK  t_id_ajlHbN2F\n",
       "10657  ID_Z02Y4N4V  t_id_ajlHbN2F"
      ]
     },
     "execution_count": 12,
     "metadata": {},
     "output_type": "execute_result"
    }
   ],
   "source": [
    "extra_images.tail()"
   ]
  },
  {
   "cell_type": "code",
   "execution_count": 13,
   "metadata": {
    "colab": {
     "base_uri": "https://localhost:8080/",
     "height": 206
    },
    "id": "qx7WzgvbHZRH",
    "outputId": "1e645e73-e77b-4c8f-eb7a-97889315a028"
   },
   "outputs": [
    {
     "data": {
      "text/html": [
       "\n",
       "  <div id=\"df-fd4ec0e1-2a15-4048-839e-3c9cd5e51572\">\n",
       "    <div class=\"colab-df-container\">\n",
       "      <div>\n",
       "<style scoped>\n",
       "    .dataframe tbody tr th:only-of-type {\n",
       "        vertical-align: middle;\n",
       "    }\n",
       "\n",
       "    .dataframe tbody tr th {\n",
       "        vertical-align: top;\n",
       "    }\n",
       "\n",
       "    .dataframe thead th {\n",
       "        text-align: right;\n",
       "    }\n",
       "</style>\n",
       "<table border=\"1\" class=\"dataframe\">\n",
       "  <thead>\n",
       "    <tr style=\"text-align: right;\">\n",
       "      <th></th>\n",
       "      <th>image_id</th>\n",
       "      <th>image_location</th>\n",
       "      <th>turtle_id</th>\n",
       "    </tr>\n",
       "  </thead>\n",
       "  <tbody>\n",
       "    <tr>\n",
       "      <th>2140</th>\n",
       "      <td>ID_BDMVQH6G</td>\n",
       "      <td>left</td>\n",
       "      <td>t_id_SwQZGIpa</td>\n",
       "    </tr>\n",
       "    <tr>\n",
       "      <th>2141</th>\n",
       "      <td>ID_JD58AF27</td>\n",
       "      <td>left</td>\n",
       "      <td>t_id_QqeoI5F3</td>\n",
       "    </tr>\n",
       "    <tr>\n",
       "      <th>2142</th>\n",
       "      <td>ID_Y2LJOVUQ</td>\n",
       "      <td>left</td>\n",
       "      <td>t_id_Lhp87PBX</td>\n",
       "    </tr>\n",
       "    <tr>\n",
       "      <th>2143</th>\n",
       "      <td>ID_GH1RFB6Z</td>\n",
       "      <td>right</td>\n",
       "      <td>t_id_FBsGDJhU</td>\n",
       "    </tr>\n",
       "    <tr>\n",
       "      <th>2144</th>\n",
       "      <td>ID_A4XCXRO9</td>\n",
       "      <td>left</td>\n",
       "      <td>t_id_pCO59rOk</td>\n",
       "    </tr>\n",
       "  </tbody>\n",
       "</table>\n",
       "</div>\n",
       "      <button class=\"colab-df-convert\" onclick=\"convertToInteractive('df-fd4ec0e1-2a15-4048-839e-3c9cd5e51572')\"\n",
       "              title=\"Convert this dataframe to an interactive table.\"\n",
       "              style=\"display:none;\">\n",
       "        \n",
       "  <svg xmlns=\"http://www.w3.org/2000/svg\" height=\"24px\"viewBox=\"0 0 24 24\"\n",
       "       width=\"24px\">\n",
       "    <path d=\"M0 0h24v24H0V0z\" fill=\"none\"/>\n",
       "    <path d=\"M18.56 5.44l.94 2.06.94-2.06 2.06-.94-2.06-.94-.94-2.06-.94 2.06-2.06.94zm-11 1L8.5 8.5l.94-2.06 2.06-.94-2.06-.94L8.5 2.5l-.94 2.06-2.06.94zm10 10l.94 2.06.94-2.06 2.06-.94-2.06-.94-.94-2.06-.94 2.06-2.06.94z\"/><path d=\"M17.41 7.96l-1.37-1.37c-.4-.4-.92-.59-1.43-.59-.52 0-1.04.2-1.43.59L10.3 9.45l-7.72 7.72c-.78.78-.78 2.05 0 2.83L4 21.41c.39.39.9.59 1.41.59.51 0 1.02-.2 1.41-.59l7.78-7.78 2.81-2.81c.8-.78.8-2.07 0-2.86zM5.41 20L4 18.59l7.72-7.72 1.47 1.35L5.41 20z\"/>\n",
       "  </svg>\n",
       "      </button>\n",
       "      \n",
       "  <style>\n",
       "    .colab-df-container {\n",
       "      display:flex;\n",
       "      flex-wrap:wrap;\n",
       "      gap: 12px;\n",
       "    }\n",
       "\n",
       "    .colab-df-convert {\n",
       "      background-color: #E8F0FE;\n",
       "      border: none;\n",
       "      border-radius: 50%;\n",
       "      cursor: pointer;\n",
       "      display: none;\n",
       "      fill: #1967D2;\n",
       "      height: 32px;\n",
       "      padding: 0 0 0 0;\n",
       "      width: 32px;\n",
       "    }\n",
       "\n",
       "    .colab-df-convert:hover {\n",
       "      background-color: #E2EBFA;\n",
       "      box-shadow: 0px 1px 2px rgba(60, 64, 67, 0.3), 0px 1px 3px 1px rgba(60, 64, 67, 0.15);\n",
       "      fill: #174EA6;\n",
       "    }\n",
       "\n",
       "    [theme=dark] .colab-df-convert {\n",
       "      background-color: #3B4455;\n",
       "      fill: #D2E3FC;\n",
       "    }\n",
       "\n",
       "    [theme=dark] .colab-df-convert:hover {\n",
       "      background-color: #434B5C;\n",
       "      box-shadow: 0px 1px 3px 1px rgba(0, 0, 0, 0.15);\n",
       "      filter: drop-shadow(0px 1px 2px rgba(0, 0, 0, 0.3));\n",
       "      fill: #FFFFFF;\n",
       "    }\n",
       "  </style>\n",
       "\n",
       "      <script>\n",
       "        const buttonEl =\n",
       "          document.querySelector('#df-fd4ec0e1-2a15-4048-839e-3c9cd5e51572 button.colab-df-convert');\n",
       "        buttonEl.style.display =\n",
       "          google.colab.kernel.accessAllowed ? 'block' : 'none';\n",
       "\n",
       "        async function convertToInteractive(key) {\n",
       "          const element = document.querySelector('#df-fd4ec0e1-2a15-4048-839e-3c9cd5e51572');\n",
       "          const dataTable =\n",
       "            await google.colab.kernel.invokeFunction('convertToInteractive',\n",
       "                                                     [key], {});\n",
       "          if (!dataTable) return;\n",
       "\n",
       "          const docLinkHtml = 'Like what you see? Visit the ' +\n",
       "            '<a target=\"_blank\" href=https://colab.research.google.com/notebooks/data_table.ipynb>data table notebook</a>'\n",
       "            + ' to learn more about interactive tables.';\n",
       "          element.innerHTML = '';\n",
       "          dataTable['output_type'] = 'display_data';\n",
       "          await google.colab.output.renderOutput(dataTable, element);\n",
       "          const docLink = document.createElement('div');\n",
       "          docLink.innerHTML = docLinkHtml;\n",
       "          element.appendChild(docLink);\n",
       "        }\n",
       "      </script>\n",
       "    </div>\n",
       "  </div>\n",
       "  "
      ],
      "text/plain": [
       "         image_id image_location      turtle_id\n",
       "2140  ID_BDMVQH6G           left  t_id_SwQZGIpa\n",
       "2141  ID_JD58AF27           left  t_id_QqeoI5F3\n",
       "2142  ID_Y2LJOVUQ           left  t_id_Lhp87PBX\n",
       "2143  ID_GH1RFB6Z          right  t_id_FBsGDJhU\n",
       "2144  ID_A4XCXRO9           left  t_id_pCO59rOk"
      ]
     },
     "execution_count": 13,
     "metadata": {},
     "output_type": "execute_result"
    }
   ],
   "source": [
    "train_df.tail()"
   ]
  },
  {
   "cell_type": "markdown",
   "metadata": {
    "id": "eR28bnbZSjGi"
   },
   "source": [
    "The extra images dataset has exactly 2231 unique classes"
   ]
  },
  {
   "cell_type": "code",
   "execution_count": 14,
   "metadata": {
    "colab": {
     "base_uri": "https://localhost:8080/"
    },
    "id": "QbCEtARLI83R",
    "outputId": "1e37f606-c84e-4236-b7cf-27d2df57f4f8"
   },
   "outputs": [
    {
     "data": {
      "text/plain": [
       "2231"
      ]
     },
     "execution_count": 14,
     "metadata": {},
     "output_type": "execute_result"
    }
   ],
   "source": [
    "len(extra_images.turtle_id.unique())"
   ]
  },
  {
   "cell_type": "code",
   "execution_count": 15,
   "metadata": {
    "colab": {
     "base_uri": "https://localhost:8080/",
     "height": 206
    },
    "id": "VCgI0IqJl1cO",
    "outputId": "6b5b9079-d45b-4b24-b5c8-46c30240c4b8"
   },
   "outputs": [
    {
     "data": {
      "text/html": [
       "\n",
       "  <div id=\"df-76eee2f1-5bf0-4ddc-afb8-c89c42e30a66\">\n",
       "    <div class=\"colab-df-container\">\n",
       "      <div>\n",
       "<style scoped>\n",
       "    .dataframe tbody tr th:only-of-type {\n",
       "        vertical-align: middle;\n",
       "    }\n",
       "\n",
       "    .dataframe tbody tr th {\n",
       "        vertical-align: top;\n",
       "    }\n",
       "\n",
       "    .dataframe thead th {\n",
       "        text-align: right;\n",
       "    }\n",
       "</style>\n",
       "<table border=\"1\" class=\"dataframe\">\n",
       "  <thead>\n",
       "    <tr style=\"text-align: right;\">\n",
       "      <th></th>\n",
       "      <th>image_id</th>\n",
       "      <th>turtle_id</th>\n",
       "    </tr>\n",
       "  </thead>\n",
       "  <tbody>\n",
       "    <tr>\n",
       "      <th>10653</th>\n",
       "      <td>ID_PLYDY39S</td>\n",
       "      <td>t_id_9YXAIhtI</td>\n",
       "    </tr>\n",
       "    <tr>\n",
       "      <th>10654</th>\n",
       "      <td>ID_1EJCP0DF</td>\n",
       "      <td>t_id_9YXAIhtI</td>\n",
       "    </tr>\n",
       "    <tr>\n",
       "      <th>10655</th>\n",
       "      <td>ID_WXIGYROR</td>\n",
       "      <td>t_id_ajlHbN2F</td>\n",
       "    </tr>\n",
       "    <tr>\n",
       "      <th>10656</th>\n",
       "      <td>ID_UAU4GUNK</td>\n",
       "      <td>t_id_ajlHbN2F</td>\n",
       "    </tr>\n",
       "    <tr>\n",
       "      <th>10657</th>\n",
       "      <td>ID_Z02Y4N4V</td>\n",
       "      <td>t_id_ajlHbN2F</td>\n",
       "    </tr>\n",
       "  </tbody>\n",
       "</table>\n",
       "</div>\n",
       "      <button class=\"colab-df-convert\" onclick=\"convertToInteractive('df-76eee2f1-5bf0-4ddc-afb8-c89c42e30a66')\"\n",
       "              title=\"Convert this dataframe to an interactive table.\"\n",
       "              style=\"display:none;\">\n",
       "        \n",
       "  <svg xmlns=\"http://www.w3.org/2000/svg\" height=\"24px\"viewBox=\"0 0 24 24\"\n",
       "       width=\"24px\">\n",
       "    <path d=\"M0 0h24v24H0V0z\" fill=\"none\"/>\n",
       "    <path d=\"M18.56 5.44l.94 2.06.94-2.06 2.06-.94-2.06-.94-.94-2.06-.94 2.06-2.06.94zm-11 1L8.5 8.5l.94-2.06 2.06-.94-2.06-.94L8.5 2.5l-.94 2.06-2.06.94zm10 10l.94 2.06.94-2.06 2.06-.94-2.06-.94-.94-2.06-.94 2.06-2.06.94z\"/><path d=\"M17.41 7.96l-1.37-1.37c-.4-.4-.92-.59-1.43-.59-.52 0-1.04.2-1.43.59L10.3 9.45l-7.72 7.72c-.78.78-.78 2.05 0 2.83L4 21.41c.39.39.9.59 1.41.59.51 0 1.02-.2 1.41-.59l7.78-7.78 2.81-2.81c.8-.78.8-2.07 0-2.86zM5.41 20L4 18.59l7.72-7.72 1.47 1.35L5.41 20z\"/>\n",
       "  </svg>\n",
       "      </button>\n",
       "      \n",
       "  <style>\n",
       "    .colab-df-container {\n",
       "      display:flex;\n",
       "      flex-wrap:wrap;\n",
       "      gap: 12px;\n",
       "    }\n",
       "\n",
       "    .colab-df-convert {\n",
       "      background-color: #E8F0FE;\n",
       "      border: none;\n",
       "      border-radius: 50%;\n",
       "      cursor: pointer;\n",
       "      display: none;\n",
       "      fill: #1967D2;\n",
       "      height: 32px;\n",
       "      padding: 0 0 0 0;\n",
       "      width: 32px;\n",
       "    }\n",
       "\n",
       "    .colab-df-convert:hover {\n",
       "      background-color: #E2EBFA;\n",
       "      box-shadow: 0px 1px 2px rgba(60, 64, 67, 0.3), 0px 1px 3px 1px rgba(60, 64, 67, 0.15);\n",
       "      fill: #174EA6;\n",
       "    }\n",
       "\n",
       "    [theme=dark] .colab-df-convert {\n",
       "      background-color: #3B4455;\n",
       "      fill: #D2E3FC;\n",
       "    }\n",
       "\n",
       "    [theme=dark] .colab-df-convert:hover {\n",
       "      background-color: #434B5C;\n",
       "      box-shadow: 0px 1px 3px 1px rgba(0, 0, 0, 0.15);\n",
       "      filter: drop-shadow(0px 1px 2px rgba(0, 0, 0, 0.3));\n",
       "      fill: #FFFFFF;\n",
       "    }\n",
       "  </style>\n",
       "\n",
       "      <script>\n",
       "        const buttonEl =\n",
       "          document.querySelector('#df-76eee2f1-5bf0-4ddc-afb8-c89c42e30a66 button.colab-df-convert');\n",
       "        buttonEl.style.display =\n",
       "          google.colab.kernel.accessAllowed ? 'block' : 'none';\n",
       "\n",
       "        async function convertToInteractive(key) {\n",
       "          const element = document.querySelector('#df-76eee2f1-5bf0-4ddc-afb8-c89c42e30a66');\n",
       "          const dataTable =\n",
       "            await google.colab.kernel.invokeFunction('convertToInteractive',\n",
       "                                                     [key], {});\n",
       "          if (!dataTable) return;\n",
       "\n",
       "          const docLinkHtml = 'Like what you see? Visit the ' +\n",
       "            '<a target=\"_blank\" href=https://colab.research.google.com/notebooks/data_table.ipynb>data table notebook</a>'\n",
       "            + ' to learn more about interactive tables.';\n",
       "          element.innerHTML = '';\n",
       "          dataTable['output_type'] = 'display_data';\n",
       "          await google.colab.output.renderOutput(dataTable, element);\n",
       "          const docLink = document.createElement('div');\n",
       "          docLink.innerHTML = docLinkHtml;\n",
       "          element.appendChild(docLink);\n",
       "        }\n",
       "      </script>\n",
       "    </div>\n",
       "  </div>\n",
       "  "
      ],
      "text/plain": [
       "          image_id      turtle_id\n",
       "10653  ID_PLYDY39S  t_id_9YXAIhtI\n",
       "10654  ID_1EJCP0DF  t_id_9YXAIhtI\n",
       "10655  ID_WXIGYROR  t_id_ajlHbN2F\n",
       "10656  ID_UAU4GUNK  t_id_ajlHbN2F\n",
       "10657  ID_Z02Y4N4V  t_id_ajlHbN2F"
      ]
     },
     "execution_count": 15,
     "metadata": {},
     "output_type": "execute_result"
    }
   ],
   "source": [
    "extra_images.tail()"
   ]
  },
  {
   "cell_type": "markdown",
   "metadata": {
    "id": "lhHxTf5CmJrm"
   },
   "source": [
    "I didn't use the Image location at all, so I dropped it"
   ]
  },
  {
   "cell_type": "code",
   "execution_count": 16,
   "metadata": {
    "id": "kRHeLYn_JoLh"
   },
   "outputs": [],
   "source": [
    "train_df = train_df.drop(\"image_location\", axis=1).append(extra_images).reset_index(drop=True)"
   ]
  },
  {
   "cell_type": "markdown",
   "metadata": {
    "id": "RED67w92jjLl"
   },
   "source": [
    "I created a new column called label count. I didn't intend to use all the Extra data, especially those labels that have small number of images"
   ]
  },
  {
   "cell_type": "code",
   "execution_count": 17,
   "metadata": {
    "id": "buGltjVrsz49"
   },
   "outputs": [],
   "source": [
    "count_dict = dict(train_df.turtle_id.value_counts())\n",
    "train_df[\"label_count\"] = [count_dict[x] for x in train_df.turtle_id]"
   ]
  },
  {
   "cell_type": "code",
   "execution_count": 18,
   "metadata": {
    "colab": {
     "base_uri": "https://localhost:8080/",
     "height": 424
    },
    "id": "nomRByfhkUwV",
    "outputId": "79ec5d37-8a36-40bb-ae23-3998d2bc394f"
   },
   "outputs": [
    {
     "data": {
      "text/html": [
       "\n",
       "  <div id=\"df-18ae79ec-0f1b-4ac6-a894-bae02848d3b3\">\n",
       "    <div class=\"colab-df-container\">\n",
       "      <div>\n",
       "<style scoped>\n",
       "    .dataframe tbody tr th:only-of-type {\n",
       "        vertical-align: middle;\n",
       "    }\n",
       "\n",
       "    .dataframe tbody tr th {\n",
       "        vertical-align: top;\n",
       "    }\n",
       "\n",
       "    .dataframe thead th {\n",
       "        text-align: right;\n",
       "    }\n",
       "</style>\n",
       "<table border=\"1\" class=\"dataframe\">\n",
       "  <thead>\n",
       "    <tr style=\"text-align: right;\">\n",
       "      <th></th>\n",
       "      <th>image_id</th>\n",
       "      <th>turtle_id</th>\n",
       "      <th>label_count</th>\n",
       "    </tr>\n",
       "  </thead>\n",
       "  <tbody>\n",
       "    <tr>\n",
       "      <th>0</th>\n",
       "      <td>ID_2RK4WLN8</td>\n",
       "      <td>t_id_VP2NW7aV</td>\n",
       "      <td>69</td>\n",
       "    </tr>\n",
       "    <tr>\n",
       "      <th>1</th>\n",
       "      <td>ID_VVW0QXLX</td>\n",
       "      <td>t_id_qZ0iZYsC</td>\n",
       "      <td>23</td>\n",
       "    </tr>\n",
       "    <tr>\n",
       "      <th>2</th>\n",
       "      <td>ID_RVATH2HZ</td>\n",
       "      <td>t_id_3b65X5Lw</td>\n",
       "      <td>26</td>\n",
       "    </tr>\n",
       "    <tr>\n",
       "      <th>3</th>\n",
       "      <td>ID_2GB90GPS</td>\n",
       "      <td>t_id_YjXYTCGC</td>\n",
       "      <td>71</td>\n",
       "    </tr>\n",
       "    <tr>\n",
       "      <th>4</th>\n",
       "      <td>ID_LM6S0B1M</td>\n",
       "      <td>t_id_d6aYXtor</td>\n",
       "      <td>11</td>\n",
       "    </tr>\n",
       "    <tr>\n",
       "      <th>...</th>\n",
       "      <td>...</td>\n",
       "      <td>...</td>\n",
       "      <td>...</td>\n",
       "    </tr>\n",
       "    <tr>\n",
       "      <th>12798</th>\n",
       "      <td>ID_PLYDY39S</td>\n",
       "      <td>t_id_9YXAIhtI</td>\n",
       "      <td>3</td>\n",
       "    </tr>\n",
       "    <tr>\n",
       "      <th>12799</th>\n",
       "      <td>ID_1EJCP0DF</td>\n",
       "      <td>t_id_9YXAIhtI</td>\n",
       "      <td>3</td>\n",
       "    </tr>\n",
       "    <tr>\n",
       "      <th>12800</th>\n",
       "      <td>ID_WXIGYROR</td>\n",
       "      <td>t_id_ajlHbN2F</td>\n",
       "      <td>3</td>\n",
       "    </tr>\n",
       "    <tr>\n",
       "      <th>12801</th>\n",
       "      <td>ID_UAU4GUNK</td>\n",
       "      <td>t_id_ajlHbN2F</td>\n",
       "      <td>3</td>\n",
       "    </tr>\n",
       "    <tr>\n",
       "      <th>12802</th>\n",
       "      <td>ID_Z02Y4N4V</td>\n",
       "      <td>t_id_ajlHbN2F</td>\n",
       "      <td>3</td>\n",
       "    </tr>\n",
       "  </tbody>\n",
       "</table>\n",
       "<p>12803 rows × 3 columns</p>\n",
       "</div>\n",
       "      <button class=\"colab-df-convert\" onclick=\"convertToInteractive('df-18ae79ec-0f1b-4ac6-a894-bae02848d3b3')\"\n",
       "              title=\"Convert this dataframe to an interactive table.\"\n",
       "              style=\"display:none;\">\n",
       "        \n",
       "  <svg xmlns=\"http://www.w3.org/2000/svg\" height=\"24px\"viewBox=\"0 0 24 24\"\n",
       "       width=\"24px\">\n",
       "    <path d=\"M0 0h24v24H0V0z\" fill=\"none\"/>\n",
       "    <path d=\"M18.56 5.44l.94 2.06.94-2.06 2.06-.94-2.06-.94-.94-2.06-.94 2.06-2.06.94zm-11 1L8.5 8.5l.94-2.06 2.06-.94-2.06-.94L8.5 2.5l-.94 2.06-2.06.94zm10 10l.94 2.06.94-2.06 2.06-.94-2.06-.94-.94-2.06-.94 2.06-2.06.94z\"/><path d=\"M17.41 7.96l-1.37-1.37c-.4-.4-.92-.59-1.43-.59-.52 0-1.04.2-1.43.59L10.3 9.45l-7.72 7.72c-.78.78-.78 2.05 0 2.83L4 21.41c.39.39.9.59 1.41.59.51 0 1.02-.2 1.41-.59l7.78-7.78 2.81-2.81c.8-.78.8-2.07 0-2.86zM5.41 20L4 18.59l7.72-7.72 1.47 1.35L5.41 20z\"/>\n",
       "  </svg>\n",
       "      </button>\n",
       "      \n",
       "  <style>\n",
       "    .colab-df-container {\n",
       "      display:flex;\n",
       "      flex-wrap:wrap;\n",
       "      gap: 12px;\n",
       "    }\n",
       "\n",
       "    .colab-df-convert {\n",
       "      background-color: #E8F0FE;\n",
       "      border: none;\n",
       "      border-radius: 50%;\n",
       "      cursor: pointer;\n",
       "      display: none;\n",
       "      fill: #1967D2;\n",
       "      height: 32px;\n",
       "      padding: 0 0 0 0;\n",
       "      width: 32px;\n",
       "    }\n",
       "\n",
       "    .colab-df-convert:hover {\n",
       "      background-color: #E2EBFA;\n",
       "      box-shadow: 0px 1px 2px rgba(60, 64, 67, 0.3), 0px 1px 3px 1px rgba(60, 64, 67, 0.15);\n",
       "      fill: #174EA6;\n",
       "    }\n",
       "\n",
       "    [theme=dark] .colab-df-convert {\n",
       "      background-color: #3B4455;\n",
       "      fill: #D2E3FC;\n",
       "    }\n",
       "\n",
       "    [theme=dark] .colab-df-convert:hover {\n",
       "      background-color: #434B5C;\n",
       "      box-shadow: 0px 1px 3px 1px rgba(0, 0, 0, 0.15);\n",
       "      filter: drop-shadow(0px 1px 2px rgba(0, 0, 0, 0.3));\n",
       "      fill: #FFFFFF;\n",
       "    }\n",
       "  </style>\n",
       "\n",
       "      <script>\n",
       "        const buttonEl =\n",
       "          document.querySelector('#df-18ae79ec-0f1b-4ac6-a894-bae02848d3b3 button.colab-df-convert');\n",
       "        buttonEl.style.display =\n",
       "          google.colab.kernel.accessAllowed ? 'block' : 'none';\n",
       "\n",
       "        async function convertToInteractive(key) {\n",
       "          const element = document.querySelector('#df-18ae79ec-0f1b-4ac6-a894-bae02848d3b3');\n",
       "          const dataTable =\n",
       "            await google.colab.kernel.invokeFunction('convertToInteractive',\n",
       "                                                     [key], {});\n",
       "          if (!dataTable) return;\n",
       "\n",
       "          const docLinkHtml = 'Like what you see? Visit the ' +\n",
       "            '<a target=\"_blank\" href=https://colab.research.google.com/notebooks/data_table.ipynb>data table notebook</a>'\n",
       "            + ' to learn more about interactive tables.';\n",
       "          element.innerHTML = '';\n",
       "          dataTable['output_type'] = 'display_data';\n",
       "          await google.colab.output.renderOutput(dataTable, element);\n",
       "          const docLink = document.createElement('div');\n",
       "          docLink.innerHTML = docLinkHtml;\n",
       "          element.appendChild(docLink);\n",
       "        }\n",
       "      </script>\n",
       "    </div>\n",
       "  </div>\n",
       "  "
      ],
      "text/plain": [
       "          image_id      turtle_id  label_count\n",
       "0      ID_2RK4WLN8  t_id_VP2NW7aV           69\n",
       "1      ID_VVW0QXLX  t_id_qZ0iZYsC           23\n",
       "2      ID_RVATH2HZ  t_id_3b65X5Lw           26\n",
       "3      ID_2GB90GPS  t_id_YjXYTCGC           71\n",
       "4      ID_LM6S0B1M  t_id_d6aYXtor           11\n",
       "...            ...            ...          ...\n",
       "12798  ID_PLYDY39S  t_id_9YXAIhtI            3\n",
       "12799  ID_1EJCP0DF  t_id_9YXAIhtI            3\n",
       "12800  ID_WXIGYROR  t_id_ajlHbN2F            3\n",
       "12801  ID_UAU4GUNK  t_id_ajlHbN2F            3\n",
       "12802  ID_Z02Y4N4V  t_id_ajlHbN2F            3\n",
       "\n",
       "[12803 rows x 3 columns]"
      ]
     },
     "execution_count": 18,
     "metadata": {},
     "output_type": "execute_result"
    }
   ],
   "source": [
    "train_df"
   ]
  },
  {
   "cell_type": "markdown",
   "metadata": {
    "id": "OPDTS8QiLOIX"
   },
   "source": [
    "I'm just simply appending the paths in front of the file name and \".jpg\" as a suffix so that the image ids column can contain paths to the image. There are better ways of doing this though......you could even do all this in your data loader......✌"
   ]
  },
  {
   "cell_type": "code",
   "execution_count": 19,
   "metadata": {
    "id": "oYXRivKZPuQg"
   },
   "outputs": [],
   "source": [
    "train_df.image_id    = [\"/content/turtle_recall/images/\"+i+\".JPG\" for i in train_df.image_id]"
   ]
  },
  {
   "cell_type": "code",
   "execution_count": 20,
   "metadata": {
    "colab": {
     "base_uri": "https://localhost:8080/",
     "height": 424
    },
    "id": "xu_zd4iEPPN7",
    "outputId": "11473fab-8e0f-4dab-9018-1088be17fc2c"
   },
   "outputs": [
    {
     "data": {
      "text/html": [
       "\n",
       "  <div id=\"df-19a3f119-8203-4b75-b4ee-5eadb201835d\">\n",
       "    <div class=\"colab-df-container\">\n",
       "      <div>\n",
       "<style scoped>\n",
       "    .dataframe tbody tr th:only-of-type {\n",
       "        vertical-align: middle;\n",
       "    }\n",
       "\n",
       "    .dataframe tbody tr th {\n",
       "        vertical-align: top;\n",
       "    }\n",
       "\n",
       "    .dataframe thead th {\n",
       "        text-align: right;\n",
       "    }\n",
       "</style>\n",
       "<table border=\"1\" class=\"dataframe\">\n",
       "  <thead>\n",
       "    <tr style=\"text-align: right;\">\n",
       "      <th></th>\n",
       "      <th>image_id</th>\n",
       "      <th>turtle_id</th>\n",
       "      <th>label_count</th>\n",
       "    </tr>\n",
       "  </thead>\n",
       "  <tbody>\n",
       "    <tr>\n",
       "      <th>0</th>\n",
       "      <td>/content/turtle_recall/images/ID_2RK4WLN8.JPG</td>\n",
       "      <td>t_id_VP2NW7aV</td>\n",
       "      <td>69</td>\n",
       "    </tr>\n",
       "    <tr>\n",
       "      <th>1</th>\n",
       "      <td>/content/turtle_recall/images/ID_VVW0QXLX.JPG</td>\n",
       "      <td>t_id_qZ0iZYsC</td>\n",
       "      <td>23</td>\n",
       "    </tr>\n",
       "    <tr>\n",
       "      <th>2</th>\n",
       "      <td>/content/turtle_recall/images/ID_RVATH2HZ.JPG</td>\n",
       "      <td>t_id_3b65X5Lw</td>\n",
       "      <td>26</td>\n",
       "    </tr>\n",
       "    <tr>\n",
       "      <th>3</th>\n",
       "      <td>/content/turtle_recall/images/ID_2GB90GPS.JPG</td>\n",
       "      <td>t_id_YjXYTCGC</td>\n",
       "      <td>71</td>\n",
       "    </tr>\n",
       "    <tr>\n",
       "      <th>4</th>\n",
       "      <td>/content/turtle_recall/images/ID_LM6S0B1M.JPG</td>\n",
       "      <td>t_id_d6aYXtor</td>\n",
       "      <td>11</td>\n",
       "    </tr>\n",
       "    <tr>\n",
       "      <th>...</th>\n",
       "      <td>...</td>\n",
       "      <td>...</td>\n",
       "      <td>...</td>\n",
       "    </tr>\n",
       "    <tr>\n",
       "      <th>12798</th>\n",
       "      <td>/content/turtle_recall/images/ID_PLYDY39S.JPG</td>\n",
       "      <td>t_id_9YXAIhtI</td>\n",
       "      <td>3</td>\n",
       "    </tr>\n",
       "    <tr>\n",
       "      <th>12799</th>\n",
       "      <td>/content/turtle_recall/images/ID_1EJCP0DF.JPG</td>\n",
       "      <td>t_id_9YXAIhtI</td>\n",
       "      <td>3</td>\n",
       "    </tr>\n",
       "    <tr>\n",
       "      <th>12800</th>\n",
       "      <td>/content/turtle_recall/images/ID_WXIGYROR.JPG</td>\n",
       "      <td>t_id_ajlHbN2F</td>\n",
       "      <td>3</td>\n",
       "    </tr>\n",
       "    <tr>\n",
       "      <th>12801</th>\n",
       "      <td>/content/turtle_recall/images/ID_UAU4GUNK.JPG</td>\n",
       "      <td>t_id_ajlHbN2F</td>\n",
       "      <td>3</td>\n",
       "    </tr>\n",
       "    <tr>\n",
       "      <th>12802</th>\n",
       "      <td>/content/turtle_recall/images/ID_Z02Y4N4V.JPG</td>\n",
       "      <td>t_id_ajlHbN2F</td>\n",
       "      <td>3</td>\n",
       "    </tr>\n",
       "  </tbody>\n",
       "</table>\n",
       "<p>12803 rows × 3 columns</p>\n",
       "</div>\n",
       "      <button class=\"colab-df-convert\" onclick=\"convertToInteractive('df-19a3f119-8203-4b75-b4ee-5eadb201835d')\"\n",
       "              title=\"Convert this dataframe to an interactive table.\"\n",
       "              style=\"display:none;\">\n",
       "        \n",
       "  <svg xmlns=\"http://www.w3.org/2000/svg\" height=\"24px\"viewBox=\"0 0 24 24\"\n",
       "       width=\"24px\">\n",
       "    <path d=\"M0 0h24v24H0V0z\" fill=\"none\"/>\n",
       "    <path d=\"M18.56 5.44l.94 2.06.94-2.06 2.06-.94-2.06-.94-.94-2.06-.94 2.06-2.06.94zm-11 1L8.5 8.5l.94-2.06 2.06-.94-2.06-.94L8.5 2.5l-.94 2.06-2.06.94zm10 10l.94 2.06.94-2.06 2.06-.94-2.06-.94-.94-2.06-.94 2.06-2.06.94z\"/><path d=\"M17.41 7.96l-1.37-1.37c-.4-.4-.92-.59-1.43-.59-.52 0-1.04.2-1.43.59L10.3 9.45l-7.72 7.72c-.78.78-.78 2.05 0 2.83L4 21.41c.39.39.9.59 1.41.59.51 0 1.02-.2 1.41-.59l7.78-7.78 2.81-2.81c.8-.78.8-2.07 0-2.86zM5.41 20L4 18.59l7.72-7.72 1.47 1.35L5.41 20z\"/>\n",
       "  </svg>\n",
       "      </button>\n",
       "      \n",
       "  <style>\n",
       "    .colab-df-container {\n",
       "      display:flex;\n",
       "      flex-wrap:wrap;\n",
       "      gap: 12px;\n",
       "    }\n",
       "\n",
       "    .colab-df-convert {\n",
       "      background-color: #E8F0FE;\n",
       "      border: none;\n",
       "      border-radius: 50%;\n",
       "      cursor: pointer;\n",
       "      display: none;\n",
       "      fill: #1967D2;\n",
       "      height: 32px;\n",
       "      padding: 0 0 0 0;\n",
       "      width: 32px;\n",
       "    }\n",
       "\n",
       "    .colab-df-convert:hover {\n",
       "      background-color: #E2EBFA;\n",
       "      box-shadow: 0px 1px 2px rgba(60, 64, 67, 0.3), 0px 1px 3px 1px rgba(60, 64, 67, 0.15);\n",
       "      fill: #174EA6;\n",
       "    }\n",
       "\n",
       "    [theme=dark] .colab-df-convert {\n",
       "      background-color: #3B4455;\n",
       "      fill: #D2E3FC;\n",
       "    }\n",
       "\n",
       "    [theme=dark] .colab-df-convert:hover {\n",
       "      background-color: #434B5C;\n",
       "      box-shadow: 0px 1px 3px 1px rgba(0, 0, 0, 0.15);\n",
       "      filter: drop-shadow(0px 1px 2px rgba(0, 0, 0, 0.3));\n",
       "      fill: #FFFFFF;\n",
       "    }\n",
       "  </style>\n",
       "\n",
       "      <script>\n",
       "        const buttonEl =\n",
       "          document.querySelector('#df-19a3f119-8203-4b75-b4ee-5eadb201835d button.colab-df-convert');\n",
       "        buttonEl.style.display =\n",
       "          google.colab.kernel.accessAllowed ? 'block' : 'none';\n",
       "\n",
       "        async function convertToInteractive(key) {\n",
       "          const element = document.querySelector('#df-19a3f119-8203-4b75-b4ee-5eadb201835d');\n",
       "          const dataTable =\n",
       "            await google.colab.kernel.invokeFunction('convertToInteractive',\n",
       "                                                     [key], {});\n",
       "          if (!dataTable) return;\n",
       "\n",
       "          const docLinkHtml = 'Like what you see? Visit the ' +\n",
       "            '<a target=\"_blank\" href=https://colab.research.google.com/notebooks/data_table.ipynb>data table notebook</a>'\n",
       "            + ' to learn more about interactive tables.';\n",
       "          element.innerHTML = '';\n",
       "          dataTable['output_type'] = 'display_data';\n",
       "          await google.colab.output.renderOutput(dataTable, element);\n",
       "          const docLink = document.createElement('div');\n",
       "          docLink.innerHTML = docLinkHtml;\n",
       "          element.appendChild(docLink);\n",
       "        }\n",
       "      </script>\n",
       "    </div>\n",
       "  </div>\n",
       "  "
      ],
      "text/plain": [
       "                                            image_id      turtle_id  \\\n",
       "0      /content/turtle_recall/images/ID_2RK4WLN8.JPG  t_id_VP2NW7aV   \n",
       "1      /content/turtle_recall/images/ID_VVW0QXLX.JPG  t_id_qZ0iZYsC   \n",
       "2      /content/turtle_recall/images/ID_RVATH2HZ.JPG  t_id_3b65X5Lw   \n",
       "3      /content/turtle_recall/images/ID_2GB90GPS.JPG  t_id_YjXYTCGC   \n",
       "4      /content/turtle_recall/images/ID_LM6S0B1M.JPG  t_id_d6aYXtor   \n",
       "...                                              ...            ...   \n",
       "12798  /content/turtle_recall/images/ID_PLYDY39S.JPG  t_id_9YXAIhtI   \n",
       "12799  /content/turtle_recall/images/ID_1EJCP0DF.JPG  t_id_9YXAIhtI   \n",
       "12800  /content/turtle_recall/images/ID_WXIGYROR.JPG  t_id_ajlHbN2F   \n",
       "12801  /content/turtle_recall/images/ID_UAU4GUNK.JPG  t_id_ajlHbN2F   \n",
       "12802  /content/turtle_recall/images/ID_Z02Y4N4V.JPG  t_id_ajlHbN2F   \n",
       "\n",
       "       label_count  \n",
       "0               69  \n",
       "1               23  \n",
       "2               26  \n",
       "3               71  \n",
       "4               11  \n",
       "...            ...  \n",
       "12798            3  \n",
       "12799            3  \n",
       "12800            3  \n",
       "12801            3  \n",
       "12802            3  \n",
       "\n",
       "[12803 rows x 3 columns]"
      ]
     },
     "execution_count": 20,
     "metadata": {},
     "output_type": "execute_result"
    }
   ],
   "source": [
    "train_df"
   ]
  },
  {
   "cell_type": "markdown",
   "metadata": {
    "id": "oJNDkrcMSjGn"
   },
   "source": [
    "Drop all rows where the number of turtle samples is less than 7. Note that I earlier cheked the miminum number of samples in the original train set which turned out to be 8. This is to ensure I don't drop off some of the original labels. On the other hand, you could decide to train more images, for me i wanted minimum number of samples per image_id to be 7"
   ]
  },
  {
   "cell_type": "code",
   "execution_count": 21,
   "metadata": {
    "id": "orc-iypCs8Fu"
   },
   "outputs": [],
   "source": [
    "train_df = train_df[train_df[\"label_count\"]>6].reset_index(drop=True)"
   ]
  },
  {
   "cell_type": "code",
   "execution_count": 22,
   "metadata": {
    "colab": {
     "base_uri": "https://localhost:8080/",
     "height": 424
    },
    "id": "5_z1wRdbmb_g",
    "outputId": "a697d3cf-bf60-4ca2-b861-4cea053909c1"
   },
   "outputs": [
    {
     "data": {
      "text/html": [
       "\n",
       "  <div id=\"df-ecc74541-1407-434a-adca-f43776fbad85\">\n",
       "    <div class=\"colab-df-container\">\n",
       "      <div>\n",
       "<style scoped>\n",
       "    .dataframe tbody tr th:only-of-type {\n",
       "        vertical-align: middle;\n",
       "    }\n",
       "\n",
       "    .dataframe tbody tr th {\n",
       "        vertical-align: top;\n",
       "    }\n",
       "\n",
       "    .dataframe thead th {\n",
       "        text-align: right;\n",
       "    }\n",
       "</style>\n",
       "<table border=\"1\" class=\"dataframe\">\n",
       "  <thead>\n",
       "    <tr style=\"text-align: right;\">\n",
       "      <th></th>\n",
       "      <th>image_id</th>\n",
       "      <th>turtle_id</th>\n",
       "      <th>label_count</th>\n",
       "    </tr>\n",
       "  </thead>\n",
       "  <tbody>\n",
       "    <tr>\n",
       "      <th>0</th>\n",
       "      <td>/content/turtle_recall/images/ID_2RK4WLN8.JPG</td>\n",
       "      <td>t_id_VP2NW7aV</td>\n",
       "      <td>69</td>\n",
       "    </tr>\n",
       "    <tr>\n",
       "      <th>1</th>\n",
       "      <td>/content/turtle_recall/images/ID_VVW0QXLX.JPG</td>\n",
       "      <td>t_id_qZ0iZYsC</td>\n",
       "      <td>23</td>\n",
       "    </tr>\n",
       "    <tr>\n",
       "      <th>2</th>\n",
       "      <td>/content/turtle_recall/images/ID_RVATH2HZ.JPG</td>\n",
       "      <td>t_id_3b65X5Lw</td>\n",
       "      <td>26</td>\n",
       "    </tr>\n",
       "    <tr>\n",
       "      <th>3</th>\n",
       "      <td>/content/turtle_recall/images/ID_2GB90GPS.JPG</td>\n",
       "      <td>t_id_YjXYTCGC</td>\n",
       "      <td>71</td>\n",
       "    </tr>\n",
       "    <tr>\n",
       "      <th>4</th>\n",
       "      <td>/content/turtle_recall/images/ID_LM6S0B1M.JPG</td>\n",
       "      <td>t_id_d6aYXtor</td>\n",
       "      <td>11</td>\n",
       "    </tr>\n",
       "    <tr>\n",
       "      <th>...</th>\n",
       "      <td>...</td>\n",
       "      <td>...</td>\n",
       "      <td>...</td>\n",
       "    </tr>\n",
       "    <tr>\n",
       "      <th>6219</th>\n",
       "      <td>/content/turtle_recall/images/ID_EGF46109.JPG</td>\n",
       "      <td>t_id_AJMHS9yE</td>\n",
       "      <td>8</td>\n",
       "    </tr>\n",
       "    <tr>\n",
       "      <th>6220</th>\n",
       "      <td>/content/turtle_recall/images/ID_QCYQ4I89.JPG</td>\n",
       "      <td>t_id_AJMHS9yE</td>\n",
       "      <td>8</td>\n",
       "    </tr>\n",
       "    <tr>\n",
       "      <th>6221</th>\n",
       "      <td>/content/turtle_recall/images/ID_ZSDH16HQ.JPG</td>\n",
       "      <td>t_id_AJMHS9yE</td>\n",
       "      <td>8</td>\n",
       "    </tr>\n",
       "    <tr>\n",
       "      <th>6222</th>\n",
       "      <td>/content/turtle_recall/images/ID_6UG4KWQI.JPG</td>\n",
       "      <td>t_id_AJMHS9yE</td>\n",
       "      <td>8</td>\n",
       "    </tr>\n",
       "    <tr>\n",
       "      <th>6223</th>\n",
       "      <td>/content/turtle_recall/images/ID_BM5MJW8P.JPG</td>\n",
       "      <td>t_id_AJMHS9yE</td>\n",
       "      <td>8</td>\n",
       "    </tr>\n",
       "  </tbody>\n",
       "</table>\n",
       "<p>6224 rows × 3 columns</p>\n",
       "</div>\n",
       "      <button class=\"colab-df-convert\" onclick=\"convertToInteractive('df-ecc74541-1407-434a-adca-f43776fbad85')\"\n",
       "              title=\"Convert this dataframe to an interactive table.\"\n",
       "              style=\"display:none;\">\n",
       "        \n",
       "  <svg xmlns=\"http://www.w3.org/2000/svg\" height=\"24px\"viewBox=\"0 0 24 24\"\n",
       "       width=\"24px\">\n",
       "    <path d=\"M0 0h24v24H0V0z\" fill=\"none\"/>\n",
       "    <path d=\"M18.56 5.44l.94 2.06.94-2.06 2.06-.94-2.06-.94-.94-2.06-.94 2.06-2.06.94zm-11 1L8.5 8.5l.94-2.06 2.06-.94-2.06-.94L8.5 2.5l-.94 2.06-2.06.94zm10 10l.94 2.06.94-2.06 2.06-.94-2.06-.94-.94-2.06-.94 2.06-2.06.94z\"/><path d=\"M17.41 7.96l-1.37-1.37c-.4-.4-.92-.59-1.43-.59-.52 0-1.04.2-1.43.59L10.3 9.45l-7.72 7.72c-.78.78-.78 2.05 0 2.83L4 21.41c.39.39.9.59 1.41.59.51 0 1.02-.2 1.41-.59l7.78-7.78 2.81-2.81c.8-.78.8-2.07 0-2.86zM5.41 20L4 18.59l7.72-7.72 1.47 1.35L5.41 20z\"/>\n",
       "  </svg>\n",
       "      </button>\n",
       "      \n",
       "  <style>\n",
       "    .colab-df-container {\n",
       "      display:flex;\n",
       "      flex-wrap:wrap;\n",
       "      gap: 12px;\n",
       "    }\n",
       "\n",
       "    .colab-df-convert {\n",
       "      background-color: #E8F0FE;\n",
       "      border: none;\n",
       "      border-radius: 50%;\n",
       "      cursor: pointer;\n",
       "      display: none;\n",
       "      fill: #1967D2;\n",
       "      height: 32px;\n",
       "      padding: 0 0 0 0;\n",
       "      width: 32px;\n",
       "    }\n",
       "\n",
       "    .colab-df-convert:hover {\n",
       "      background-color: #E2EBFA;\n",
       "      box-shadow: 0px 1px 2px rgba(60, 64, 67, 0.3), 0px 1px 3px 1px rgba(60, 64, 67, 0.15);\n",
       "      fill: #174EA6;\n",
       "    }\n",
       "\n",
       "    [theme=dark] .colab-df-convert {\n",
       "      background-color: #3B4455;\n",
       "      fill: #D2E3FC;\n",
       "    }\n",
       "\n",
       "    [theme=dark] .colab-df-convert:hover {\n",
       "      background-color: #434B5C;\n",
       "      box-shadow: 0px 1px 3px 1px rgba(0, 0, 0, 0.15);\n",
       "      filter: drop-shadow(0px 1px 2px rgba(0, 0, 0, 0.3));\n",
       "      fill: #FFFFFF;\n",
       "    }\n",
       "  </style>\n",
       "\n",
       "      <script>\n",
       "        const buttonEl =\n",
       "          document.querySelector('#df-ecc74541-1407-434a-adca-f43776fbad85 button.colab-df-convert');\n",
       "        buttonEl.style.display =\n",
       "          google.colab.kernel.accessAllowed ? 'block' : 'none';\n",
       "\n",
       "        async function convertToInteractive(key) {\n",
       "          const element = document.querySelector('#df-ecc74541-1407-434a-adca-f43776fbad85');\n",
       "          const dataTable =\n",
       "            await google.colab.kernel.invokeFunction('convertToInteractive',\n",
       "                                                     [key], {});\n",
       "          if (!dataTable) return;\n",
       "\n",
       "          const docLinkHtml = 'Like what you see? Visit the ' +\n",
       "            '<a target=\"_blank\" href=https://colab.research.google.com/notebooks/data_table.ipynb>data table notebook</a>'\n",
       "            + ' to learn more about interactive tables.';\n",
       "          element.innerHTML = '';\n",
       "          dataTable['output_type'] = 'display_data';\n",
       "          await google.colab.output.renderOutput(dataTable, element);\n",
       "          const docLink = document.createElement('div');\n",
       "          docLink.innerHTML = docLinkHtml;\n",
       "          element.appendChild(docLink);\n",
       "        }\n",
       "      </script>\n",
       "    </div>\n",
       "  </div>\n",
       "  "
      ],
      "text/plain": [
       "                                           image_id      turtle_id  \\\n",
       "0     /content/turtle_recall/images/ID_2RK4WLN8.JPG  t_id_VP2NW7aV   \n",
       "1     /content/turtle_recall/images/ID_VVW0QXLX.JPG  t_id_qZ0iZYsC   \n",
       "2     /content/turtle_recall/images/ID_RVATH2HZ.JPG  t_id_3b65X5Lw   \n",
       "3     /content/turtle_recall/images/ID_2GB90GPS.JPG  t_id_YjXYTCGC   \n",
       "4     /content/turtle_recall/images/ID_LM6S0B1M.JPG  t_id_d6aYXtor   \n",
       "...                                             ...            ...   \n",
       "6219  /content/turtle_recall/images/ID_EGF46109.JPG  t_id_AJMHS9yE   \n",
       "6220  /content/turtle_recall/images/ID_QCYQ4I89.JPG  t_id_AJMHS9yE   \n",
       "6221  /content/turtle_recall/images/ID_ZSDH16HQ.JPG  t_id_AJMHS9yE   \n",
       "6222  /content/turtle_recall/images/ID_6UG4KWQI.JPG  t_id_AJMHS9yE   \n",
       "6223  /content/turtle_recall/images/ID_BM5MJW8P.JPG  t_id_AJMHS9yE   \n",
       "\n",
       "      label_count  \n",
       "0              69  \n",
       "1              23  \n",
       "2              26  \n",
       "3              71  \n",
       "4              11  \n",
       "...           ...  \n",
       "6219            8  \n",
       "6220            8  \n",
       "6221            8  \n",
       "6222            8  \n",
       "6223            8  \n",
       "\n",
       "[6224 rows x 3 columns]"
      ]
     },
     "execution_count": 22,
     "metadata": {},
     "output_type": "execute_result"
    }
   ],
   "source": [
    "train_df"
   ]
  },
  {
   "cell_type": "markdown",
   "metadata": {
    "id": "nQ_OIXguSjGo"
   },
   "source": [
    "###### Creating your Data block\n",
    "\n",
    "Remember to checkout the official Fastai [website](https://www.fast.ai/) and [docs](https://docs.fast.ai/) to learn more about FastAI.\n",
    "\n",
    "Creating a datablock is quite easy, the Datablock API is the foundational block of the dataset creation, you'll have to tell it you are creating a dataset of images, and you'll be using it for a classification task. Hence the Images and category block reference used.\n",
    "\n",
    "The splitter simply splits your train set into train and validation, Fastai is very serious about overfitting and validation, even if you don't set the splitter, it does that automatically for you using defaults. Personally I prefer the Train_test splitter. It helps me take advantage of the stratification unlike random splits.\n",
    "\n",
    "-- in case you are wondering, stratification means we are able to split based on class or label.\n",
    "\n",
    "Next, you'll have to tell the API how to fetch the address of the images, and the respective label for that image. Remember that I've put all these stuff in a nice dataframe\n",
    "\n",
    "Finally, you can do some transformations for the images. Remember that to train a Convolutional neural network, images are best fitted in when they are of the same size. to this effect, I've told Fastai to squish (not crop) all images to 320 by 320.\n",
    "\n",
    "When you are done, create an instance of the datablock, the dataloader."
   ]
  },
  {
   "cell_type": "code",
   "execution_count": 23,
   "metadata": {
    "id": "TC87-GpZHjHd"
   },
   "outputs": [],
   "source": [
    "turtle = DataBlock(\n",
    "    blocks=(ImageBlock, CategoryBlock), \n",
    "    splitter=TrainTestSplitter(0.1, stratify=train_df[\"turtle_id\"]),\n",
    "  get_x = ColReader(0),\n",
    "  item_tfms=Resize((320,320), method='squish'),\n",
    "    get_y=ColReader(1),\n",
    "    batch_tfms = [*aug_transforms(do_flip=True,flip_vert=False,max_lighting=0.4,max_zoom=1.2,max_warp=0.2,max_rotate=30,xtra_tfms=None),Normalize.from_stats(*imagenet_stats)]\n",
    "    )"
   ]
  },
  {
   "cell_type": "code",
   "execution_count": 24,
   "metadata": {
    "id": "sfEs1DL9H4b8"
   },
   "outputs": [],
   "source": [
    "dls = turtle.dataloaders(train_df, bs=16, num_workers = 0)"
   ]
  },
  {
   "cell_type": "code",
   "execution_count": 25,
   "metadata": {
    "colab": {
     "base_uri": "https://localhost:8080/",
     "height": 206
    },
    "id": "OoecIWvRH6tT",
    "outputId": "aa97be1a-f834-42ac-cd65-b15536276a74"
   },
   "outputs": [
    {
     "data": {
      "text/html": [
       "\n",
       "  <div id=\"df-7a27ef55-de35-48f5-afb4-95de989e3eab\">\n",
       "    <div class=\"colab-df-container\">\n",
       "      <div>\n",
       "<style scoped>\n",
       "    .dataframe tbody tr th:only-of-type {\n",
       "        vertical-align: middle;\n",
       "    }\n",
       "\n",
       "    .dataframe tbody tr th {\n",
       "        vertical-align: top;\n",
       "    }\n",
       "\n",
       "    .dataframe thead th {\n",
       "        text-align: right;\n",
       "    }\n",
       "</style>\n",
       "<table border=\"1\" class=\"dataframe\">\n",
       "  <thead>\n",
       "    <tr style=\"text-align: right;\">\n",
       "      <th></th>\n",
       "      <th>image_id</th>\n",
       "      <th>turtle_id</th>\n",
       "      <th>label_count</th>\n",
       "    </tr>\n",
       "  </thead>\n",
       "  <tbody>\n",
       "    <tr>\n",
       "      <th>6219</th>\n",
       "      <td>/content/turtle_recall/images/ID_EGF46109.JPG</td>\n",
       "      <td>t_id_AJMHS9yE</td>\n",
       "      <td>8</td>\n",
       "    </tr>\n",
       "    <tr>\n",
       "      <th>6220</th>\n",
       "      <td>/content/turtle_recall/images/ID_QCYQ4I89.JPG</td>\n",
       "      <td>t_id_AJMHS9yE</td>\n",
       "      <td>8</td>\n",
       "    </tr>\n",
       "    <tr>\n",
       "      <th>6221</th>\n",
       "      <td>/content/turtle_recall/images/ID_ZSDH16HQ.JPG</td>\n",
       "      <td>t_id_AJMHS9yE</td>\n",
       "      <td>8</td>\n",
       "    </tr>\n",
       "    <tr>\n",
       "      <th>6222</th>\n",
       "      <td>/content/turtle_recall/images/ID_6UG4KWQI.JPG</td>\n",
       "      <td>t_id_AJMHS9yE</td>\n",
       "      <td>8</td>\n",
       "    </tr>\n",
       "    <tr>\n",
       "      <th>6223</th>\n",
       "      <td>/content/turtle_recall/images/ID_BM5MJW8P.JPG</td>\n",
       "      <td>t_id_AJMHS9yE</td>\n",
       "      <td>8</td>\n",
       "    </tr>\n",
       "  </tbody>\n",
       "</table>\n",
       "</div>\n",
       "      <button class=\"colab-df-convert\" onclick=\"convertToInteractive('df-7a27ef55-de35-48f5-afb4-95de989e3eab')\"\n",
       "              title=\"Convert this dataframe to an interactive table.\"\n",
       "              style=\"display:none;\">\n",
       "        \n",
       "  <svg xmlns=\"http://www.w3.org/2000/svg\" height=\"24px\"viewBox=\"0 0 24 24\"\n",
       "       width=\"24px\">\n",
       "    <path d=\"M0 0h24v24H0V0z\" fill=\"none\"/>\n",
       "    <path d=\"M18.56 5.44l.94 2.06.94-2.06 2.06-.94-2.06-.94-.94-2.06-.94 2.06-2.06.94zm-11 1L8.5 8.5l.94-2.06 2.06-.94-2.06-.94L8.5 2.5l-.94 2.06-2.06.94zm10 10l.94 2.06.94-2.06 2.06-.94-2.06-.94-.94-2.06-.94 2.06-2.06.94z\"/><path d=\"M17.41 7.96l-1.37-1.37c-.4-.4-.92-.59-1.43-.59-.52 0-1.04.2-1.43.59L10.3 9.45l-7.72 7.72c-.78.78-.78 2.05 0 2.83L4 21.41c.39.39.9.59 1.41.59.51 0 1.02-.2 1.41-.59l7.78-7.78 2.81-2.81c.8-.78.8-2.07 0-2.86zM5.41 20L4 18.59l7.72-7.72 1.47 1.35L5.41 20z\"/>\n",
       "  </svg>\n",
       "      </button>\n",
       "      \n",
       "  <style>\n",
       "    .colab-df-container {\n",
       "      display:flex;\n",
       "      flex-wrap:wrap;\n",
       "      gap: 12px;\n",
       "    }\n",
       "\n",
       "    .colab-df-convert {\n",
       "      background-color: #E8F0FE;\n",
       "      border: none;\n",
       "      border-radius: 50%;\n",
       "      cursor: pointer;\n",
       "      display: none;\n",
       "      fill: #1967D2;\n",
       "      height: 32px;\n",
       "      padding: 0 0 0 0;\n",
       "      width: 32px;\n",
       "    }\n",
       "\n",
       "    .colab-df-convert:hover {\n",
       "      background-color: #E2EBFA;\n",
       "      box-shadow: 0px 1px 2px rgba(60, 64, 67, 0.3), 0px 1px 3px 1px rgba(60, 64, 67, 0.15);\n",
       "      fill: #174EA6;\n",
       "    }\n",
       "\n",
       "    [theme=dark] .colab-df-convert {\n",
       "      background-color: #3B4455;\n",
       "      fill: #D2E3FC;\n",
       "    }\n",
       "\n",
       "    [theme=dark] .colab-df-convert:hover {\n",
       "      background-color: #434B5C;\n",
       "      box-shadow: 0px 1px 3px 1px rgba(0, 0, 0, 0.15);\n",
       "      filter: drop-shadow(0px 1px 2px rgba(0, 0, 0, 0.3));\n",
       "      fill: #FFFFFF;\n",
       "    }\n",
       "  </style>\n",
       "\n",
       "      <script>\n",
       "        const buttonEl =\n",
       "          document.querySelector('#df-7a27ef55-de35-48f5-afb4-95de989e3eab button.colab-df-convert');\n",
       "        buttonEl.style.display =\n",
       "          google.colab.kernel.accessAllowed ? 'block' : 'none';\n",
       "\n",
       "        async function convertToInteractive(key) {\n",
       "          const element = document.querySelector('#df-7a27ef55-de35-48f5-afb4-95de989e3eab');\n",
       "          const dataTable =\n",
       "            await google.colab.kernel.invokeFunction('convertToInteractive',\n",
       "                                                     [key], {});\n",
       "          if (!dataTable) return;\n",
       "\n",
       "          const docLinkHtml = 'Like what you see? Visit the ' +\n",
       "            '<a target=\"_blank\" href=https://colab.research.google.com/notebooks/data_table.ipynb>data table notebook</a>'\n",
       "            + ' to learn more about interactive tables.';\n",
       "          element.innerHTML = '';\n",
       "          dataTable['output_type'] = 'display_data';\n",
       "          await google.colab.output.renderOutput(dataTable, element);\n",
       "          const docLink = document.createElement('div');\n",
       "          docLink.innerHTML = docLinkHtml;\n",
       "          element.appendChild(docLink);\n",
       "        }\n",
       "      </script>\n",
       "    </div>\n",
       "  </div>\n",
       "  "
      ],
      "text/plain": [
       "                                           image_id      turtle_id  \\\n",
       "6219  /content/turtle_recall/images/ID_EGF46109.JPG  t_id_AJMHS9yE   \n",
       "6220  /content/turtle_recall/images/ID_QCYQ4I89.JPG  t_id_AJMHS9yE   \n",
       "6221  /content/turtle_recall/images/ID_ZSDH16HQ.JPG  t_id_AJMHS9yE   \n",
       "6222  /content/turtle_recall/images/ID_6UG4KWQI.JPG  t_id_AJMHS9yE   \n",
       "6223  /content/turtle_recall/images/ID_BM5MJW8P.JPG  t_id_AJMHS9yE   \n",
       "\n",
       "      label_count  \n",
       "6219            8  \n",
       "6220            8  \n",
       "6221            8  \n",
       "6222            8  \n",
       "6223            8  "
      ]
     },
     "execution_count": 25,
     "metadata": {},
     "output_type": "execute_result"
    }
   ],
   "source": [
    "train_df.tail()"
   ]
  },
  {
   "cell_type": "markdown",
   "metadata": {
    "id": "JY5z2nacSjGp"
   },
   "source": [
    "Check out one batch"
   ]
  },
  {
   "cell_type": "code",
   "execution_count": 29,
   "metadata": {
    "colab": {
     "base_uri": "https://localhost:8080/",
     "height": 369
    },
    "id": "ta3IVL0nNsq8",
    "outputId": "0cc1c80f-fc0c-4722-b6b3-68c66833d07b"
   },
   "outputs": [
    {
     "data": {
      "image/png": "[encoded data removed]",
      "text/plain": [
       "<Figure size 1080x432 with 10 Axes>"
      ]
     },
     "metadata": {
      "needs_background": "light"
     },
     "output_type": "display_data"
    }
   ],
   "source": [
    "dls.show_batch(max_n=10, nrows=2, ncols=5)"
   ]
  },
  {
   "cell_type": "code",
   "execution_count": 30,
   "metadata": {
    "id": "bP5u8Zl0N9sD"
   },
   "outputs": [],
   "source": [
    "def get_model(dls,pretrained=True, **kwargs):\n",
    "    model = EfficientNet.from_pretrained(model_name)\n",
    "    model._fc = nn.Linear(model._fc.in_features, dls.c)\n",
    "    return model"
   ]
  },
  {
   "cell_type": "markdown",
   "metadata": {
    "id": "UZ3gM5YpSjGq"
   },
   "source": [
    "Choose your model, you can choose any of the efficient net series b0 to b7"
   ]
  },
  {
   "cell_type": "code",
   "execution_count": 31,
   "metadata": {
    "id": "JTUPlimuNbk3"
   },
   "outputs": [],
   "source": [
    "model_name = 'efficientnet-b6'"
   ]
  },
  {
   "cell_type": "code",
   "execution_count": 32,
   "metadata": {
    "colab": {
     "base_uri": "https://localhost:8080/",
     "height": 85,
     "referenced_widgets": [
      "624279b72c7a406f9d4733fe5215f578",
      "8d48d32922c14593a20dffd9f4a01da2",
      "a22bd72da6ef4aea90597238803799bf",
      "cea86fd5facd40659794e8321fd91d63",
      "077f756edf3f4ba9b57a4176347afdeb",
      "883f0f14b5e2447fa7a5093e9ec1ddee",
      "cb1d4ee5ffcd4d4c8af70c7e96502fc8",
      "1a879517fbc048ac987f78369c943302",
      "37e8086e5b9549d89d0125505d29deb2",
      "085959852bb840bbabead5285db7b395",
      "b3caeb49ac55455181ddc9781767443e"
     ]
    },
    "id": "spPBylEzQS7F",
    "outputId": "05007388-95ec-4215-d43b-4747a6480518"
   },
   "outputs": [
    {
     "name": "stderr",
     "output_type": "stream",
     "text": [
      "Downloading: \"https://github.com/lukemelas/EfficientNet-PyTorch/releases/download/1.0/efficientnet-b6-c76e70fd.pth\" to /root/.cache/torch/hub/checkpoints/efficientnet-b6-c76e70fd.pth\n"
     ]
    },
    {
     "data": {
      "application/vnd.jupyter.widget-view+json": {
       "model_id": "624279b72c7a406f9d4733fe5215f578",
       "version_major": 2,
       "version_minor": 0
      },
      "text/plain": [
       "  0%|          | 0.00/165M [00:00<?, ?B/s]"
      ]
     },
     "metadata": {},
     "output_type": "display_data"
    },
    {
     "name": "stdout",
     "output_type": "stream",
     "text": [
      "Loaded pretrained weights for efficientnet-b6\n"
     ]
    }
   ],
   "source": [
    "learn = Learner(dls, get_model(dls), metrics=[error_rate, accuracy])"
   ]
  },
  {
   "cell_type": "markdown",
   "metadata": {
    "id": "LRr-GHphSjGr"
   },
   "source": [
    "check out what changing the learning rate looks like."
   ]
  },
  {
   "cell_type": "code",
   "execution_count": 33,
   "metadata": {
    "colab": {
     "base_uri": "https://localhost:8080/",
     "height": 301
    },
    "id": "dVmZE5z2QVMU",
    "outputId": "a18c3bb2-9340-4220-fb46-be2951837803"
   },
   "outputs": [
    {
     "data": {
      "text/html": [
       "\n",
       "<style>\n",
       "    /* Turns off some styling */\n",
       "    progress {\n",
       "        /* gets rid of default border in Firefox and Opera. */\n",
       "        border: none;\n",
       "        /* Needs to be in here for Safari polyfill so background images work as expected. */\n",
       "        background-size: auto;\n",
       "    }\n",
       "    .progress-bar-interrupted, .progress-bar-interrupted::-webkit-progress-bar {\n",
       "        background: #F44336;\n",
       "    }\n",
       "</style>\n"
      ],
      "text/plain": [
       "<IPython.core.display.HTML object>"
      ]
     },
     "metadata": {},
     "output_type": "display_data"
    },
    {
     "data": {
      "text/html": [],
      "text/plain": [
       "<IPython.core.display.HTML object>"
      ]
     },
     "metadata": {},
     "output_type": "display_data"
    },
    {
     "data": {
      "text/plain": [
       "SuggestedLRs(valley=0.0003981071640737355)"
      ]
     },
     "execution_count": 33,
     "metadata": {},
     "output_type": "execute_result"
    },
    {
     "data": {
      "image/png": "[encoded data removed]",
      "text/plain": [
       "<Figure size 432x288 with 1 Axes>"
      ]
     },
     "metadata": {
      "needs_background": "light"
     },
     "output_type": "display_data"
    }
   ],
   "source": [
    "learn.lr_find()"
   ]
  },
  {
   "cell_type": "markdown",
   "metadata": {
    "id": "SKlzx6DSSjGr"
   },
   "source": [
    "###### Time to Train!!!\n",
    "I'm using the valid loss callback to ensure I get the best local model. I trained for 20 epochs"
   ]
  },
  {
   "cell_type": "code",
   "execution_count": 34,
   "metadata": {
    "colab": {
     "base_uri": "https://localhost:8080/",
     "height": 99
    },
    "id": "kdOqZ6e5QXjD",
    "outputId": "4626eb4d-aa5c-4e27-ef30-718200008e23"
   },
   "outputs": [
    {
     "data": {
      "text/html": [
       "\n",
       "<style>\n",
       "    /* Turns off some styling */\n",
       "    progress {\n",
       "        /* gets rid of default border in Firefox and Opera. */\n",
       "        border: none;\n",
       "        /* Needs to be in here for Safari polyfill so background images work as expected. */\n",
       "        background-size: auto;\n",
       "    }\n",
       "    .progress-bar-interrupted, .progress-bar-interrupted::-webkit-progress-bar {\n",
       "        background: #F44336;\n",
       "    }\n",
       "</style>\n"
      ],
      "text/plain": [
       "<IPython.core.display.HTML object>"
      ]
     },
     "metadata": {},
     "output_type": "display_data"
    },
    {
     "data": {
      "text/html": [
       "<table border=\"1\" class=\"dataframe\">\n",
       "  <thead>\n",
       "    <tr style=\"text-align: left;\">\n",
       "      <th>epoch</th>\n",
       "      <th>train_loss</th>\n",
       "      <th>valid_loss</th>\n",
       "      <th>error_rate</th>\n",
       "      <th>accuracy</th>\n",
       "      <th>time</th>\n",
       "    </tr>\n",
       "  </thead>\n",
       "  <tbody>\n",
       "    <tr>\n",
       "      <td>0</td>\n",
       "      <td>5.520101</td>\n",
       "      <td>26.127977</td>\n",
       "      <td>0.993579</td>\n",
       "      <td>0.006421</td>\n",
       "      <td>09:21</td>\n",
       "    </tr>\n",
       "  </tbody>\n",
       "</table>"
      ],
      "text/plain": [
       "<IPython.core.display.HTML object>"
      ]
     },
     "metadata": {},
     "output_type": "display_data"
    },
    {
     "name": "stdout",
     "output_type": "stream",
     "text": [
      "Better model found at epoch 0 with valid_loss value: 26.12797737121582.\n"
     ]
    }
   ],
   "source": [
    "learn.fine_tune(20, cbs= SaveModelCallback(monitor='valid_loss'))"
   ]
  },
  {
   "cell_type": "markdown",
   "metadata": {
    "id": "WvnSeSh1SjGs"
   },
   "source": [
    "###### Prepare test set for predictions\n",
    "I also need to change the filename to path so that the dataloader can load it in smoothly."
   ]
  },
  {
   "cell_type": "code",
   "execution_count": 35,
   "metadata": {
    "id": "XIWX_z9cQbGf"
   },
   "outputs": [],
   "source": [
    "test_df.image_id    = [\"/content/turtle_recall/images/\"+i+\".JPG\" for i in test_df.image_id]"
   ]
  },
  {
   "cell_type": "code",
   "execution_count": 36,
   "metadata": {
    "colab": {
     "base_uri": "https://localhost:8080/",
     "height": 206
    },
    "id": "TWjF9L_EQn1P",
    "outputId": "7dd38915-39b4-4a6f-d035-93381131889a"
   },
   "outputs": [
    {
     "data": {
      "text/html": [
       "\n",
       "  <div id=\"df-5788d072-c130-4d0f-98b6-656cc1d0a3a2\">\n",
       "    <div class=\"colab-df-container\">\n",
       "      <div>\n",
       "<style scoped>\n",
       "    .dataframe tbody tr th:only-of-type {\n",
       "        vertical-align: middle;\n",
       "    }\n",
       "\n",
       "    .dataframe tbody tr th {\n",
       "        vertical-align: top;\n",
       "    }\n",
       "\n",
       "    .dataframe thead th {\n",
       "        text-align: right;\n",
       "    }\n",
       "</style>\n",
       "<table border=\"1\" class=\"dataframe\">\n",
       "  <thead>\n",
       "    <tr style=\"text-align: right;\">\n",
       "      <th></th>\n",
       "      <th>image_id</th>\n",
       "      <th>image_location</th>\n",
       "    </tr>\n",
       "  </thead>\n",
       "  <tbody>\n",
       "    <tr>\n",
       "      <th>0</th>\n",
       "      <td>/content/turtle_recall/images/ID_6NEDKOYZ.JPG</td>\n",
       "      <td>top</td>\n",
       "    </tr>\n",
       "    <tr>\n",
       "      <th>1</th>\n",
       "      <td>/content/turtle_recall/images/ID_57QZ4S9N.JPG</td>\n",
       "      <td>left</td>\n",
       "    </tr>\n",
       "    <tr>\n",
       "      <th>2</th>\n",
       "      <td>/content/turtle_recall/images/ID_OCGGJS5X.JPG</td>\n",
       "      <td>left</td>\n",
       "    </tr>\n",
       "    <tr>\n",
       "      <th>3</th>\n",
       "      <td>/content/turtle_recall/images/ID_R2993S3S.JPG</td>\n",
       "      <td>top</td>\n",
       "    </tr>\n",
       "    <tr>\n",
       "      <th>4</th>\n",
       "      <td>/content/turtle_recall/images/ID_2E011NB0.JPG</td>\n",
       "      <td>left</td>\n",
       "    </tr>\n",
       "  </tbody>\n",
       "</table>\n",
       "</div>\n",
       "      <button class=\"colab-df-convert\" onclick=\"convertToInteractive('df-5788d072-c130-4d0f-98b6-656cc1d0a3a2')\"\n",
       "              title=\"Convert this dataframe to an interactive table.\"\n",
       "              style=\"display:none;\">\n",
       "        \n",
       "  <svg xmlns=\"http://www.w3.org/2000/svg\" height=\"24px\"viewBox=\"0 0 24 24\"\n",
       "       width=\"24px\">\n",
       "    <path d=\"M0 0h24v24H0V0z\" fill=\"none\"/>\n",
       "    <path d=\"M18.56 5.44l.94 2.06.94-2.06 2.06-.94-2.06-.94-.94-2.06-.94 2.06-2.06.94zm-11 1L8.5 8.5l.94-2.06 2.06-.94-2.06-.94L8.5 2.5l-.94 2.06-2.06.94zm10 10l.94 2.06.94-2.06 2.06-.94-2.06-.94-.94-2.06-.94 2.06-2.06.94z\"/><path d=\"M17.41 7.96l-1.37-1.37c-.4-.4-.92-.59-1.43-.59-.52 0-1.04.2-1.43.59L10.3 9.45l-7.72 7.72c-.78.78-.78 2.05 0 2.83L4 21.41c.39.39.9.59 1.41.59.51 0 1.02-.2 1.41-.59l7.78-7.78 2.81-2.81c.8-.78.8-2.07 0-2.86zM5.41 20L4 18.59l7.72-7.72 1.47 1.35L5.41 20z\"/>\n",
       "  </svg>\n",
       "      </button>\n",
       "      \n",
       "  <style>\n",
       "    .colab-df-container {\n",
       "      display:flex;\n",
       "      flex-wrap:wrap;\n",
       "      gap: 12px;\n",
       "    }\n",
       "\n",
       "    .colab-df-convert {\n",
       "      background-color: #E8F0FE;\n",
       "      border: none;\n",
       "      border-radius: 50%;\n",
       "      cursor: pointer;\n",
       "      display: none;\n",
       "      fill: #1967D2;\n",
       "      height: 32px;\n",
       "      padding: 0 0 0 0;\n",
       "      width: 32px;\n",
       "    }\n",
       "\n",
       "    .colab-df-convert:hover {\n",
       "      background-color: #E2EBFA;\n",
       "      box-shadow: 0px 1px 2px rgba(60, 64, 67, 0.3), 0px 1px 3px 1px rgba(60, 64, 67, 0.15);\n",
       "      fill: #174EA6;\n",
       "    }\n",
       "\n",
       "    [theme=dark] .colab-df-convert {\n",
       "      background-color: #3B4455;\n",
       "      fill: #D2E3FC;\n",
       "    }\n",
       "\n",
       "    [theme=dark] .colab-df-convert:hover {\n",
       "      background-color: #434B5C;\n",
       "      box-shadow: 0px 1px 3px 1px rgba(0, 0, 0, 0.15);\n",
       "      filter: drop-shadow(0px 1px 2px rgba(0, 0, 0, 0.3));\n",
       "      fill: #FFFFFF;\n",
       "    }\n",
       "  </style>\n",
       "\n",
       "      <script>\n",
       "        const buttonEl =\n",
       "          document.querySelector('#df-5788d072-c130-4d0f-98b6-656cc1d0a3a2 button.colab-df-convert');\n",
       "        buttonEl.style.display =\n",
       "          google.colab.kernel.accessAllowed ? 'block' : 'none';\n",
       "\n",
       "        async function convertToInteractive(key) {\n",
       "          const element = document.querySelector('#df-5788d072-c130-4d0f-98b6-656cc1d0a3a2');\n",
       "          const dataTable =\n",
       "            await google.colab.kernel.invokeFunction('convertToInteractive',\n",
       "                                                     [key], {});\n",
       "          if (!dataTable) return;\n",
       "\n",
       "          const docLinkHtml = 'Like what you see? Visit the ' +\n",
       "            '<a target=\"_blank\" href=https://colab.research.google.com/notebooks/data_table.ipynb>data table notebook</a>'\n",
       "            + ' to learn more about interactive tables.';\n",
       "          element.innerHTML = '';\n",
       "          dataTable['output_type'] = 'display_data';\n",
       "          await google.colab.output.renderOutput(dataTable, element);\n",
       "          const docLink = document.createElement('div');\n",
       "          docLink.innerHTML = docLinkHtml;\n",
       "          element.appendChild(docLink);\n",
       "        }\n",
       "      </script>\n",
       "    </div>\n",
       "  </div>\n",
       "  "
      ],
      "text/plain": [
       "                                        image_id image_location\n",
       "0  /content/turtle_recall/images/ID_6NEDKOYZ.JPG            top\n",
       "1  /content/turtle_recall/images/ID_57QZ4S9N.JPG           left\n",
       "2  /content/turtle_recall/images/ID_OCGGJS5X.JPG           left\n",
       "3  /content/turtle_recall/images/ID_R2993S3S.JPG            top\n",
       "4  /content/turtle_recall/images/ID_2E011NB0.JPG           left"
      ]
     },
     "execution_count": 36,
     "metadata": {},
     "output_type": "execute_result"
    }
   ],
   "source": [
    "test_df.head()"
   ]
  },
  {
   "cell_type": "markdown",
   "metadata": {
    "id": "mIsM73yNSjGs"
   },
   "source": [
    "###### Use TTA\n",
    "\n",
    "Sometimes I get too agressive with TTA, here I'm passing n = 15. This means that the dataloader auguments the test image in 15 different ways, performs inference and then averages it."
   ]
  },
  {
   "cell_type": "code",
   "execution_count": 37,
   "metadata": {
    "colab": {
     "base_uri": "https://localhost:8080/",
     "height": 73
    },
    "id": "xRscMIvpQoL9",
    "outputId": "1f8d1d39-efc6-4822-9c4f-f934e20b0f06"
   },
   "outputs": [
    {
     "data": {
      "text/html": [
       "\n",
       "<style>\n",
       "    /* Turns off some styling */\n",
       "    progress {\n",
       "        /* gets rid of default border in Firefox and Opera. */\n",
       "        border: none;\n",
       "        /* Needs to be in here for Safari polyfill so background images work as expected. */\n",
       "        background-size: auto;\n",
       "    }\n",
       "    .progress-bar-interrupted, .progress-bar-interrupted::-webkit-progress-bar {\n",
       "        background: #F44336;\n",
       "    }\n",
       "</style>\n"
      ],
      "text/plain": [
       "<IPython.core.display.HTML object>"
      ]
     },
     "metadata": {},
     "output_type": "display_data"
    },
    {
     "data": {
      "text/html": [
       "\n",
       "    <div>\n",
       "      <progress value='0' class='' max='0' style='width:300px; height:20px; vertical-align: middle;'></progress>\n",
       "      \n",
       "    </div>\n",
       "    \n"
      ],
      "text/plain": [
       "<IPython.core.display.HTML object>"
      ]
     },
     "metadata": {},
     "output_type": "display_data"
    },
    {
     "name": "stderr",
     "output_type": "stream",
     "text": [
      "/usr/local/lib/python3.7/dist-packages/fastprogress/fastprogress.py:74: UserWarning: Your generator is empty.\n",
      "  warn(\"Your generator is empty.\")\n"
     ]
    },
    {
     "data": {
      "text/html": [
       "\n",
       "<style>\n",
       "    /* Turns off some styling */\n",
       "    progress {\n",
       "        /* gets rid of default border in Firefox and Opera. */\n",
       "        border: none;\n",
       "        /* Needs to be in here for Safari polyfill so background images work as expected. */\n",
       "        background-size: auto;\n",
       "    }\n",
       "    .progress-bar-interrupted, .progress-bar-interrupted::-webkit-progress-bar {\n",
       "        background: #F44336;\n",
       "    }\n",
       "</style>\n"
      ],
      "text/plain": [
       "<IPython.core.display.HTML object>"
      ]
     },
     "metadata": {},
     "output_type": "display_data"
    },
    {
     "data": {
      "text/html": [],
      "text/plain": [
       "<IPython.core.display.HTML object>"
      ]
     },
     "metadata": {},
     "output_type": "display_data"
    }
   ],
   "source": [
    "tdl = learn.dls.test_dl(test_df[\"image_id\"])\n",
    "test_preds_tta, test_labels_tta = learn.tta(dl=tdl, n=15)"
   ]
  },
  {
   "cell_type": "code",
   "execution_count": 38,
   "metadata": {
    "id": "JLOti34aQs3N"
   },
   "outputs": [],
   "source": [
    "preds_test = test_preds_tta"
   ]
  },
  {
   "cell_type": "markdown",
   "metadata": {
    "id": "zB0PzJEsSjGt"
   },
   "source": [
    "The submission format of this competition is an imteresting one, the competition requires you submit your top 5 predictions for each turtle."
   ]
  },
  {
   "cell_type": "markdown",
   "metadata": {
    "id": "UQ_hvZ6cSjGt"
   },
   "source": [
    "For this notebook, I didn't stop at 5 since I trained on about 2000 labels, If I change non_100 turtle names to \"new turtles\", many of the labels in the row would have new turtle class appearing multiple times, so we'll have to deal with this as it makes no sense for the same turtle-id to appear twice in a row."
   ]
  },
  {
   "cell_type": "markdown",
   "metadata": {
    "id": "e-klcd4OSjGu"
   },
   "source": [
    "You can do as many predictions as you like, however the competition requires just top 5 predictions"
   ]
  },
  {
   "cell_type": "code",
   "execution_count": 39,
   "metadata": {
    "id": "4jc2CZx3jfyn"
   },
   "outputs": [],
   "source": [
    "class_list = learn.dls.vocab\n",
    "for n in range(15):\n",
    "  class_indexes2 = []\n",
    "  for i in range(len(sample_submission)):\n",
    "    class_indexes = np.argsort(preds_test, axis=1)[i]\n",
    "    class_indexes2.append(int(class_indexes[-(n+1)]))\n",
    "  classes = [class_list[idx] for idx in class_indexes2]\n",
    "\n",
    "\n",
    "  sample_submission[\"prediction{}\".format(n+1)] = classes"
   ]
  },
  {
   "cell_type": "markdown",
   "metadata": {
    "id": "uq3u9AkCSjGu"
   },
   "source": [
    "###### Preview the sample submissions"
   ]
  },
  {
   "cell_type": "code",
   "execution_count": 40,
   "metadata": {
    "colab": {
     "base_uri": "https://localhost:8080/",
     "height": 487
    },
    "id": "DZnT5q3Y4CYP",
    "outputId": "120d9e21-f84a-46f9-ad3d-29364136aa7d"
   },
   "outputs": [
    {
     "data": {
      "text/html": [
       "\n",
       "  <div id=\"df-4c1bb79e-cebe-4475-a67f-84c09549b255\">\n",
       "    <div class=\"colab-df-container\">\n",
       "      <div>\n",
       "<style scoped>\n",
       "    .dataframe tbody tr th:only-of-type {\n",
       "        vertical-align: middle;\n",
       "    }\n",
       "\n",
       "    .dataframe tbody tr th {\n",
       "        vertical-align: top;\n",
       "    }\n",
       "\n",
       "    .dataframe thead th {\n",
       "        text-align: right;\n",
       "    }\n",
       "</style>\n",
       "<table border=\"1\" class=\"dataframe\">\n",
       "  <thead>\n",
       "    <tr style=\"text-align: right;\">\n",
       "      <th></th>\n",
       "      <th>image_id</th>\n",
       "      <th>prediction1</th>\n",
       "      <th>prediction2</th>\n",
       "      <th>prediction3</th>\n",
       "      <th>prediction4</th>\n",
       "      <th>prediction5</th>\n",
       "      <th>prediction6</th>\n",
       "      <th>prediction7</th>\n",
       "      <th>prediction8</th>\n",
       "      <th>prediction9</th>\n",
       "      <th>prediction10</th>\n",
       "      <th>prediction11</th>\n",
       "      <th>prediction12</th>\n",
       "      <th>prediction13</th>\n",
       "      <th>prediction14</th>\n",
       "      <th>prediction15</th>\n",
       "    </tr>\n",
       "  </thead>\n",
       "  <tbody>\n",
       "    <tr>\n",
       "      <th>0</th>\n",
       "      <td>ID_6NEDKOYZ</td>\n",
       "      <td>t_id_ViX4pu6R</td>\n",
       "      <td>t_id_15bo4NKD</td>\n",
       "      <td>t_id_Pnj3JCZa</td>\n",
       "      <td>t_id_U1gh4ghL</td>\n",
       "      <td>t_id_4dKntPVB</td>\n",
       "      <td>t_id_lt9jQtvW</td>\n",
       "      <td>t_id_FFUgltSC</td>\n",
       "      <td>t_id_Ts5LyVQz</td>\n",
       "      <td>t_id_D7NA71la</td>\n",
       "      <td>t_id_G5JLzvai</td>\n",
       "      <td>t_id_z19EyFm2</td>\n",
       "      <td>t_id_MwnEYfqe</td>\n",
       "      <td>t_id_IlO9BOKc</td>\n",
       "      <td>t_id_uJXT7dGu</td>\n",
       "      <td>t_id_XN39nRhf</td>\n",
       "    </tr>\n",
       "    <tr>\n",
       "      <th>1</th>\n",
       "      <td>ID_57QZ4S9N</td>\n",
       "      <td>t_id_15bo4NKD</td>\n",
       "      <td>t_id_U1gh4ghL</td>\n",
       "      <td>t_id_G5JLzvai</td>\n",
       "      <td>t_id_4dKntPVB</td>\n",
       "      <td>t_id_lt9jQtvW</td>\n",
       "      <td>t_id_FFUgltSC</td>\n",
       "      <td>t_id_pCO59rOk</td>\n",
       "      <td>t_id_Ts5LyVQz</td>\n",
       "      <td>t_id_n2FBHk6d</td>\n",
       "      <td>t_id_ViX4pu6R</td>\n",
       "      <td>t_id_XN39nRhf</td>\n",
       "      <td>t_id_m2JvEcsg</td>\n",
       "      <td>t_id_IlO9BOKc</td>\n",
       "      <td>t_id_UHs5o4Dv</td>\n",
       "      <td>t_id_1pAisCFy</td>\n",
       "    </tr>\n",
       "    <tr>\n",
       "      <th>2</th>\n",
       "      <td>ID_OCGGJS5X</td>\n",
       "      <td>t_id_U1gh4ghL</td>\n",
       "      <td>t_id_4dKntPVB</td>\n",
       "      <td>t_id_15bo4NKD</td>\n",
       "      <td>t_id_FFUgltSC</td>\n",
       "      <td>t_id_ViX4pu6R</td>\n",
       "      <td>t_id_Pnj3JCZa</td>\n",
       "      <td>t_id_XN39nRhf</td>\n",
       "      <td>t_id_LyqXL5qY</td>\n",
       "      <td>t_id_G5JLzvai</td>\n",
       "      <td>t_id_YjXYTCGC</td>\n",
       "      <td>t_id_Ts5LyVQz</td>\n",
       "      <td>t_id_eb8speoy</td>\n",
       "      <td>t_id_lt9jQtvW</td>\n",
       "      <td>t_id_UHs5o4Dv</td>\n",
       "      <td>t_id_GlcYUlzF</td>\n",
       "    </tr>\n",
       "    <tr>\n",
       "      <th>3</th>\n",
       "      <td>ID_R2993S3S</td>\n",
       "      <td>t_id_Pnj3JCZa</td>\n",
       "      <td>t_id_ViX4pu6R</td>\n",
       "      <td>t_id_4dKntPVB</td>\n",
       "      <td>t_id_uJXT7dGu</td>\n",
       "      <td>t_id_U1gh4ghL</td>\n",
       "      <td>t_id_FFUgltSC</td>\n",
       "      <td>t_id_MwnEYfqe</td>\n",
       "      <td>t_id_Ts5LyVQz</td>\n",
       "      <td>t_id_D7NA71la</td>\n",
       "      <td>t_id_z19EyFm2</td>\n",
       "      <td>t_id_hRzOoJ2t</td>\n",
       "      <td>t_id_bYageLYA</td>\n",
       "      <td>t_id_GlcYUlzF</td>\n",
       "      <td>t_id_eb8speoy</td>\n",
       "      <td>t_id_15bo4NKD</td>\n",
       "    </tr>\n",
       "    <tr>\n",
       "      <th>4</th>\n",
       "      <td>ID_2E011NB0</td>\n",
       "      <td>t_id_Pnj3JCZa</td>\n",
       "      <td>t_id_4dKntPVB</td>\n",
       "      <td>t_id_U1gh4ghL</td>\n",
       "      <td>t_id_FFUgltSC</td>\n",
       "      <td>t_id_ViX4pu6R</td>\n",
       "      <td>t_id_eb8speoy</td>\n",
       "      <td>t_id_YjXYTCGC</td>\n",
       "      <td>t_id_mYBXCbwF</td>\n",
       "      <td>t_id_LyqXL5qY</td>\n",
       "      <td>t_id_TZSPBtHq</td>\n",
       "      <td>t_id_GlcYUlzF</td>\n",
       "      <td>t_id_uJXT7dGu</td>\n",
       "      <td>t_id_z19EyFm2</td>\n",
       "      <td>t_id_XN39nRhf</td>\n",
       "      <td>t_id_15bo4NKD</td>\n",
       "    </tr>\n",
       "    <tr>\n",
       "      <th>...</th>\n",
       "      <td>...</td>\n",
       "      <td>...</td>\n",
       "      <td>...</td>\n",
       "      <td>...</td>\n",
       "      <td>...</td>\n",
       "      <td>...</td>\n",
       "      <td>...</td>\n",
       "      <td>...</td>\n",
       "      <td>...</td>\n",
       "      <td>...</td>\n",
       "      <td>...</td>\n",
       "      <td>...</td>\n",
       "      <td>...</td>\n",
       "      <td>...</td>\n",
       "      <td>...</td>\n",
       "      <td>...</td>\n",
       "    </tr>\n",
       "    <tr>\n",
       "      <th>485</th>\n",
       "      <td>ID_0RVNUKK1</td>\n",
       "      <td>t_id_ViX4pu6R</td>\n",
       "      <td>t_id_Pnj3JCZa</td>\n",
       "      <td>t_id_MwnEYfqe</td>\n",
       "      <td>t_id_z19EyFm2</td>\n",
       "      <td>t_id_4dKntPVB</td>\n",
       "      <td>t_id_D7NA71la</td>\n",
       "      <td>t_id_U1gh4ghL</td>\n",
       "      <td>t_id_bYageLYA</td>\n",
       "      <td>t_id_uJXT7dGu</td>\n",
       "      <td>t_id_FFUgltSC</td>\n",
       "      <td>t_id_Ts5LyVQz</td>\n",
       "      <td>t_id_eb8speoy</td>\n",
       "      <td>t_id_KysHzQQK</td>\n",
       "      <td>t_id_GlcYUlzF</td>\n",
       "      <td>t_id_TeQFNMWD</td>\n",
       "    </tr>\n",
       "    <tr>\n",
       "      <th>486</th>\n",
       "      <td>ID_6405IKG3</td>\n",
       "      <td>t_id_Pnj3JCZa</td>\n",
       "      <td>t_id_ViX4pu6R</td>\n",
       "      <td>t_id_4dKntPVB</td>\n",
       "      <td>t_id_MwnEYfqe</td>\n",
       "      <td>t_id_U1gh4ghL</td>\n",
       "      <td>t_id_FFUgltSC</td>\n",
       "      <td>t_id_z19EyFm2</td>\n",
       "      <td>t_id_D7NA71la</td>\n",
       "      <td>t_id_uJXT7dGu</td>\n",
       "      <td>t_id_GlcYUlzF</td>\n",
       "      <td>t_id_TZSPBtHq</td>\n",
       "      <td>t_id_bYageLYA</td>\n",
       "      <td>t_id_Ts5LyVQz</td>\n",
       "      <td>t_id_vAVZTAEk</td>\n",
       "      <td>t_id_TeQFNMWD</td>\n",
       "    </tr>\n",
       "    <tr>\n",
       "      <th>487</th>\n",
       "      <td>ID_6WVPVB7S</td>\n",
       "      <td>t_id_Pnj3JCZa</td>\n",
       "      <td>t_id_ViX4pu6R</td>\n",
       "      <td>t_id_4dKntPVB</td>\n",
       "      <td>t_id_MwnEYfqe</td>\n",
       "      <td>t_id_o8HFaaCp</td>\n",
       "      <td>t_id_uJXT7dGu</td>\n",
       "      <td>t_id_GlcYUlzF</td>\n",
       "      <td>t_id_FFUgltSC</td>\n",
       "      <td>t_id_U1gh4ghL</td>\n",
       "      <td>t_id_D7NA71la</td>\n",
       "      <td>t_id_Ts5LyVQz</td>\n",
       "      <td>t_id_z19EyFm2</td>\n",
       "      <td>t_id_hRzOoJ2t</td>\n",
       "      <td>t_id_bYageLYA</td>\n",
       "      <td>t_id_YjXYTCGC</td>\n",
       "    </tr>\n",
       "    <tr>\n",
       "      <th>488</th>\n",
       "      <td>ID_47C5LL2G</td>\n",
       "      <td>t_id_ViX4pu6R</td>\n",
       "      <td>t_id_Pnj3JCZa</td>\n",
       "      <td>t_id_4dKntPVB</td>\n",
       "      <td>t_id_U1gh4ghL</td>\n",
       "      <td>t_id_FFUgltSC</td>\n",
       "      <td>t_id_MwnEYfqe</td>\n",
       "      <td>t_id_D7NA71la</td>\n",
       "      <td>t_id_z19EyFm2</td>\n",
       "      <td>t_id_Ts5LyVQz</td>\n",
       "      <td>t_id_15bo4NKD</td>\n",
       "      <td>t_id_eb8speoy</td>\n",
       "      <td>t_id_uJXT7dGu</td>\n",
       "      <td>t_id_bYageLYA</td>\n",
       "      <td>t_id_TeQFNMWD</td>\n",
       "      <td>t_id_Kc1tXDbJ</td>\n",
       "    </tr>\n",
       "    <tr>\n",
       "      <th>489</th>\n",
       "      <td>ID_HZP6EJAK</td>\n",
       "      <td>t_id_ViX4pu6R</td>\n",
       "      <td>t_id_Pnj3JCZa</td>\n",
       "      <td>t_id_U1gh4ghL</td>\n",
       "      <td>t_id_4dKntPVB</td>\n",
       "      <td>t_id_FFUgltSC</td>\n",
       "      <td>t_id_15bo4NKD</td>\n",
       "      <td>t_id_D7NA71la</td>\n",
       "      <td>t_id_z19EyFm2</td>\n",
       "      <td>t_id_Ts5LyVQz</td>\n",
       "      <td>t_id_uJXT7dGu</td>\n",
       "      <td>t_id_MwnEYfqe</td>\n",
       "      <td>t_id_IlO9BOKc</td>\n",
       "      <td>t_id_eb8speoy</td>\n",
       "      <td>t_id_CAjv5Dxo</td>\n",
       "      <td>t_id_TeQFNMWD</td>\n",
       "    </tr>\n",
       "  </tbody>\n",
       "</table>\n",
       "<p>490 rows × 16 columns</p>\n",
       "</div>\n",
       "      <button class=\"colab-df-convert\" onclick=\"convertToInteractive('df-4c1bb79e-cebe-4475-a67f-84c09549b255')\"\n",
       "              title=\"Convert this dataframe to an interactive table.\"\n",
       "              style=\"display:none;\">\n",
       "        \n",
       "  <svg xmlns=\"http://www.w3.org/2000/svg\" height=\"24px\"viewBox=\"0 0 24 24\"\n",
       "       width=\"24px\">\n",
       "    <path d=\"M0 0h24v24H0V0z\" fill=\"none\"/>\n",
       "    <path d=\"M18.56 5.44l.94 2.06.94-2.06 2.06-.94-2.06-.94-.94-2.06-.94 2.06-2.06.94zm-11 1L8.5 8.5l.94-2.06 2.06-.94-2.06-.94L8.5 2.5l-.94 2.06-2.06.94zm10 10l.94 2.06.94-2.06 2.06-.94-2.06-.94-.94-2.06-.94 2.06-2.06.94z\"/><path d=\"M17.41 7.96l-1.37-1.37c-.4-.4-.92-.59-1.43-.59-.52 0-1.04.2-1.43.59L10.3 9.45l-7.72 7.72c-.78.78-.78 2.05 0 2.83L4 21.41c.39.39.9.59 1.41.59.51 0 1.02-.2 1.41-.59l7.78-7.78 2.81-2.81c.8-.78.8-2.07 0-2.86zM5.41 20L4 18.59l7.72-7.72 1.47 1.35L5.41 20z\"/>\n",
       "  </svg>\n",
       "      </button>\n",
       "      \n",
       "  <style>\n",
       "    .colab-df-container {\n",
       "      display:flex;\n",
       "      flex-wrap:wrap;\n",
       "      gap: 12px;\n",
       "    }\n",
       "\n",
       "    .colab-df-convert {\n",
       "      background-color: #E8F0FE;\n",
       "      border: none;\n",
       "      border-radius: 50%;\n",
       "      cursor: pointer;\n",
       "      display: none;\n",
       "      fill: #1967D2;\n",
       "      height: 32px;\n",
       "      padding: 0 0 0 0;\n",
       "      width: 32px;\n",
       "    }\n",
       "\n",
       "    .colab-df-convert:hover {\n",
       "      background-color: #E2EBFA;\n",
       "      box-shadow: 0px 1px 2px rgba(60, 64, 67, 0.3), 0px 1px 3px 1px rgba(60, 64, 67, 0.15);\n",
       "      fill: #174EA6;\n",
       "    }\n",
       "\n",
       "    [theme=dark] .colab-df-convert {\n",
       "      background-color: #3B4455;\n",
       "      fill: #D2E3FC;\n",
       "    }\n",
       "\n",
       "    [theme=dark] .colab-df-convert:hover {\n",
       "      background-color: #434B5C;\n",
       "      box-shadow: 0px 1px 3px 1px rgba(0, 0, 0, 0.15);\n",
       "      filter: drop-shadow(0px 1px 2px rgba(0, 0, 0, 0.3));\n",
       "      fill: #FFFFFF;\n",
       "    }\n",
       "  </style>\n",
       "\n",
       "      <script>\n",
       "        const buttonEl =\n",
       "          document.querySelector('#df-4c1bb79e-cebe-4475-a67f-84c09549b255 button.colab-df-convert');\n",
       "        buttonEl.style.display =\n",
       "          google.colab.kernel.accessAllowed ? 'block' : 'none';\n",
       "\n",
       "        async function convertToInteractive(key) {\n",
       "          const element = document.querySelector('#df-4c1bb79e-cebe-4475-a67f-84c09549b255');\n",
       "          const dataTable =\n",
       "            await google.colab.kernel.invokeFunction('convertToInteractive',\n",
       "                                                     [key], {});\n",
       "          if (!dataTable) return;\n",
       "\n",
       "          const docLinkHtml = 'Like what you see? Visit the ' +\n",
       "            '<a target=\"_blank\" href=https://colab.research.google.com/notebooks/data_table.ipynb>data table notebook</a>'\n",
       "            + ' to learn more about interactive tables.';\n",
       "          element.innerHTML = '';\n",
       "          dataTable['output_type'] = 'display_data';\n",
       "          await google.colab.output.renderOutput(dataTable, element);\n",
       "          const docLink = document.createElement('div');\n",
       "          docLink.innerHTML = docLinkHtml;\n",
       "          element.appendChild(docLink);\n",
       "        }\n",
       "      </script>\n",
       "    </div>\n",
       "  </div>\n",
       "  "
      ],
      "text/plain": [
       "        image_id    prediction1    prediction2    prediction3    prediction4  \\\n",
       "0    ID_6NEDKOYZ  t_id_ViX4pu6R  t_id_15bo4NKD  t_id_Pnj3JCZa  t_id_U1gh4ghL   \n",
       "1    ID_57QZ4S9N  t_id_15bo4NKD  t_id_U1gh4ghL  t_id_G5JLzvai  t_id_4dKntPVB   \n",
       "2    ID_OCGGJS5X  t_id_U1gh4ghL  t_id_4dKntPVB  t_id_15bo4NKD  t_id_FFUgltSC   \n",
       "3    ID_R2993S3S  t_id_Pnj3JCZa  t_id_ViX4pu6R  t_id_4dKntPVB  t_id_uJXT7dGu   \n",
       "4    ID_2E011NB0  t_id_Pnj3JCZa  t_id_4dKntPVB  t_id_U1gh4ghL  t_id_FFUgltSC   \n",
       "..           ...            ...            ...            ...            ...   \n",
       "485  ID_0RVNUKK1  t_id_ViX4pu6R  t_id_Pnj3JCZa  t_id_MwnEYfqe  t_id_z19EyFm2   \n",
       "486  ID_6405IKG3  t_id_Pnj3JCZa  t_id_ViX4pu6R  t_id_4dKntPVB  t_id_MwnEYfqe   \n",
       "487  ID_6WVPVB7S  t_id_Pnj3JCZa  t_id_ViX4pu6R  t_id_4dKntPVB  t_id_MwnEYfqe   \n",
       "488  ID_47C5LL2G  t_id_ViX4pu6R  t_id_Pnj3JCZa  t_id_4dKntPVB  t_id_U1gh4ghL   \n",
       "489  ID_HZP6EJAK  t_id_ViX4pu6R  t_id_Pnj3JCZa  t_id_U1gh4ghL  t_id_4dKntPVB   \n",
       "\n",
       "       prediction5    prediction6    prediction7    prediction8  \\\n",
       "0    t_id_4dKntPVB  t_id_lt9jQtvW  t_id_FFUgltSC  t_id_Ts5LyVQz   \n",
       "1    t_id_lt9jQtvW  t_id_FFUgltSC  t_id_pCO59rOk  t_id_Ts5LyVQz   \n",
       "2    t_id_ViX4pu6R  t_id_Pnj3JCZa  t_id_XN39nRhf  t_id_LyqXL5qY   \n",
       "3    t_id_U1gh4ghL  t_id_FFUgltSC  t_id_MwnEYfqe  t_id_Ts5LyVQz   \n",
       "4    t_id_ViX4pu6R  t_id_eb8speoy  t_id_YjXYTCGC  t_id_mYBXCbwF   \n",
       "..             ...            ...            ...            ...   \n",
       "485  t_id_4dKntPVB  t_id_D7NA71la  t_id_U1gh4ghL  t_id_bYageLYA   \n",
       "486  t_id_U1gh4ghL  t_id_FFUgltSC  t_id_z19EyFm2  t_id_D7NA71la   \n",
       "487  t_id_o8HFaaCp  t_id_uJXT7dGu  t_id_GlcYUlzF  t_id_FFUgltSC   \n",
       "488  t_id_FFUgltSC  t_id_MwnEYfqe  t_id_D7NA71la  t_id_z19EyFm2   \n",
       "489  t_id_FFUgltSC  t_id_15bo4NKD  t_id_D7NA71la  t_id_z19EyFm2   \n",
       "\n",
       "       prediction9   prediction10   prediction11   prediction12  \\\n",
       "0    t_id_D7NA71la  t_id_G5JLzvai  t_id_z19EyFm2  t_id_MwnEYfqe   \n",
       "1    t_id_n2FBHk6d  t_id_ViX4pu6R  t_id_XN39nRhf  t_id_m2JvEcsg   \n",
       "2    t_id_G5JLzvai  t_id_YjXYTCGC  t_id_Ts5LyVQz  t_id_eb8speoy   \n",
       "3    t_id_D7NA71la  t_id_z19EyFm2  t_id_hRzOoJ2t  t_id_bYageLYA   \n",
       "4    t_id_LyqXL5qY  t_id_TZSPBtHq  t_id_GlcYUlzF  t_id_uJXT7dGu   \n",
       "..             ...            ...            ...            ...   \n",
       "485  t_id_uJXT7dGu  t_id_FFUgltSC  t_id_Ts5LyVQz  t_id_eb8speoy   \n",
       "486  t_id_uJXT7dGu  t_id_GlcYUlzF  t_id_TZSPBtHq  t_id_bYageLYA   \n",
       "487  t_id_U1gh4ghL  t_id_D7NA71la  t_id_Ts5LyVQz  t_id_z19EyFm2   \n",
       "488  t_id_Ts5LyVQz  t_id_15bo4NKD  t_id_eb8speoy  t_id_uJXT7dGu   \n",
       "489  t_id_Ts5LyVQz  t_id_uJXT7dGu  t_id_MwnEYfqe  t_id_IlO9BOKc   \n",
       "\n",
       "      prediction13   prediction14   prediction15  \n",
       "0    t_id_IlO9BOKc  t_id_uJXT7dGu  t_id_XN39nRhf  \n",
       "1    t_id_IlO9BOKc  t_id_UHs5o4Dv  t_id_1pAisCFy  \n",
       "2    t_id_lt9jQtvW  t_id_UHs5o4Dv  t_id_GlcYUlzF  \n",
       "3    t_id_GlcYUlzF  t_id_eb8speoy  t_id_15bo4NKD  \n",
       "4    t_id_z19EyFm2  t_id_XN39nRhf  t_id_15bo4NKD  \n",
       "..             ...            ...            ...  \n",
       "485  t_id_KysHzQQK  t_id_GlcYUlzF  t_id_TeQFNMWD  \n",
       "486  t_id_Ts5LyVQz  t_id_vAVZTAEk  t_id_TeQFNMWD  \n",
       "487  t_id_hRzOoJ2t  t_id_bYageLYA  t_id_YjXYTCGC  \n",
       "488  t_id_bYageLYA  t_id_TeQFNMWD  t_id_Kc1tXDbJ  \n",
       "489  t_id_eb8speoy  t_id_CAjv5Dxo  t_id_TeQFNMWD  \n",
       "\n",
       "[490 rows x 16 columns]"
      ]
     },
     "execution_count": 40,
     "metadata": {},
     "output_type": "execute_result"
    }
   ],
   "source": [
    "sample_submission"
   ]
  },
  {
   "cell_type": "markdown",
   "metadata": {
    "id": "7VoWcjLRYheo"
   },
   "source": [
    "###### Customize submission\n",
    "\n",
    "I wrote a custom function to change labels in my submission file, I.E if turtle_id is not among the original 100, we'll just change the name to new_turtle "
   ]
  },
  {
   "cell_type": "code",
   "execution_count": 41,
   "metadata": {
    "id": "9zAvIm6JYVbl"
   },
   "outputs": [],
   "source": [
    "def correcter(text):\n",
    "  if text in list(train_df_orig.turtle_id.values):\n",
    "    return(text)\n",
    "  else:\n",
    "    return(\"new_turtle\")"
   ]
  },
  {
   "cell_type": "markdown",
   "metadata": {
    "id": "CVsM5Do3SjGv"
   },
   "source": [
    "###### Another Problem!\n",
    "\n",
    "The issue with approaching the task like this is that at the end, we have several new_turtle class in one row which makes no sense to submit, since it isn't reasonable for the same turtle name to appear twice."
   ]
  },
  {
   "cell_type": "code",
   "execution_count": 42,
   "metadata": {
    "colab": {
     "base_uri": "https://localhost:8080/"
    },
    "id": "kfxbw3EAfTY_",
    "outputId": "55a41f6c-aefb-4097-99c4-8d88c79e4cbb"
   },
   "outputs": [
    {
     "data": {
      "text/plain": [
       "16"
      ]
     },
     "execution_count": 42,
     "metadata": {},
     "output_type": "execute_result"
    }
   ],
   "source": [
    "len(sample_submission.columns)"
   ]
  },
  {
   "cell_type": "markdown",
   "metadata": {
    "id": "vAAUym7SSjGv"
   },
   "source": [
    "###### Apply custom function on submission"
   ]
  },
  {
   "cell_type": "code",
   "execution_count": 47,
   "metadata": {
    "id": "_0wJfhNDX7_d"
   },
   "outputs": [],
   "source": [
    "for i in [\"prediction{}\".format(i+1) for i in range(len(sample_submission.columns)-1)]:\n",
    "  sample_submission[i] = [correcter(i) for i in sample_submission[i]]"
   ]
  },
  {
   "cell_type": "markdown",
   "metadata": {
    "id": "AEfceyehf7eC"
   },
   "source": [
    "###### Preview submission"
   ]
  },
  {
   "cell_type": "code",
   "execution_count": 48,
   "metadata": {
    "colab": {
     "base_uri": "https://localhost:8080/",
     "height": 250
    },
    "id": "TiSDr7S7Y8wI",
    "outputId": "d5699efa-c348-473c-881e-06797e9c37e6"
   },
   "outputs": [
    {
     "data": {
      "text/html": [
       "\n",
       "  <div id=\"df-53e5967b-944b-4716-81c3-aa0e6200f335\">\n",
       "    <div class=\"colab-df-container\">\n",
       "      <div>\n",
       "<style scoped>\n",
       "    .dataframe tbody tr th:only-of-type {\n",
       "        vertical-align: middle;\n",
       "    }\n",
       "\n",
       "    .dataframe tbody tr th {\n",
       "        vertical-align: top;\n",
       "    }\n",
       "\n",
       "    .dataframe thead th {\n",
       "        text-align: right;\n",
       "    }\n",
       "</style>\n",
       "<table border=\"1\" class=\"dataframe\">\n",
       "  <thead>\n",
       "    <tr style=\"text-align: right;\">\n",
       "      <th></th>\n",
       "      <th>image_id</th>\n",
       "      <th>prediction1</th>\n",
       "      <th>prediction2</th>\n",
       "      <th>prediction3</th>\n",
       "      <th>prediction4</th>\n",
       "      <th>prediction5</th>\n",
       "      <th>prediction6</th>\n",
       "      <th>prediction7</th>\n",
       "      <th>prediction8</th>\n",
       "      <th>prediction9</th>\n",
       "      <th>prediction10</th>\n",
       "      <th>prediction11</th>\n",
       "      <th>prediction12</th>\n",
       "      <th>prediction13</th>\n",
       "      <th>prediction14</th>\n",
       "      <th>prediction15</th>\n",
       "    </tr>\n",
       "  </thead>\n",
       "  <tbody>\n",
       "    <tr>\n",
       "      <th>0</th>\n",
       "      <td>ID_6NEDKOYZ</td>\n",
       "      <td>new_turtle</td>\n",
       "      <td>t_id_15bo4NKD</td>\n",
       "      <td>new_turtle</td>\n",
       "      <td>new_turtle</td>\n",
       "      <td>new_turtle</td>\n",
       "      <td>new_turtle</td>\n",
       "      <td>new_turtle</td>\n",
       "      <td>t_id_Ts5LyVQz</td>\n",
       "      <td>t_id_D7NA71la</td>\n",
       "      <td>t_id_G5JLzvai</td>\n",
       "      <td>new_turtle</td>\n",
       "      <td>t_id_MwnEYfqe</td>\n",
       "      <td>t_id_IlO9BOKc</td>\n",
       "      <td>t_id_uJXT7dGu</td>\n",
       "      <td>new_turtle</td>\n",
       "    </tr>\n",
       "    <tr>\n",
       "      <th>1</th>\n",
       "      <td>ID_57QZ4S9N</td>\n",
       "      <td>t_id_15bo4NKD</td>\n",
       "      <td>new_turtle</td>\n",
       "      <td>t_id_G5JLzvai</td>\n",
       "      <td>new_turtle</td>\n",
       "      <td>new_turtle</td>\n",
       "      <td>new_turtle</td>\n",
       "      <td>t_id_pCO59rOk</td>\n",
       "      <td>t_id_Ts5LyVQz</td>\n",
       "      <td>t_id_n2FBHk6d</td>\n",
       "      <td>new_turtle</td>\n",
       "      <td>new_turtle</td>\n",
       "      <td>t_id_m2JvEcsg</td>\n",
       "      <td>t_id_IlO9BOKc</td>\n",
       "      <td>new_turtle</td>\n",
       "      <td>new_turtle</td>\n",
       "    </tr>\n",
       "    <tr>\n",
       "      <th>2</th>\n",
       "      <td>ID_OCGGJS5X</td>\n",
       "      <td>new_turtle</td>\n",
       "      <td>new_turtle</td>\n",
       "      <td>t_id_15bo4NKD</td>\n",
       "      <td>new_turtle</td>\n",
       "      <td>new_turtle</td>\n",
       "      <td>new_turtle</td>\n",
       "      <td>new_turtle</td>\n",
       "      <td>new_turtle</td>\n",
       "      <td>t_id_G5JLzvai</td>\n",
       "      <td>t_id_YjXYTCGC</td>\n",
       "      <td>t_id_Ts5LyVQz</td>\n",
       "      <td>new_turtle</td>\n",
       "      <td>new_turtle</td>\n",
       "      <td>new_turtle</td>\n",
       "      <td>new_turtle</td>\n",
       "    </tr>\n",
       "    <tr>\n",
       "      <th>3</th>\n",
       "      <td>ID_R2993S3S</td>\n",
       "      <td>new_turtle</td>\n",
       "      <td>new_turtle</td>\n",
       "      <td>new_turtle</td>\n",
       "      <td>t_id_uJXT7dGu</td>\n",
       "      <td>new_turtle</td>\n",
       "      <td>new_turtle</td>\n",
       "      <td>t_id_MwnEYfqe</td>\n",
       "      <td>t_id_Ts5LyVQz</td>\n",
       "      <td>t_id_D7NA71la</td>\n",
       "      <td>new_turtle</td>\n",
       "      <td>t_id_hRzOoJ2t</td>\n",
       "      <td>t_id_bYageLYA</td>\n",
       "      <td>new_turtle</td>\n",
       "      <td>new_turtle</td>\n",
       "      <td>t_id_15bo4NKD</td>\n",
       "    </tr>\n",
       "    <tr>\n",
       "      <th>4</th>\n",
       "      <td>ID_2E011NB0</td>\n",
       "      <td>new_turtle</td>\n",
       "      <td>new_turtle</td>\n",
       "      <td>new_turtle</td>\n",
       "      <td>new_turtle</td>\n",
       "      <td>new_turtle</td>\n",
       "      <td>new_turtle</td>\n",
       "      <td>t_id_YjXYTCGC</td>\n",
       "      <td>new_turtle</td>\n",
       "      <td>new_turtle</td>\n",
       "      <td>new_turtle</td>\n",
       "      <td>new_turtle</td>\n",
       "      <td>t_id_uJXT7dGu</td>\n",
       "      <td>new_turtle</td>\n",
       "      <td>new_turtle</td>\n",
       "      <td>t_id_15bo4NKD</td>\n",
       "    </tr>\n",
       "  </tbody>\n",
       "</table>\n",
       "</div>\n",
       "      <button class=\"colab-df-convert\" onclick=\"convertToInteractive('df-53e5967b-944b-4716-81c3-aa0e6200f335')\"\n",
       "              title=\"Convert this dataframe to an interactive table.\"\n",
       "              style=\"display:none;\">\n",
       "        \n",
       "  <svg xmlns=\"http://www.w3.org/2000/svg\" height=\"24px\"viewBox=\"0 0 24 24\"\n",
       "       width=\"24px\">\n",
       "    <path d=\"M0 0h24v24H0V0z\" fill=\"none\"/>\n",
       "    <path d=\"M18.56 5.44l.94 2.06.94-2.06 2.06-.94-2.06-.94-.94-2.06-.94 2.06-2.06.94zm-11 1L8.5 8.5l.94-2.06 2.06-.94-2.06-.94L8.5 2.5l-.94 2.06-2.06.94zm10 10l.94 2.06.94-2.06 2.06-.94-2.06-.94-.94-2.06-.94 2.06-2.06.94z\"/><path d=\"M17.41 7.96l-1.37-1.37c-.4-.4-.92-.59-1.43-.59-.52 0-1.04.2-1.43.59L10.3 9.45l-7.72 7.72c-.78.78-.78 2.05 0 2.83L4 21.41c.39.39.9.59 1.41.59.51 0 1.02-.2 1.41-.59l7.78-7.78 2.81-2.81c.8-.78.8-2.07 0-2.86zM5.41 20L4 18.59l7.72-7.72 1.47 1.35L5.41 20z\"/>\n",
       "  </svg>\n",
       "      </button>\n",
       "      \n",
       "  <style>\n",
       "    .colab-df-container {\n",
       "      display:flex;\n",
       "      flex-wrap:wrap;\n",
       "      gap: 12px;\n",
       "    }\n",
       "\n",
       "    .colab-df-convert {\n",
       "      background-color: #E8F0FE;\n",
       "      border: none;\n",
       "      border-radius: 50%;\n",
       "      cursor: pointer;\n",
       "      display: none;\n",
       "      fill: #1967D2;\n",
       "      height: 32px;\n",
       "      padding: 0 0 0 0;\n",
       "      width: 32px;\n",
       "    }\n",
       "\n",
       "    .colab-df-convert:hover {\n",
       "      background-color: #E2EBFA;\n",
       "      box-shadow: 0px 1px 2px rgba(60, 64, 67, 0.3), 0px 1px 3px 1px rgba(60, 64, 67, 0.15);\n",
       "      fill: #174EA6;\n",
       "    }\n",
       "\n",
       "    [theme=dark] .colab-df-convert {\n",
       "      background-color: #3B4455;\n",
       "      fill: #D2E3FC;\n",
       "    }\n",
       "\n",
       "    [theme=dark] .colab-df-convert:hover {\n",
       "      background-color: #434B5C;\n",
       "      box-shadow: 0px 1px 3px 1px rgba(0, 0, 0, 0.15);\n",
       "      filter: drop-shadow(0px 1px 2px rgba(0, 0, 0, 0.3));\n",
       "      fill: #FFFFFF;\n",
       "    }\n",
       "  </style>\n",
       "\n",
       "      <script>\n",
       "        const buttonEl =\n",
       "          document.querySelector('#df-53e5967b-944b-4716-81c3-aa0e6200f335 button.colab-df-convert');\n",
       "        buttonEl.style.display =\n",
       "          google.colab.kernel.accessAllowed ? 'block' : 'none';\n",
       "\n",
       "        async function convertToInteractive(key) {\n",
       "          const element = document.querySelector('#df-53e5967b-944b-4716-81c3-aa0e6200f335');\n",
       "          const dataTable =\n",
       "            await google.colab.kernel.invokeFunction('convertToInteractive',\n",
       "                                                     [key], {});\n",
       "          if (!dataTable) return;\n",
       "\n",
       "          const docLinkHtml = 'Like what you see? Visit the ' +\n",
       "            '<a target=\"_blank\" href=https://colab.research.google.com/notebooks/data_table.ipynb>data table notebook</a>'\n",
       "            + ' to learn more about interactive tables.';\n",
       "          element.innerHTML = '';\n",
       "          dataTable['output_type'] = 'display_data';\n",
       "          await google.colab.output.renderOutput(dataTable, element);\n",
       "          const docLink = document.createElement('div');\n",
       "          docLink.innerHTML = docLinkHtml;\n",
       "          element.appendChild(docLink);\n",
       "        }\n",
       "      </script>\n",
       "    </div>\n",
       "  </div>\n",
       "  "
      ],
      "text/plain": [
       "      image_id    prediction1    prediction2    prediction3    prediction4  \\\n",
       "0  ID_6NEDKOYZ     new_turtle  t_id_15bo4NKD     new_turtle     new_turtle   \n",
       "1  ID_57QZ4S9N  t_id_15bo4NKD     new_turtle  t_id_G5JLzvai     new_turtle   \n",
       "2  ID_OCGGJS5X     new_turtle     new_turtle  t_id_15bo4NKD     new_turtle   \n",
       "3  ID_R2993S3S     new_turtle     new_turtle     new_turtle  t_id_uJXT7dGu   \n",
       "4  ID_2E011NB0     new_turtle     new_turtle     new_turtle     new_turtle   \n",
       "\n",
       "  prediction5 prediction6    prediction7    prediction8    prediction9  \\\n",
       "0  new_turtle  new_turtle     new_turtle  t_id_Ts5LyVQz  t_id_D7NA71la   \n",
       "1  new_turtle  new_turtle  t_id_pCO59rOk  t_id_Ts5LyVQz  t_id_n2FBHk6d   \n",
       "2  new_turtle  new_turtle     new_turtle     new_turtle  t_id_G5JLzvai   \n",
       "3  new_turtle  new_turtle  t_id_MwnEYfqe  t_id_Ts5LyVQz  t_id_D7NA71la   \n",
       "4  new_turtle  new_turtle  t_id_YjXYTCGC     new_turtle     new_turtle   \n",
       "\n",
       "    prediction10   prediction11   prediction12   prediction13   prediction14  \\\n",
       "0  t_id_G5JLzvai     new_turtle  t_id_MwnEYfqe  t_id_IlO9BOKc  t_id_uJXT7dGu   \n",
       "1     new_turtle     new_turtle  t_id_m2JvEcsg  t_id_IlO9BOKc     new_turtle   \n",
       "2  t_id_YjXYTCGC  t_id_Ts5LyVQz     new_turtle     new_turtle     new_turtle   \n",
       "3     new_turtle  t_id_hRzOoJ2t  t_id_bYageLYA     new_turtle     new_turtle   \n",
       "4     new_turtle     new_turtle  t_id_uJXT7dGu     new_turtle     new_turtle   \n",
       "\n",
       "    prediction15  \n",
       "0     new_turtle  \n",
       "1     new_turtle  \n",
       "2     new_turtle  \n",
       "3  t_id_15bo4NKD  \n",
       "4  t_id_15bo4NKD  "
      ]
     },
     "execution_count": 48,
     "metadata": {},
     "output_type": "execute_result"
    }
   ],
   "source": [
    "sample_submission.head()"
   ]
  },
  {
   "cell_type": "code",
   "execution_count": 49,
   "metadata": {
    "id": "RKE4h4X4h71B"
   },
   "outputs": [],
   "source": [
    "sample_sub = sample_submission.copy()"
   ]
  },
  {
   "cell_type": "markdown",
   "metadata": {
    "id": "lVOucB00iBSc"
   },
   "source": [
    "###### Solution to repeated classes: \n",
    "Pick the unique Items in your long row, and cap it at 5 predictions. Also, ensure you maintain the Order which is super important! the code below does that. so my 15 predictions is capped to 5.\n",
    "\n",
    "ps: Note that np.unique() sorts the list in ascending order, so you have to keep index to maintain the order of the predictions."
   ]
  },
  {
   "cell_type": "code",
   "execution_count": 50,
   "metadata": {
    "id": "MKlas7YiiBXk"
   },
   "outputs": [],
   "source": [
    "new_frame = []\n",
    "for each_row in range(len(sample_sub)):\n",
    " # print(each_row)\n",
    "  _, idx  = np.unique(sample_sub[each_row:(each_row+1)].values,return_index=True)\n",
    "  new_frame.append(sample_sub[each_row:(each_row+1)].values.flatten()[np.sort(idx)][:6].tolist())"
   ]
  },
  {
   "cell_type": "markdown",
   "metadata": {
    "id": "kdDNRYFTSjGx"
   },
   "source": [
    "Create submission as a data frame and name your columns"
   ]
  },
  {
   "cell_type": "code",
   "execution_count": 51,
   "metadata": {
    "colab": {
     "base_uri": "https://localhost:8080/",
     "height": 206
    },
    "id": "29ezECdhpP-c",
    "outputId": "3c1bb594-95f7-4d3e-8722-035d64ec971e"
   },
   "outputs": [
    {
     "data": {
      "text/html": [
       "\n",
       "  <div id=\"df-57aba716-aa85-4910-a83f-5705951d92fe\">\n",
       "    <div class=\"colab-df-container\">\n",
       "      <div>\n",
       "<style scoped>\n",
       "    .dataframe tbody tr th:only-of-type {\n",
       "        vertical-align: middle;\n",
       "    }\n",
       "\n",
       "    .dataframe tbody tr th {\n",
       "        vertical-align: top;\n",
       "    }\n",
       "\n",
       "    .dataframe thead th {\n",
       "        text-align: right;\n",
       "    }\n",
       "</style>\n",
       "<table border=\"1\" class=\"dataframe\">\n",
       "  <thead>\n",
       "    <tr style=\"text-align: right;\">\n",
       "      <th></th>\n",
       "      <th>image_id</th>\n",
       "      <th>prediction1</th>\n",
       "      <th>prediction2</th>\n",
       "      <th>prediction3</th>\n",
       "      <th>prediction4</th>\n",
       "      <th>prediction5</th>\n",
       "    </tr>\n",
       "  </thead>\n",
       "  <tbody>\n",
       "    <tr>\n",
       "      <th>0</th>\n",
       "      <td>ID_6NEDKOYZ</td>\n",
       "      <td>new_turtle</td>\n",
       "      <td>t_id_15bo4NKD</td>\n",
       "      <td>t_id_Ts5LyVQz</td>\n",
       "      <td>t_id_D7NA71la</td>\n",
       "      <td>t_id_G5JLzvai</td>\n",
       "    </tr>\n",
       "    <tr>\n",
       "      <th>1</th>\n",
       "      <td>ID_57QZ4S9N</td>\n",
       "      <td>t_id_15bo4NKD</td>\n",
       "      <td>new_turtle</td>\n",
       "      <td>t_id_G5JLzvai</td>\n",
       "      <td>t_id_pCO59rOk</td>\n",
       "      <td>t_id_Ts5LyVQz</td>\n",
       "    </tr>\n",
       "    <tr>\n",
       "      <th>2</th>\n",
       "      <td>ID_OCGGJS5X</td>\n",
       "      <td>new_turtle</td>\n",
       "      <td>t_id_15bo4NKD</td>\n",
       "      <td>t_id_G5JLzvai</td>\n",
       "      <td>t_id_YjXYTCGC</td>\n",
       "      <td>t_id_Ts5LyVQz</td>\n",
       "    </tr>\n",
       "    <tr>\n",
       "      <th>3</th>\n",
       "      <td>ID_R2993S3S</td>\n",
       "      <td>new_turtle</td>\n",
       "      <td>t_id_uJXT7dGu</td>\n",
       "      <td>t_id_MwnEYfqe</td>\n",
       "      <td>t_id_Ts5LyVQz</td>\n",
       "      <td>t_id_D7NA71la</td>\n",
       "    </tr>\n",
       "    <tr>\n",
       "      <th>4</th>\n",
       "      <td>ID_2E011NB0</td>\n",
       "      <td>new_turtle</td>\n",
       "      <td>t_id_YjXYTCGC</td>\n",
       "      <td>t_id_uJXT7dGu</td>\n",
       "      <td>t_id_15bo4NKD</td>\n",
       "      <td>None</td>\n",
       "    </tr>\n",
       "  </tbody>\n",
       "</table>\n",
       "</div>\n",
       "      <button class=\"colab-df-convert\" onclick=\"convertToInteractive('df-57aba716-aa85-4910-a83f-5705951d92fe')\"\n",
       "              title=\"Convert this dataframe to an interactive table.\"\n",
       "              style=\"display:none;\">\n",
       "        \n",
       "  <svg xmlns=\"http://www.w3.org/2000/svg\" height=\"24px\"viewBox=\"0 0 24 24\"\n",
       "       width=\"24px\">\n",
       "    <path d=\"M0 0h24v24H0V0z\" fill=\"none\"/>\n",
       "    <path d=\"M18.56 5.44l.94 2.06.94-2.06 2.06-.94-2.06-.94-.94-2.06-.94 2.06-2.06.94zm-11 1L8.5 8.5l.94-2.06 2.06-.94-2.06-.94L8.5 2.5l-.94 2.06-2.06.94zm10 10l.94 2.06.94-2.06 2.06-.94-2.06-.94-.94-2.06-.94 2.06-2.06.94z\"/><path d=\"M17.41 7.96l-1.37-1.37c-.4-.4-.92-.59-1.43-.59-.52 0-1.04.2-1.43.59L10.3 9.45l-7.72 7.72c-.78.78-.78 2.05 0 2.83L4 21.41c.39.39.9.59 1.41.59.51 0 1.02-.2 1.41-.59l7.78-7.78 2.81-2.81c.8-.78.8-2.07 0-2.86zM5.41 20L4 18.59l7.72-7.72 1.47 1.35L5.41 20z\"/>\n",
       "  </svg>\n",
       "      </button>\n",
       "      \n",
       "  <style>\n",
       "    .colab-df-container {\n",
       "      display:flex;\n",
       "      flex-wrap:wrap;\n",
       "      gap: 12px;\n",
       "    }\n",
       "\n",
       "    .colab-df-convert {\n",
       "      background-color: #E8F0FE;\n",
       "      border: none;\n",
       "      border-radius: 50%;\n",
       "      cursor: pointer;\n",
       "      display: none;\n",
       "      fill: #1967D2;\n",
       "      height: 32px;\n",
       "      padding: 0 0 0 0;\n",
       "      width: 32px;\n",
       "    }\n",
       "\n",
       "    .colab-df-convert:hover {\n",
       "      background-color: #E2EBFA;\n",
       "      box-shadow: 0px 1px 2px rgba(60, 64, 67, 0.3), 0px 1px 3px 1px rgba(60, 64, 67, 0.15);\n",
       "      fill: #174EA6;\n",
       "    }\n",
       "\n",
       "    [theme=dark] .colab-df-convert {\n",
       "      background-color: #3B4455;\n",
       "      fill: #D2E3FC;\n",
       "    }\n",
       "\n",
       "    [theme=dark] .colab-df-convert:hover {\n",
       "      background-color: #434B5C;\n",
       "      box-shadow: 0px 1px 3px 1px rgba(0, 0, 0, 0.15);\n",
       "      filter: drop-shadow(0px 1px 2px rgba(0, 0, 0, 0.3));\n",
       "      fill: #FFFFFF;\n",
       "    }\n",
       "  </style>\n",
       "\n",
       "      <script>\n",
       "        const buttonEl =\n",
       "          document.querySelector('#df-57aba716-aa85-4910-a83f-5705951d92fe button.colab-df-convert');\n",
       "        buttonEl.style.display =\n",
       "          google.colab.kernel.accessAllowed ? 'block' : 'none';\n",
       "\n",
       "        async function convertToInteractive(key) {\n",
       "          const element = document.querySelector('#df-57aba716-aa85-4910-a83f-5705951d92fe');\n",
       "          const dataTable =\n",
       "            await google.colab.kernel.invokeFunction('convertToInteractive',\n",
       "                                                     [key], {});\n",
       "          if (!dataTable) return;\n",
       "\n",
       "          const docLinkHtml = 'Like what you see? Visit the ' +\n",
       "            '<a target=\"_blank\" href=https://colab.research.google.com/notebooks/data_table.ipynb>data table notebook</a>'\n",
       "            + ' to learn more about interactive tables.';\n",
       "          element.innerHTML = '';\n",
       "          dataTable['output_type'] = 'display_data';\n",
       "          await google.colab.output.renderOutput(dataTable, element);\n",
       "          const docLink = document.createElement('div');\n",
       "          docLink.innerHTML = docLinkHtml;\n",
       "          element.appendChild(docLink);\n",
       "        }\n",
       "      </script>\n",
       "    </div>\n",
       "  </div>\n",
       "  "
      ],
      "text/plain": [
       "      image_id    prediction1    prediction2    prediction3    prediction4  \\\n",
       "0  ID_6NEDKOYZ     new_turtle  t_id_15bo4NKD  t_id_Ts5LyVQz  t_id_D7NA71la   \n",
       "1  ID_57QZ4S9N  t_id_15bo4NKD     new_turtle  t_id_G5JLzvai  t_id_pCO59rOk   \n",
       "2  ID_OCGGJS5X     new_turtle  t_id_15bo4NKD  t_id_G5JLzvai  t_id_YjXYTCGC   \n",
       "3  ID_R2993S3S     new_turtle  t_id_uJXT7dGu  t_id_MwnEYfqe  t_id_Ts5LyVQz   \n",
       "4  ID_2E011NB0     new_turtle  t_id_YjXYTCGC  t_id_uJXT7dGu  t_id_15bo4NKD   \n",
       "\n",
       "     prediction5  \n",
       "0  t_id_G5JLzvai  \n",
       "1  t_id_Ts5LyVQz  \n",
       "2  t_id_Ts5LyVQz  \n",
       "3  t_id_D7NA71la  \n",
       "4           None  "
      ]
     },
     "execution_count": 51,
     "metadata": {},
     "output_type": "execute_result"
    }
   ],
   "source": [
    "final = pd.DataFrame(new_frame)\n",
    "final.columns = [\"image_id\"] + [\"prediction{}\".format(i+1) for i in range(5)]\n",
    "final.head()"
   ]
  },
  {
   "cell_type": "markdown",
   "metadata": {
    "id": "YWtsXR-2SjGx"
   },
   "source": [
    "Download CSV file & submit to Zindi"
   ]
  },
  {
   "cell_type": "code",
   "execution_count": 52,
   "metadata": {
    "colab": {
     "base_uri": "https://localhost:8080/",
     "height": 17
    },
    "id": "nGroPh7ftI5C",
    "outputId": "a2e78c60-3be8-42a3-c800-5fdf4ceecb3d"
   },
   "outputs": [
    {
     "data": {
      "application/javascript": [
       "\n",
       "    async function download(id, filename, size) {\n",
       "      if (!google.colab.kernel.accessAllowed) {\n",
       "        return;\n",
       "      }\n",
       "      const div = document.createElement('div');\n",
       "      const label = document.createElement('label');\n",
       "      label.textContent = `Downloading \"${filename}\": `;\n",
       "      div.appendChild(label);\n",
       "      const progress = document.createElement('progress');\n",
       "      progress.max = size;\n",
       "      div.appendChild(progress);\n",
       "      document.body.appendChild(div);\n",
       "\n",
       "      const buffers = [];\n",
       "      let downloaded = 0;\n",
       "\n",
       "      const channel = await google.colab.kernel.comms.open(id);\n",
       "      // Send a message to notify the kernel that we're ready.\n",
       "      channel.send({})\n",
       "\n",
       "      for await (const message of channel.messages) {\n",
       "        // Send a message to notify the kernel that we're ready.\n",
       "        channel.send({})\n",
       "        if (message.buffers) {\n",
       "          for (const buffer of message.buffers) {\n",
       "            buffers.push(buffer);\n",
       "            downloaded += buffer.byteLength;\n",
       "            progress.value = downloaded;\n",
       "          }\n",
       "        }\n",
       "      }\n",
       "      const blob = new Blob(buffers, {type: 'application/binary'});\n",
       "      const a = document.createElement('a');\n",
       "      a.href = window.URL.createObjectURL(blob);\n",
       "      a.download = filename;\n",
       "      div.appendChild(a);\n",
       "      a.click();\n",
       "      div.remove();\n",
       "    }\n",
       "  "
      ],
      "text/plain": [
       "<IPython.core.display.Javascript object>"
      ]
     },
     "metadata": {},
     "output_type": "display_data"
    },
    {
     "data": {
      "application/javascript": [
       "download(\"download_2c379473-a58c-4254-8969-2ac9c1ee3a6c\", \"Submission.csv\", 38545)"
      ],
      "text/plain": [
       "<IPython.core.display.Javascript object>"
      ]
     },
     "metadata": {},
     "output_type": "display_data"
    }
   ],
   "source": [
    "name = \"Submission.csv\"\n",
    "final.to_csv(name, index=False)\n",
    "from google.colab import files\n",
    "files.download(name)"
   ]
  },
  {
   "cell_type": "markdown",
   "metadata": {},
   "source": [
    "###### Tips for Improvement"
   ]
  },
  {
   "cell_type": "markdown",
   "metadata": {},
   "source": [
    "This is just one of my submissions, I was able to acheive better scores by doing the following.\n",
    "\n",
    "1. Ensemble submissions using mode.\n",
    "2. Use better Augmentation techniques\n",
    "3. Train with more data\n",
    "4. Clean the dataset, i.e remove poor images\n",
    "5. Use better models"
   ]
  },
  {
   "cell_type": "markdown",
   "metadata": {
    "id": "a-fckBhftkx3"
   },
   "source": [
    "I am always open to assist enthusiasts with difficulties they are facing in Machine learning and Deep learning. Feel free to reach out to me: most preferably LinkedIn.\n",
    "\n",
    ". [Twitter](https://twitter.com/Osinkoluolufemi).\n",
    "\n",
    ". [Linkedin](https://www.linkedin.com/in/olufemi-victor-tolulope).\n",
    "\n",
    ". [Github](https://github.com/osinkolu)\n",
    "\n",
    "#### Author: Olufemi Victor Tolulope"
   ]
  }
 ],
 "metadata": {
  "accelerator": "GPU",
  "colab": {
   "collapsed_sections": [],
   "name": "Turtle Recognition.ipynb",
   "provenance": []
  },
  "kernelspec": {
   "display_name": "Python 3 (ipykernel)",
   "language": "python",
   "name": "python3"
  },
  "language_info": {
   "codemirror_mode": {
    "name": "ipython",
    "version": 3
   },
   "file_extension": ".py",
   "mimetype": "text/x-python",
   "name": "python",
   "nbconvert_exporter": "python",
   "pygments_lexer": "ipython3",
   "version": "3.9.7"
  },
  "widgets": {
   "application/vnd.jupyter.widget-state+json": {
    "077f756edf3f4ba9b57a4176347afdeb": {
     "model_module": "@jupyter-widgets/base",
     "model_module_version": "1.2.0",
     "model_name": "LayoutModel",
     "state": {
      "_model_module": "@jupyter-widgets/base",
      "_model_module_version": "1.2.0",
      "_model_name": "LayoutModel",
      "_view_count": null,
      "_view_module": "@jupyter-widgets/base",
      "_view_module_version": "1.2.0",
      "_view_name": "LayoutView",
      "align_content": null,
      "align_items": null,
      "align_self": null,
      "border": null,
      "bottom": null,
      "display": null,
      "flex": null,
      "flex_flow": null,
      "grid_area": null,
      "grid_auto_columns": null,
      "grid_auto_flow": null,
      "grid_auto_rows": null,
      "grid_column": null,
      "grid_gap": null,
      "grid_row": null,
      "grid_template_areas": null,
      "grid_template_columns": null,
      "grid_template_rows": null,
      "height": null,
      "justify_content": null,
      "justify_items": null,
      "left": null,
      "margin": null,
      "max_height": null,
      "max_width": null,
      "min_height": null,
      "min_width": null,
      "object_fit": null,
      "object_position": null,
      "order": null,
      "overflow": null,
      "overflow_x": null,
      "overflow_y": null,
      "padding": null,
      "right": null,
      "top": null,
      "visibility": null,
      "width": null
     }
    },
    "085959852bb840bbabead5285db7b395": {
     "model_module": "@jupyter-widgets/base",
     "model_module_version": "1.2.0",
     "model_name": "LayoutModel",
     "state": {
      "_model_module": "@jupyter-widgets/base",
      "_model_module_version": "1.2.0",
      "_model_name": "LayoutModel",
      "_view_count": null,
      "_view_module": "@jupyter-widgets/base",
      "_view_module_version": "1.2.0",
      "_view_name": "LayoutView",
      "align_content": null,
      "align_items": null,
      "align_self": null,
      "border": null,
      "bottom": null,
      "display": null,
      "flex": null,
      "flex_flow": null,
      "grid_area": null,
      "grid_auto_columns": null,
      "grid_auto_flow": null,
      "grid_auto_rows": null,
      "grid_column": null,
      "grid_gap": null,
      "grid_row": null,
      "grid_template_areas": null,
      "grid_template_columns": null,
      "grid_template_rows": null,
      "height": null,
      "justify_content": null,
      "justify_items": null,
      "left": null,
      "margin": null,
      "max_height": null,
      "max_width": null,
      "min_height": null,
      "min_width": null,
      "object_fit": null,
      "object_position": null,
      "order": null,
      "overflow": null,
      "overflow_x": null,
      "overflow_y": null,
      "padding": null,
      "right": null,
      "top": null,
      "visibility": null,
      "width": null
     }
    },
    "1a879517fbc048ac987f78369c943302": {
     "model_module": "@jupyter-widgets/base",
     "model_module_version": "1.2.0",
     "model_name": "LayoutModel",
     "state": {
      "_model_module": "@jupyter-widgets/base",
      "_model_module_version": "1.2.0",
      "_model_name": "LayoutModel",
      "_view_count": null,
      "_view_module": "@jupyter-widgets/base",
      "_view_module_version": "1.2.0",
      "_view_name": "LayoutView",
      "align_content": null,
      "align_items": null,
      "align_self": null,
      "border": null,
      "bottom": null,
      "display": null,
      "flex": null,
      "flex_flow": null,
      "grid_area": null,
      "grid_auto_columns": null,
      "grid_auto_flow": null,
      "grid_auto_rows": null,
      "grid_column": null,
      "grid_gap": null,
      "grid_row": null,
      "grid_template_areas": null,
      "grid_template_columns": null,
      "grid_template_rows": null,
      "height": null,
      "justify_content": null,
      "justify_items": null,
      "left": null,
      "margin": null,
      "max_height": null,
      "max_width": null,
      "min_height": null,
      "min_width": null,
      "object_fit": null,
      "object_position": null,
      "order": null,
      "overflow": null,
      "overflow_x": null,
      "overflow_y": null,
      "padding": null,
      "right": null,
      "top": null,
      "visibility": null,
      "width": null
     }
    },
    "37e8086e5b9549d89d0125505d29deb2": {
     "model_module": "@jupyter-widgets/controls",
     "model_module_version": "1.5.0",
     "model_name": "ProgressStyleModel",
     "state": {
      "_model_module": "@jupyter-widgets/controls",
      "_model_module_version": "1.5.0",
      "_model_name": "ProgressStyleModel",
      "_view_count": null,
      "_view_module": "@jupyter-widgets/base",
      "_view_module_version": "1.2.0",
      "_view_name": "StyleView",
      "bar_color": null,
      "description_width": ""
     }
    },
    "624279b72c7a406f9d4733fe5215f578": {
     "model_module": "@jupyter-widgets/controls",
     "model_module_version": "1.5.0",
     "model_name": "HBoxModel",
     "state": {
      "_dom_classes": [],
      "_model_module": "@jupyter-widgets/controls",
      "_model_module_version": "1.5.0",
      "_model_name": "HBoxModel",
      "_view_count": null,
      "_view_module": "@jupyter-widgets/controls",
      "_view_module_version": "1.5.0",
      "_view_name": "HBoxView",
      "box_style": "",
      "children": [
       "IPY_MODEL_8d48d32922c14593a20dffd9f4a01da2",
       "IPY_MODEL_a22bd72da6ef4aea90597238803799bf",
       "IPY_MODEL_cea86fd5facd40659794e8321fd91d63"
      ],
      "layout": "IPY_MODEL_077f756edf3f4ba9b57a4176347afdeb"
     }
    },
    "883f0f14b5e2447fa7a5093e9ec1ddee": {
     "model_module": "@jupyter-widgets/base",
     "model_module_version": "1.2.0",
     "model_name": "LayoutModel",
     "state": {
      "_model_module": "@jupyter-widgets/base",
      "_model_module_version": "1.2.0",
      "_model_name": "LayoutModel",
      "_view_count": null,
      "_view_module": "@jupyter-widgets/base",
      "_view_module_version": "1.2.0",
      "_view_name": "LayoutView",
      "align_content": null,
      "align_items": null,
      "align_self": null,
      "border": null,
      "bottom": null,
      "display": null,
      "flex": null,
      "flex_flow": null,
      "grid_area": null,
      "grid_auto_columns": null,
      "grid_auto_flow": null,
      "grid_auto_rows": null,
      "grid_column": null,
      "grid_gap": null,
      "grid_row": null,
      "grid_template_areas": null,
      "grid_template_columns": null,
      "grid_template_rows": null,
      "height": null,
      "justify_content": null,
      "justify_items": null,
      "left": null,
      "margin": null,
      "max_height": null,
      "max_width": null,
      "min_height": null,
      "min_width": null,
      "object_fit": null,
      "object_position": null,
      "order": null,
      "overflow": null,
      "overflow_x": null,
      "overflow_y": null,
      "padding": null,
      "right": null,
      "top": null,
      "visibility": null,
      "width": null
     }
    },
    "8d48d32922c14593a20dffd9f4a01da2": {
     "model_module": "@jupyter-widgets/controls",
     "model_module_version": "1.5.0",
     "model_name": "HTMLModel",
     "state": {
      "_dom_classes": [],
      "_model_module": "@jupyter-widgets/controls",
      "_model_module_version": "1.5.0",
      "_model_name": "HTMLModel",
      "_view_count": null,
      "_view_module": "@jupyter-widgets/controls",
      "_view_module_version": "1.5.0",
      "_view_name": "HTMLView",
      "description": "",
      "description_tooltip": null,
      "layout": "IPY_MODEL_883f0f14b5e2447fa7a5093e9ec1ddee",
      "placeholder": "​",
      "style": "IPY_MODEL_cb1d4ee5ffcd4d4c8af70c7e96502fc8",
      "value": "100%"
     }
    },
    "a22bd72da6ef4aea90597238803799bf": {
     "model_module": "@jupyter-widgets/controls",
     "model_module_version": "1.5.0",
     "model_name": "FloatProgressModel",
     "state": {
      "_dom_classes": [],
      "_model_module": "@jupyter-widgets/controls",
      "_model_module_version": "1.5.0",
      "_model_name": "FloatProgressModel",
      "_view_count": null,
      "_view_module": "@jupyter-widgets/controls",
      "_view_module_version": "1.5.0",
      "_view_name": "ProgressView",
      "bar_style": "success",
      "description": "",
      "description_tooltip": null,
      "layout": "IPY_MODEL_1a879517fbc048ac987f78369c943302",
      "max": 173245619,
      "min": 0,
      "orientation": "horizontal",
      "style": "IPY_MODEL_37e8086e5b9549d89d0125505d29deb2",
      "value": 173245619
     }
    },
    "b3caeb49ac55455181ddc9781767443e": {
     "model_module": "@jupyter-widgets/controls",
     "model_module_version": "1.5.0",
     "model_name": "DescriptionStyleModel",
     "state": {
      "_model_module": "@jupyter-widgets/controls",
      "_model_module_version": "1.5.0",
      "_model_name": "DescriptionStyleModel",
      "_view_count": null,
      "_view_module": "@jupyter-widgets/base",
      "_view_module_version": "1.2.0",
      "_view_name": "StyleView",
      "description_width": ""
     }
    },
    "cb1d4ee5ffcd4d4c8af70c7e96502fc8": {
     "model_module": "@jupyter-widgets/controls",
     "model_module_version": "1.5.0",
     "model_name": "DescriptionStyleModel",
     "state": {
      "_model_module": "@jupyter-widgets/controls",
      "_model_module_version": "1.5.0",
      "_model_name": "DescriptionStyleModel",
      "_view_count": null,
      "_view_module": "@jupyter-widgets/base",
      "_view_module_version": "1.2.0",
      "_view_name": "StyleView",
      "description_width": ""
     }
    },
    "cea86fd5facd40659794e8321fd91d63": {
     "model_module": "@jupyter-widgets/controls",
     "model_module_version": "1.5.0",
     "model_name": "HTMLModel",
     "state": {
      "_dom_classes": [],
      "_model_module": "@jupyter-widgets/controls",
      "_model_module_version": "1.5.0",
      "_model_name": "HTMLModel",
      "_view_count": null,
      "_view_module": "@jupyter-widgets/controls",
      "_view_module_version": "1.5.0",
      "_view_name": "HTMLView",
      "description": "",
      "description_tooltip": null,
      "layout": "IPY_MODEL_085959852bb840bbabead5285db7b395",
      "placeholder": "​",
      "style": "IPY_MODEL_b3caeb49ac55455181ddc9781767443e",
      "value": " 165M/165M [00:09&lt;00:00, 14.3MB/s]"
     }
    }
   }
  }
 },
 "nbformat": 4,
 "nbformat_minor": 1
}
