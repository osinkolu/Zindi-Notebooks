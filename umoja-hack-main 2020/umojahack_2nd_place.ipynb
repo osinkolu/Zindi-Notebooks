{
  "nbformat": 4,
  "nbformat_minor": 0,
  "metadata": {
    "kernelspec": {
      "display_name": "Python 3",
      "language": "python",
      "name": "python3"
    },
    "language_info": {
      "codemirror_mode": {
        "name": "ipython",
        "version": 3
      },
      "file_extension": ".py",
      "mimetype": "text/x-python",
      "name": "python",
      "nbconvert_exporter": "python",
      "pygments_lexer": "ipython3",
      "version": "3.7.4"
    },
    "colab": {
      "name": "umojahack_2nd_place.ipynb",
      "provenance": [],
      "collapsed_sections": [],
      "toc_visible": true
    }
  },
  "cells": [
    {
      "cell_type": "code",
      "metadata": {
        "id": "0NmpDy75tWwi"
      },
      "source": [
        "import pandas as pd\n",
        "import numpy as np\n",
        "import datetime\n",
        " \n",
        "import seaborn as sns\n",
        "import matplotlib.pyplot as plt\n",
        " \n",
        "import warnings\n",
        "warnings.filterwarnings('ignore')"
      ],
      "execution_count": 1,
      "outputs": []
    },
    {
      "cell_type": "code",
      "metadata": {
        "id": "D_vu-doqtWwi"
      },
      "source": [
        "train = pd.read_csv('/content/Train.csv')\n",
        "test = pd.read_csv('/content/Test.csv')\n",
        "ss = pd.read_csv('/content/SampleSubmission.csv')"
      ],
      "execution_count": 2,
      "outputs": []
    },
    {
      "cell_type": "code",
      "metadata": {
        "colab": {
          "base_uri": "https://localhost:8080/"
        },
        "id": "mulcZsLdtWwj",
        "outputId": "989160a7-90c6-44e0-c152-9f9a88bb36aa"
      },
      "source": [
        "train.info()"
      ],
      "execution_count": 3,
      "outputs": [
        {
          "output_type": "stream",
          "text": [
            "<class 'pandas.core.frame.DataFrame'>\n",
            "RangeIndex: 12079 entries, 0 to 12078\n",
            "Data columns (total 14 columns):\n",
            " #   Column                  Non-Null Count  Dtype \n",
            "---  ------                  --------------  ----- \n",
            " 0   ID                      12079 non-null  object\n",
            " 1   Policy Start Date       12079 non-null  object\n",
            " 2   Policy End Date         12079 non-null  object\n",
            " 3   Gender                  11720 non-null  object\n",
            " 4   Age                     12079 non-null  int64 \n",
            " 5   First Transaction Date  12079 non-null  object\n",
            " 6   No_Pol                  12079 non-null  int64 \n",
            " 7   Car_Category            8341 non-null   object\n",
            " 8   Subject_Car_Colour      5117 non-null   object\n",
            " 9   Subject_Car_Make        9603 non-null   object\n",
            " 10  LGA_Name                5603 non-null   object\n",
            " 11  State                   5591 non-null   object\n",
            " 12  ProductName             12079 non-null  object\n",
            " 13  target                  12079 non-null  int64 \n",
            "dtypes: int64(3), object(11)\n",
            "memory usage: 1.3+ MB\n"
          ],
          "name": "stdout"
        }
      ]
    },
    {
      "cell_type": "markdown",
      "metadata": {
        "id": "bKSt7derHg-3"
      },
      "source": [
        "### Checking for features that correlate with the target variable"
      ]
    },
    {
      "cell_type": "code",
      "metadata": {
        "colab": {
          "base_uri": "https://localhost:8080/",
          "height": 415
        },
        "id": "dPXIs3iPtWwk",
        "outputId": "61a5195f-7f98-4322-d1a6-1da8e085e1ac"
      },
      "source": [
        "train.corr()['target'].sort_values().plot(kind='bar', figsize=(7, 6))"
      ],
      "execution_count": 4,
      "outputs": [
        {
          "output_type": "execute_result",
          "data": {
            "text/plain": [
              "<matplotlib.axes._subplots.AxesSubplot at 0x7fe068fdf6d8>"
            ]
          },
          "metadata": {
            "tags": []
          },
          "execution_count": 4
        },
        {
          "output_type": "display_data",
          "data": {
            "image/png": "[encoded data removed]",
            "text/plain": [
              "<Figure size 504x432 with 1 Axes>"
            ]
          },
          "metadata": {
            "tags": [],
            "needs_background": "light"
          }
        }
      ]
    },
    {
      "cell_type": "markdown",
      "metadata": {
        "id": "yYesSLOHHsLH"
      },
      "source": [
        "## Target Distribution"
      ]
    },
    {
      "cell_type": "code",
      "metadata": {
        "colab": {
          "base_uri": "https://localhost:8080/",
          "height": 297
        },
        "id": "DaZQctn6tWwk",
        "outputId": "7a89c478-2e36-43f9-e516-ed89a867f45d"
      },
      "source": [
        "sns.countplot(train.target)"
      ],
      "execution_count": 5,
      "outputs": [
        {
          "output_type": "execute_result",
          "data": {
            "text/plain": [
              "<matplotlib.axes._subplots.AxesSubplot at 0x7fe068f41da0>"
            ]
          },
          "metadata": {
            "tags": []
          },
          "execution_count": 5
        },
        {
          "output_type": "display_data",
          "data": {
            "image/png": "[encoded data removed]",
            "text/plain": [
              "<Figure size 432x288 with 1 Axes>"
            ]
          },
          "metadata": {
            "tags": [],
            "needs_background": "light"
          }
        }
      ]
    },
    {
      "cell_type": "code",
      "metadata": {
        "id": "IfuQPMGgtWwk"
      },
      "source": [
        "target = train.target\n",
        "train = train.drop(\"target\", axis = 1)"
      ],
      "execution_count": 6,
      "outputs": []
    },
    {
      "cell_type": "markdown",
      "metadata": {
        "id": "9qDbDA8NIILz"
      },
      "source": [
        "### Preprocessing/Feature Engineering"
      ]
    },
    {
      "cell_type": "code",
      "metadata": {
        "id": "Zg1kI4YltWwl"
      },
      "source": [
        "data=train.append(test)"
      ],
      "execution_count": 7,
      "outputs": []
    },
    {
      "cell_type": "code",
      "metadata": {
        "colab": {
          "base_uri": "https://localhost:8080/"
        },
        "id": "rGdzxae7tWwl",
        "outputId": "611aada8-6691-4c99-900a-ff168f78e015"
      },
      "source": [
        "data.isnull().sum()"
      ],
      "execution_count": 8,
      "outputs": [
        {
          "output_type": "execute_result",
          "data": {
            "text/plain": [
              "ID                           0\n",
              "Policy Start Date            0\n",
              "Policy End Date              0\n",
              "Gender                     515\n",
              "Age                          0\n",
              "First Transaction Date       0\n",
              "No_Pol                       0\n",
              "Car_Category              5376\n",
              "Subject_Car_Colour        9967\n",
              "Subject_Car_Make          3537\n",
              "LGA_Name                  9258\n",
              "State                     9276\n",
              "ProductName                  0\n",
              "dtype: int64"
            ]
          },
          "metadata": {
            "tags": []
          },
          "execution_count": 8
        }
      ]
    },
    {
      "cell_type": "code",
      "metadata": {
        "id": "sUr8bm0mtWwn"
      },
      "source": [
        "date_col = ['Policy Start Date','Policy End Date','First Transaction Date']\n",
        "for feat in date_col:\n",
        "    data[feat] = pd.to_datetime(data[feat])"
      ],
      "execution_count": 9,
      "outputs": []
    },
    {
      "cell_type": "code",
      "metadata": {
        "id": "0-9r9rwfU6kl"
      },
      "source": [
        "# NUMBER OF DAYS BETWEEN POLICY END DATE AND START DATE\n",
        "data['policy_span'] = (data['Policy End Date'] - data['Policy Start Date']).dt.days"
      ],
      "execution_count": 10,
      "outputs": []
    },
    {
      "cell_type": "code",
      "metadata": {
        "colab": {
          "base_uri": "https://localhost:8080/"
        },
        "id": "Be9S1Ut_0iLM",
        "outputId": "4302f0e7-7d5d-4cb7-aa9a-ffd912d96aa2"
      },
      "source": [
        "data['policy_span'].describe() #There seem to be very odd values 11139days"
      ],
      "execution_count": 11,
      "outputs": [
        {
          "output_type": "execute_result",
          "data": {
            "text/plain": [
              "count    17256.000000\n",
              "mean       348.149861\n",
              "std        182.659095\n",
              "min         12.000000\n",
              "25%        364.000000\n",
              "50%        364.000000\n",
              "75%        364.000000\n",
              "max      11139.000000\n",
              "Name: policy_span, dtype: float64"
            ]
          },
          "metadata": {
            "tags": []
          },
          "execution_count": 11
        }
      ]
    },
    {
      "cell_type": "code",
      "metadata": {
        "id": "yE6bpOKb0oLA"
      },
      "source": [
        "data['policy_span'].loc[data['policy_span'] > 5000] = 348  #Replace extreme values with mean"
      ],
      "execution_count": 12,
      "outputs": []
    },
    {
      "cell_type": "code",
      "metadata": {
        "id": "DFOCI4wptWwl"
      },
      "source": [
        "# One hot encoding of all categorical feature\n",
        "\n",
        "gender_dummies = pd.get_dummies(data.Gender)\n",
        "data = pd.concat([data,gender_dummies], axis=1)\n",
        "data = data.drop(\"Gender\", axis=1)\n",
        "\n",
        "Car_Category_dummies = pd.get_dummies(data.Car_Category)\n",
        "data = pd.concat([data,Car_Category_dummies], axis=1)\n",
        "data = data.drop(\"Car_Category\", axis=1)\n",
        "  \n",
        "Subject_Car_Colour_dummies = pd.get_dummies(data.Subject_Car_Colour)\n",
        "data = pd.concat([data,Subject_Car_Colour_dummies], axis=1)\n",
        "data = data.drop(\"Subject_Car_Colour\", axis=1)\n",
        "  \n",
        "Subject_Car_Make_dummies = pd.get_dummies(data.Subject_Car_Make)\n",
        "data = pd.concat([data,Subject_Car_Make_dummies], axis=1)\n",
        "data = data.drop(\"Subject_Car_Make\", axis=1)\n",
        "  \n",
        "LGA_Name_dummies = pd.get_dummies(data.LGA_Name)\n",
        "data = pd.concat([data,LGA_Name_dummies], axis=1)\n",
        "data = data.drop(\"LGA_Name\", axis=1)\n",
        "  \n",
        "State_dummies = pd.get_dummies(data.State)\n",
        "data = pd.concat([data,State_dummies], axis=1)\n",
        "data = data.drop(\"State\", axis=1)\n",
        "  \n",
        "ProductName_dummies = pd.get_dummies(data.ProductName)\n",
        "data = pd.concat([data,ProductName_dummies], axis=1)\n",
        "data = data.drop(\"ProductName\", axis=1)\n",
        "  \n",
        "del data['ID']"
      ],
      "execution_count": 13,
      "outputs": []
    },
    {
      "cell_type": "code",
      "metadata": {
        "colab": {
          "base_uri": "https://localhost:8080/"
        },
        "id": "t6svYWmZ07Kr",
        "outputId": "253b2f88-cf2a-4703-9208-88e53708adda"
      },
      "source": [
        "data.shape"
      ],
      "execution_count": 14,
      "outputs": [
        {
          "output_type": "execute_result",
          "data": {
            "text/plain": [
              "(17256, 542)"
            ]
          },
          "metadata": {
            "tags": []
          },
          "execution_count": 14
        }
      ]
    },
    {
      "cell_type": "code",
      "metadata": {
        "id": "FVeMumwJtWwm"
      },
      "source": [
        "date_col = ['Policy Start Date','Policy End Date','First Transaction Date']"
      ],
      "execution_count": 15,
      "outputs": []
    },
    {
      "cell_type": "code",
      "metadata": {
        "id": "Owb3cam5Vgo9"
      },
      "source": [
        "# Feature binning\n",
        "from sklearn.preprocessing import KBinsDiscretizer\n",
        "age_discretizer = KBinsDiscretizer(n_bins=10, encode='ordinal', strategy='quantile')\n",
        "\n",
        "data['Age_Bins'] =age_discretizer.fit_transform(data['Age'].values.reshape(-1,1)).astype(int)"
      ],
      "execution_count": 16,
      "outputs": []
    },
    {
      "cell_type": "code",
      "metadata": {
        "id": "96ZMTJTUtWwn"
      },
      "source": [
        "# Extract date features\n",
        "def extract_date_info(df,cols,):\n",
        "    for feat in cols:\n",
        "        df[feat +'_year'] = df[feat].dt.quarter\n",
        "        df[feat +'_day'] = df[feat].dt.day\n",
        "        df[feat +'_month'] = df[feat].dt.month\n",
        "        df[feat +'_quarter'] = df[feat].dt.quarter\n",
        "        df[feat +'_weekday'] = df[feat].dt.weekday\n",
        "        df[feat +'_week'] = df[feat].dt.week\n",
        "    df.drop(columns=date_col,axis=1,inplace=True)\n",
        "\n",
        "\n",
        "extract_date_info(data,date_col)"
      ],
      "execution_count": 17,
      "outputs": []
    },
    {
      "cell_type": "code",
      "metadata": {
        "scrolled": true,
        "colab": {
          "base_uri": "https://localhost:8080/",
          "height": 201
        },
        "id": "42oj7IrYtWwn",
        "outputId": "354d6d2d-ab3c-45cd-c440-3601feed16e9"
      },
      "source": [
        "data.head(2)"
      ],
      "execution_count": 18,
      "outputs": [
        {
          "output_type": "execute_result",
          "data": {
            "text/html": [
              "<div>\n",
              "<style scoped>\n",
              "    .dataframe tbody tr th:only-of-type {\n",
              "        vertical-align: middle;\n",
              "    }\n",
              "\n",
              "    .dataframe tbody tr th {\n",
              "        vertical-align: top;\n",
              "    }\n",
              "\n",
              "    .dataframe thead th {\n",
              "        text-align: right;\n",
              "    }\n",
              "</style>\n",
              "<table border=\"1\" class=\"dataframe\">\n",
              "  <thead>\n",
              "    <tr style=\"text-align: right;\">\n",
              "      <th></th>\n",
              "      <th>Age</th>\n",
              "      <th>No_Pol</th>\n",
              "      <th>policy_span</th>\n",
              "      <th>Entity</th>\n",
              "      <th>Female</th>\n",
              "      <th>Joint Gender</th>\n",
              "      <th>Male</th>\n",
              "      <th>NO GENDER</th>\n",
              "      <th>NOT STATED</th>\n",
              "      <th>SEX</th>\n",
              "      <th>Bus</th>\n",
              "      <th>CAMRY CAR HIRE</th>\n",
              "      <th>JEEP</th>\n",
              "      <th>Mini Bus</th>\n",
              "      <th>Mini Van</th>\n",
              "      <th>Motorcycle</th>\n",
              "      <th>Pick Up</th>\n",
              "      <th>Pick Up &gt; 3 Tons</th>\n",
              "      <th>Saloon</th>\n",
              "      <th>Sedan</th>\n",
              "      <th>Shape Of Vehicle Chasis</th>\n",
              "      <th>Station 4 Wheel</th>\n",
              "      <th>Tipper Truck</th>\n",
              "      <th>Truck</th>\n",
              "      <th>Van</th>\n",
              "      <th>Wagon</th>\n",
              "      <th>As Attached</th>\n",
              "      <th>Ash</th>\n",
              "      <th>B.Silver</th>\n",
              "      <th>Beige Mitalic</th>\n",
              "      <th>Black</th>\n",
              "      <th>Black &amp; Orange</th>\n",
              "      <th>Black &amp; White</th>\n",
              "      <th>Blue</th>\n",
              "      <th>Blue &amp; Red</th>\n",
              "      <th>Blue Sky</th>\n",
              "      <th>Blue&amp;White&amp;Red</th>\n",
              "      <th>Brown</th>\n",
              "      <th>Burgundy</th>\n",
              "      <th>Champagne</th>\n",
              "      <th>...</th>\n",
              "      <th>Oyo</th>\n",
              "      <th>Oyo-East</th>\n",
              "      <th>Oyo-West</th>\n",
              "      <th>Port-Harcourt</th>\n",
              "      <th>QuaAn-Pan</th>\n",
              "      <th>Rivers</th>\n",
              "      <th>Udi-Agwu</th>\n",
              "      <th>Ughelli-North</th>\n",
              "      <th>Umuahia-South</th>\n",
              "      <th>Warri-Central</th>\n",
              "      <th>Warri-North</th>\n",
              "      <th>Warri-South</th>\n",
              "      <th>CVTP</th>\n",
              "      <th>Car Classic</th>\n",
              "      <th>Car Plus</th>\n",
              "      <th>Car Vintage</th>\n",
              "      <th>CarFlex</th>\n",
              "      <th>CarSafe</th>\n",
              "      <th>Customized Motor</th>\n",
              "      <th>Motor Cycle</th>\n",
              "      <th>Muuve</th>\n",
              "      <th>Age_Bins</th>\n",
              "      <th>Policy Start Date_year</th>\n",
              "      <th>Policy Start Date_day</th>\n",
              "      <th>Policy Start Date_month</th>\n",
              "      <th>Policy Start Date_quarter</th>\n",
              "      <th>Policy Start Date_weekday</th>\n",
              "      <th>Policy Start Date_week</th>\n",
              "      <th>Policy End Date_year</th>\n",
              "      <th>Policy End Date_day</th>\n",
              "      <th>Policy End Date_month</th>\n",
              "      <th>Policy End Date_quarter</th>\n",
              "      <th>Policy End Date_weekday</th>\n",
              "      <th>Policy End Date_week</th>\n",
              "      <th>First Transaction Date_year</th>\n",
              "      <th>First Transaction Date_day</th>\n",
              "      <th>First Transaction Date_month</th>\n",
              "      <th>First Transaction Date_quarter</th>\n",
              "      <th>First Transaction Date_weekday</th>\n",
              "      <th>First Transaction Date_week</th>\n",
              "    </tr>\n",
              "  </thead>\n",
              "  <tbody>\n",
              "    <tr>\n",
              "      <th>0</th>\n",
              "      <td>30</td>\n",
              "      <td>1</td>\n",
              "      <td>364</td>\n",
              "      <td>0</td>\n",
              "      <td>0</td>\n",
              "      <td>0</td>\n",
              "      <td>1</td>\n",
              "      <td>0</td>\n",
              "      <td>0</td>\n",
              "      <td>0</td>\n",
              "      <td>0</td>\n",
              "      <td>0</td>\n",
              "      <td>0</td>\n",
              "      <td>0</td>\n",
              "      <td>0</td>\n",
              "      <td>0</td>\n",
              "      <td>0</td>\n",
              "      <td>0</td>\n",
              "      <td>1</td>\n",
              "      <td>0</td>\n",
              "      <td>0</td>\n",
              "      <td>0</td>\n",
              "      <td>0</td>\n",
              "      <td>0</td>\n",
              "      <td>0</td>\n",
              "      <td>0</td>\n",
              "      <td>0</td>\n",
              "      <td>0</td>\n",
              "      <td>0</td>\n",
              "      <td>0</td>\n",
              "      <td>1</td>\n",
              "      <td>0</td>\n",
              "      <td>0</td>\n",
              "      <td>0</td>\n",
              "      <td>0</td>\n",
              "      <td>0</td>\n",
              "      <td>0</td>\n",
              "      <td>0</td>\n",
              "      <td>0</td>\n",
              "      <td>0</td>\n",
              "      <td>...</td>\n",
              "      <td>0</td>\n",
              "      <td>0</td>\n",
              "      <td>0</td>\n",
              "      <td>0</td>\n",
              "      <td>0</td>\n",
              "      <td>0</td>\n",
              "      <td>0</td>\n",
              "      <td>0</td>\n",
              "      <td>0</td>\n",
              "      <td>0</td>\n",
              "      <td>0</td>\n",
              "      <td>0</td>\n",
              "      <td>0</td>\n",
              "      <td>1</td>\n",
              "      <td>0</td>\n",
              "      <td>0</td>\n",
              "      <td>0</td>\n",
              "      <td>0</td>\n",
              "      <td>0</td>\n",
              "      <td>0</td>\n",
              "      <td>0</td>\n",
              "      <td>1</td>\n",
              "      <td>2</td>\n",
              "      <td>14</td>\n",
              "      <td>5</td>\n",
              "      <td>2</td>\n",
              "      <td>4</td>\n",
              "      <td>19</td>\n",
              "      <td>2</td>\n",
              "      <td>13</td>\n",
              "      <td>5</td>\n",
              "      <td>2</td>\n",
              "      <td>4</td>\n",
              "      <td>19</td>\n",
              "      <td>2</td>\n",
              "      <td>14</td>\n",
              "      <td>5</td>\n",
              "      <td>2</td>\n",
              "      <td>4</td>\n",
              "      <td>19</td>\n",
              "    </tr>\n",
              "    <tr>\n",
              "      <th>1</th>\n",
              "      <td>79</td>\n",
              "      <td>1</td>\n",
              "      <td>364</td>\n",
              "      <td>0</td>\n",
              "      <td>1</td>\n",
              "      <td>0</td>\n",
              "      <td>0</td>\n",
              "      <td>0</td>\n",
              "      <td>0</td>\n",
              "      <td>0</td>\n",
              "      <td>0</td>\n",
              "      <td>0</td>\n",
              "      <td>1</td>\n",
              "      <td>0</td>\n",
              "      <td>0</td>\n",
              "      <td>0</td>\n",
              "      <td>0</td>\n",
              "      <td>0</td>\n",
              "      <td>0</td>\n",
              "      <td>0</td>\n",
              "      <td>0</td>\n",
              "      <td>0</td>\n",
              "      <td>0</td>\n",
              "      <td>0</td>\n",
              "      <td>0</td>\n",
              "      <td>0</td>\n",
              "      <td>0</td>\n",
              "      <td>0</td>\n",
              "      <td>0</td>\n",
              "      <td>0</td>\n",
              "      <td>0</td>\n",
              "      <td>0</td>\n",
              "      <td>0</td>\n",
              "      <td>0</td>\n",
              "      <td>0</td>\n",
              "      <td>0</td>\n",
              "      <td>0</td>\n",
              "      <td>0</td>\n",
              "      <td>0</td>\n",
              "      <td>0</td>\n",
              "      <td>...</td>\n",
              "      <td>0</td>\n",
              "      <td>0</td>\n",
              "      <td>0</td>\n",
              "      <td>0</td>\n",
              "      <td>0</td>\n",
              "      <td>0</td>\n",
              "      <td>0</td>\n",
              "      <td>0</td>\n",
              "      <td>0</td>\n",
              "      <td>0</td>\n",
              "      <td>0</td>\n",
              "      <td>0</td>\n",
              "      <td>0</td>\n",
              "      <td>1</td>\n",
              "      <td>0</td>\n",
              "      <td>0</td>\n",
              "      <td>0</td>\n",
              "      <td>0</td>\n",
              "      <td>0</td>\n",
              "      <td>0</td>\n",
              "      <td>0</td>\n",
              "      <td>9</td>\n",
              "      <td>4</td>\n",
              "      <td>29</td>\n",
              "      <td>11</td>\n",
              "      <td>4</td>\n",
              "      <td>0</td>\n",
              "      <td>48</td>\n",
              "      <td>4</td>\n",
              "      <td>28</td>\n",
              "      <td>11</td>\n",
              "      <td>4</td>\n",
              "      <td>0</td>\n",
              "      <td>48</td>\n",
              "      <td>4</td>\n",
              "      <td>29</td>\n",
              "      <td>11</td>\n",
              "      <td>4</td>\n",
              "      <td>0</td>\n",
              "      <td>48</td>\n",
              "    </tr>\n",
              "  </tbody>\n",
              "</table>\n",
              "<p>2 rows × 558 columns</p>\n",
              "</div>"
            ],
            "text/plain": [
              "   Age  No_Pol  ...  First Transaction Date_weekday  First Transaction Date_week\n",
              "0   30       1  ...                               4                           19\n",
              "1   79       1  ...                               0                           48\n",
              "\n",
              "[2 rows x 558 columns]"
            ]
          },
          "metadata": {
            "tags": []
          },
          "execution_count": 18
        }
      ]
    },
    {
      "cell_type": "code",
      "metadata": {
        "id": "vZx3VCCAtWwn"
      },
      "source": [
        "# rename duplicated columns if present (to prevent errors after one hot encoding)\n",
        "cols=pd.Series(data.columns)\n",
        "for dup in cols[cols.duplicated()].unique(): \n",
        "    cols[cols[cols == dup].index.values.tolist()] = [dup + '.' + str(i) if i != 0 else dup for i in range(sum(cols == dup))]\n",
        "data.columns=cols"
      ],
      "execution_count": 19,
      "outputs": []
    },
    {
      "cell_type": "markdown",
      "metadata": {
        "id": "rSqK3ahLJJTh"
      },
      "source": [
        "One hot encoding increased data dimension to over 500 features, Some irrelevant features had to be droped after observing feature importance for previous models. Most irrelvant features were from `LGA_Name`..\n",
        "- This could have been done in a less error prone and more efficient way, but due to time constraint, we just copied straight from `data.columns`"
      ]
    },
    {
      "cell_type": "code",
      "metadata": {
        "id": "SwQTBBibziRt"
      },
      "source": [
        "cols_to_remove = ['Bauchi','Abakaliki','Argungu','ENUGU SOUTH','Asa','Aba North','Aba South','AREPO','ALAPERE','Badagry','Asaba','Awka South','AWOYAYA','Bekwara','Asari-Toru',\n",
        "                  'Asokoro District','Awka','Ejigbo','Awka North','Egor','Calabar','Abeokuta North','Anthony Village','Akoka','Akinyele','Ajeromi-Ifelodun','Calabar Municipality',\n",
        "                  'Bosso','BARIGA','Akuku Toru','Central Area, Abuja','Akure North','Agbor','Akure South','Ado-Odo/Ota','Ado-Ekiti','Akwa Ibom','Bonny','Chanchaga','Aboh-Mbaise',\n",
        "                  'Anambra East','Biase','Aniocha South','Abeokuta South','Ankpa','Dopemu','Akoko North West','AKOWONJO','EMENE','Benue','EFFURUN','Lincoln','AKOKO-EDO','Red & Black',\n",
        "                  'Dark Gray','Dark Green','Dark Grey','Dark Red','Gray & Gray','Gray & Silver','Light Blue','Light Gray','Orange','Purple','Red & Blue','D. Red','Red & White','Red & Yellow',\n",
        "                  'Red Maroon','White & Blue','White & Red','White & Yellow','Yellow','Yellow & White','ABG','As Attached.1','Dark Blue','D. Gold','AJAO ESTATE','Tipper Truck','First Transaction Date_quarter',\n",
        "                  'NO GENDER','SEX','CAMRY CAR HIRE','First Transaction Date_year','Mini Van','Pick Up','Pick Up > 3 Tons','Shape Of Vehicle Chasis','Station 4 Wheel','Van','Cream','Wagon',\n",
        "                  'B.Silver','Beige Mitalic','Policy End Date_quarter','Black & Orange','Blue & Red','Blue Sky','Blue&White&Red','Burgundy','Champagne','Ashok Leyland','Astra','BRILLIANCE',\n",
        "                  'Rols Royce','Eket','MG','MINI COOPER','Man','Motorcycle.1','Opel','Porsche','REXTON','Raston','Renault','Scania','Bajaj','Seat','Skoda','Subaru','Suzuki','Tata',\n",
        "                  'Wrangler Jeep','Yamaha','ZOYTE',' IFAKO','AGBARA','Land Rover.','LIBERTY','KA','Jincheng','Black.1','Buik','CHANGAN','COMMANDER','Caddillac','Chrysler','DAF','Datsun',\n",
        "                  'Dodge','FOTON','GAC','GMC','Geely','Grand Cherokee','Howo','Hummer','Infiniti','Innson','Isuzu','Jaguar','Jeep','Ekeremor','Ughelli-North','Ekiti','Ekiti South-West','Aba-North',\n",
        "                  'Aba-South','Abia','Aboh-Mbaise.1','Abuja.1','Ado-Ekiti.1','Ado-Ota','Ajegunle-State','Ajeromi-Ifelodun.1','Akoko-West','Anambra-East','Aniocha-South','Asari-Toru.1','Awka-North',\n",
        "                  'Awka-South','Bauchi.1','Bayelsa','Warri-North','Calabar-Municipality','Central-Abuja','Cross-River','ENUGU-SOUTH','Ebonyi','Edo','Ekiti-East.1','AJAO-ESTATE','ABULE-EGBA',\n",
        "                  'kumbotso','Ukpoba','QuaAn Pan','RIVERS','Rogo','SANGO OTTA','SANGOTEDO','Shagamu','Somolu','Tai ','Udi Agwu','Udu','Ughelli North','Umuahia','Zaria ','Umuahia South','Uvwie',\n",
        "                  'Uyo','VGC','Warri-South','Warri North','Warri South','Wuse 11','Yenagoa','Yorro','Zaria','Ekiti-West','Enugu-North','Esan-Central','Ondo','N-A','Nasarawa','Ndokwa-East','Ngor-Okpala.1',\n",
        "                  'Nnewi-North','Nnewi-South','Nsit-Ubium','Obafemi-Owode.1','Ogba-Ndoni','Ogbmosho-South','Ogun-Waterside','Ondo-West','Kogi','Onitsha-North','Onitsha-South','Orile-Iganmu.1','Oshimili-North',\n",
        "                  'Ovia-SouthWest','Owerri-North','Owerri-West','Oyo-East','Oyo-West','QuaAn-Pan','Umuahia-South','Kwara','Kebbi','Esan-West','Ile-Oluji.1','Essien-Udim','Ethiope-East','Gombe.1','Ibadan-East',\n",
        "                  'Ibadan-North','Ibarapa-Central','Idemili-North','Idemili-south','Ife-North','Ijebu-East','Ijebu-North','Ilesha-East','Kano-Municipal','Ilesha-West','Ilorin-East','Ilorin-West',\n",
        "                  'Imo','Isoko-North','Isoko-south','Jos-North','Jos-South','Kaduna.1','Kaduna-South','Kano.1','Palm Groove','Oyo West','Oyo East','Ilesha','Ife North','Ijebu East',\n",
        "                  'Ijebu North','Ijora','Ikeja G.R.A','Ikenne','Ikot Ekpene','Ikotun','Ikwerre','Ile-Ife','Ile-Oluji','Ilesha East','Ifako-Agege','Ilesha West','Ilorin','Ilorin East','Ilorin West',\n",
        "                  'Irepodun','Isoko North','Isoko south','Iwo','Jibia','Jos North','Jos South','Udi-Agwu','Idemili south','Kaduna South','Gombe','Ekiti-East','Ekwusigo','Eleme','Enugu North','Epe',\n",
        "                  'Esan Central','Esan West','Essien Udim','Ethiope East','Garki','Garko','Goronyo','Idemili North','Hong','IBA','IBADAN NORTH EAST','IJAIYE','ISHAGA','Ibadan North','Ibadan North West',\n",
        "                  'Ibadan South East','Ibadan South West','Ibarapa Central','Idanre','Kaduna','Kajola','Oyo','Onitsha North','Ogun Waterside','Oguta','Ohaukwu','Ojodu','Okpe','Okpokwu','Okrika','Olamabolo',\n",
        "                  'Oluyole','Ondo West','Onitsha','Onitsha South','Ogbmosho South','Orile-Iganmu','Orolu','Orsu','Oshimili','Oshimili North','Osogbo','Oturkpo','Ovia SouthWest','Owerri North','Owerri West ','Oyi ',\n",
        "                  'Ogbomoso','Ogba/Egbema/Ndoni','Kano','Ngor-Okpala','Kano Municipal','Karu','Katagum','Keffi','Kuje','LGA','Car Vintage','Lokoja','MAGBORO','Marina','Ndokwa East','Niger State',\n",
        "                'Obalende','Njaba','Nnewi','Nnewi North','Nnewi South','Nsit Ubium','Nwangele','OBANIKORO','ONDO','ONIRU','OWODE','Obafemi-Owode','Ilasamaja']"
      ],
      "execution_count": 20,
      "outputs": []
    },
    {
      "cell_type": "code",
      "metadata": {
        "colab": {
          "base_uri": "https://localhost:8080/"
        },
        "id": "3RhgsXwHO5P5",
        "outputId": "c24c31a3-a30f-452e-8ef5-2dfeda4fc295"
      },
      "source": [
        "len(cols_to_remove)"
      ],
      "execution_count": 21,
      "outputs": [
        {
          "output_type": "execute_result",
          "data": {
            "text/plain": [
              "379"
            ]
          },
          "metadata": {
            "tags": []
          },
          "execution_count": 21
        }
      ]
    },
    {
      "cell_type": "code",
      "metadata": {
        "id": "VV5MVoPYzQhu"
      },
      "source": [
        "data = data.drop(columns=cols_to_remove, axis=1)"
      ],
      "execution_count": 22,
      "outputs": []
    },
    {
      "cell_type": "markdown",
      "metadata": {
        "id": "o4sD_IO8KtRU"
      },
      "source": [
        "### Modelling"
      ]
    },
    {
      "cell_type": "code",
      "metadata": {
        "id": "ibqpGZDZtWwn"
      },
      "source": [
        "train=data.iloc[:12079,]\n",
        "test= data.iloc[12079:,]\n",
        "y = target"
      ],
      "execution_count": 23,
      "outputs": []
    },
    {
      "cell_type": "code",
      "metadata": {
        "id": "7LrgDHrfzPU-"
      },
      "source": [
        "from lightgbm import LGBMClassifier"
      ],
      "execution_count": 24,
      "outputs": []
    },
    {
      "cell_type": "code",
      "metadata": {
        "colab": {
          "base_uri": "https://localhost:8080/"
        },
        "id": "g2kTO9V47QX0",
        "outputId": "25ac5878-4a68-4d67-e7c6-e36120a8bdf4"
      },
      "source": [
        "train.shape, test.shape"
      ],
      "execution_count": 25,
      "outputs": [
        {
          "output_type": "execute_result",
          "data": {
            "text/plain": [
              "((12079, 179), (5177, 179))"
            ]
          },
          "metadata": {
            "tags": []
          },
          "execution_count": 25
        }
      ]
    },
    {
      "cell_type": "markdown",
      "metadata": {
        "id": "Z7mkpuY2K2PH"
      },
      "source": [
        "- We performed 8 fold cross validation on the training data, predicting on the test set after each iteration.\n",
        "- The mode(most occuring value) of all 8 predictions was then used to make final submission. More like Voting\n",
        "- The most important hyperparameter used here is `scale_pos_weight`,Since we are dealing with an imbalanced dataset, by manually tuning this hyperparameter the model tries to balance the ratio of both positive and negative classes"
      ]
    },
    {
      "cell_type": "code",
      "metadata": {
        "id": "zumyg91-tWwp"
      },
      "source": [
        "from sklearn.model_selection import StratifiedKFold\n",
        "predictions = []\n",
        "fold=StratifiedKFold(n_splits=8,shuffle=True, random_state=42)\n",
        "for train_index, test_index in fold.split(train,y):\n",
        "    X_train, X_test = train.iloc[train_index], train.iloc[test_index]\n",
        "    Y_train, Y_test = y[train_index], y[test_index]\n",
        "    classifier2=LGBMClassifier(learning_rate=0.1, n_estimators=800, scale_pos_weight = 5.0,)\n",
        "    classifier2.fit(X_train, Y_train)\n",
        "    preds=classifier2.predict(X_test)\n",
        "    predictions.append(classifier2.predict(test))"
      ],
      "execution_count": 26,
      "outputs": []
    },
    {
      "cell_type": "code",
      "metadata": {
        "colab": {
          "base_uri": "https://localhost:8080/",
          "height": 730
        },
        "id": "PFOz6uDO9lje",
        "outputId": "0efde243-5d49-4a4c-9d27-5b2f173b9a67"
      },
      "source": [
        "feature_importance_df = pd.DataFrame(classifier2.feature_importances_, columns=['importance'])\n",
        "feature_importance_df['feature'] = X_train.columns\n",
        "\n",
        "plt.figure(figsize=(20, 12));\n",
        "sns.barplot(x=\"importance\", y=\"feature\", data=feature_importance_df.sort_values(by = ['importance'], ascending = False).head(50))\n",
        "plt.title('CatboostClassifier features importance (top 50):');"
      ],
      "execution_count": 27,
      "outputs": [
        {
          "output_type": "display_data",
          "data": {
            "image/png": "[encoded data removed]",
            "text/plain": [
              "<Figure size 1440x864 with 1 Axes>"
            ]
          },
          "metadata": {
            "tags": [],
            "needs_background": "light"
          }
        }
      ]
    },
    {
      "cell_type": "code",
      "metadata": {
        "id": "JP3dTVcmtWwp"
      },
      "source": [
        "predictions = pd.DataFrame(predictions)"
      ],
      "execution_count": 28,
      "outputs": []
    },
    {
      "cell_type": "code",
      "metadata": {
        "colab": {
          "base_uri": "https://localhost:8080/",
          "height": 189
        },
        "id": "r7db9tp8Pa7Z",
        "outputId": "bd94a37b-b500-4cce-b856-a34fd9cfd80f"
      },
      "source": [
        "predictions.T.head()"
      ],
      "execution_count": 29,
      "outputs": [
        {
          "output_type": "execute_result",
          "data": {
            "text/html": [
              "<div>\n",
              "<style scoped>\n",
              "    .dataframe tbody tr th:only-of-type {\n",
              "        vertical-align: middle;\n",
              "    }\n",
              "\n",
              "    .dataframe tbody tr th {\n",
              "        vertical-align: top;\n",
              "    }\n",
              "\n",
              "    .dataframe thead th {\n",
              "        text-align: right;\n",
              "    }\n",
              "</style>\n",
              "<table border=\"1\" class=\"dataframe\">\n",
              "  <thead>\n",
              "    <tr style=\"text-align: right;\">\n",
              "      <th></th>\n",
              "      <th>0</th>\n",
              "      <th>1</th>\n",
              "      <th>2</th>\n",
              "      <th>3</th>\n",
              "      <th>4</th>\n",
              "      <th>5</th>\n",
              "      <th>6</th>\n",
              "      <th>7</th>\n",
              "    </tr>\n",
              "  </thead>\n",
              "  <tbody>\n",
              "    <tr>\n",
              "      <th>0</th>\n",
              "      <td>1</td>\n",
              "      <td>1</td>\n",
              "      <td>1</td>\n",
              "      <td>1</td>\n",
              "      <td>1</td>\n",
              "      <td>1</td>\n",
              "      <td>1</td>\n",
              "      <td>1</td>\n",
              "    </tr>\n",
              "    <tr>\n",
              "      <th>1</th>\n",
              "      <td>1</td>\n",
              "      <td>1</td>\n",
              "      <td>1</td>\n",
              "      <td>1</td>\n",
              "      <td>1</td>\n",
              "      <td>1</td>\n",
              "      <td>1</td>\n",
              "      <td>1</td>\n",
              "    </tr>\n",
              "    <tr>\n",
              "      <th>2</th>\n",
              "      <td>0</td>\n",
              "      <td>0</td>\n",
              "      <td>0</td>\n",
              "      <td>0</td>\n",
              "      <td>0</td>\n",
              "      <td>0</td>\n",
              "      <td>0</td>\n",
              "      <td>0</td>\n",
              "    </tr>\n",
              "    <tr>\n",
              "      <th>3</th>\n",
              "      <td>0</td>\n",
              "      <td>0</td>\n",
              "      <td>0</td>\n",
              "      <td>0</td>\n",
              "      <td>0</td>\n",
              "      <td>0</td>\n",
              "      <td>0</td>\n",
              "      <td>0</td>\n",
              "    </tr>\n",
              "    <tr>\n",
              "      <th>4</th>\n",
              "      <td>1</td>\n",
              "      <td>1</td>\n",
              "      <td>1</td>\n",
              "      <td>1</td>\n",
              "      <td>1</td>\n",
              "      <td>1</td>\n",
              "      <td>1</td>\n",
              "      <td>1</td>\n",
              "    </tr>\n",
              "  </tbody>\n",
              "</table>\n",
              "</div>"
            ],
            "text/plain": [
              "   0  1  2  3  4  5  6  7\n",
              "0  1  1  1  1  1  1  1  1\n",
              "1  1  1  1  1  1  1  1  1\n",
              "2  0  0  0  0  0  0  0  0\n",
              "3  0  0  0  0  0  0  0  0\n",
              "4  1  1  1  1  1  1  1  1"
            ]
          },
          "metadata": {
            "tags": []
          },
          "execution_count": 29
        }
      ]
    },
    {
      "cell_type": "code",
      "metadata": {
        "id": "tVL5sSV6tWwp"
      },
      "source": [
        "predictions = predictions.mode()"
      ],
      "execution_count": 30,
      "outputs": []
    },
    {
      "cell_type": "code",
      "metadata": {
        "colab": {
          "base_uri": "https://localhost:8080/",
          "height": 388
        },
        "id": "RMkAQPE0tWwp",
        "outputId": "04e0685f-c190-4fad-ee1a-366bb08a841d"
      },
      "source": [
        "predictions = predictions.T\n",
        "predictions"
      ],
      "execution_count": 31,
      "outputs": [
        {
          "output_type": "execute_result",
          "data": {
            "text/html": [
              "<div>\n",
              "<style scoped>\n",
              "    .dataframe tbody tr th:only-of-type {\n",
              "        vertical-align: middle;\n",
              "    }\n",
              "\n",
              "    .dataframe tbody tr th {\n",
              "        vertical-align: top;\n",
              "    }\n",
              "\n",
              "    .dataframe thead th {\n",
              "        text-align: right;\n",
              "    }\n",
              "</style>\n",
              "<table border=\"1\" class=\"dataframe\">\n",
              "  <thead>\n",
              "    <tr style=\"text-align: right;\">\n",
              "      <th></th>\n",
              "      <th>0</th>\n",
              "      <th>1</th>\n",
              "    </tr>\n",
              "  </thead>\n",
              "  <tbody>\n",
              "    <tr>\n",
              "      <th>0</th>\n",
              "      <td>1.0</td>\n",
              "      <td>NaN</td>\n",
              "    </tr>\n",
              "    <tr>\n",
              "      <th>1</th>\n",
              "      <td>1.0</td>\n",
              "      <td>NaN</td>\n",
              "    </tr>\n",
              "    <tr>\n",
              "      <th>2</th>\n",
              "      <td>0.0</td>\n",
              "      <td>NaN</td>\n",
              "    </tr>\n",
              "    <tr>\n",
              "      <th>3</th>\n",
              "      <td>0.0</td>\n",
              "      <td>NaN</td>\n",
              "    </tr>\n",
              "    <tr>\n",
              "      <th>4</th>\n",
              "      <td>1.0</td>\n",
              "      <td>NaN</td>\n",
              "    </tr>\n",
              "    <tr>\n",
              "      <th>...</th>\n",
              "      <td>...</td>\n",
              "      <td>...</td>\n",
              "    </tr>\n",
              "    <tr>\n",
              "      <th>5172</th>\n",
              "      <td>0.0</td>\n",
              "      <td>NaN</td>\n",
              "    </tr>\n",
              "    <tr>\n",
              "      <th>5173</th>\n",
              "      <td>0.0</td>\n",
              "      <td>NaN</td>\n",
              "    </tr>\n",
              "    <tr>\n",
              "      <th>5174</th>\n",
              "      <td>0.0</td>\n",
              "      <td>NaN</td>\n",
              "    </tr>\n",
              "    <tr>\n",
              "      <th>5175</th>\n",
              "      <td>1.0</td>\n",
              "      <td>NaN</td>\n",
              "    </tr>\n",
              "    <tr>\n",
              "      <th>5176</th>\n",
              "      <td>0.0</td>\n",
              "      <td>NaN</td>\n",
              "    </tr>\n",
              "  </tbody>\n",
              "</table>\n",
              "<p>5177 rows × 2 columns</p>\n",
              "</div>"
            ],
            "text/plain": [
              "        0   1\n",
              "0     1.0 NaN\n",
              "1     1.0 NaN\n",
              "2     0.0 NaN\n",
              "3     0.0 NaN\n",
              "4     1.0 NaN\n",
              "...   ...  ..\n",
              "5172  0.0 NaN\n",
              "5173  0.0 NaN\n",
              "5174  0.0 NaN\n",
              "5175  1.0 NaN\n",
              "5176  0.0 NaN\n",
              "\n",
              "[5177 rows x 2 columns]"
            ]
          },
          "metadata": {
            "tags": []
          },
          "execution_count": 31
        }
      ]
    },
    {
      "cell_type": "code",
      "metadata": {
        "id": "o3yNxg59tWwp"
      },
      "source": [
        "sub = predictions[0]"
      ],
      "execution_count": 32,
      "outputs": []
    },
    {
      "cell_type": "code",
      "metadata": {
        "colab": {
          "base_uri": "https://localhost:8080/"
        },
        "id": "sFHV1cbttWwp",
        "outputId": "c2962da5-4caa-4ee6-c14a-db9c79845d29"
      },
      "source": [
        "sub.head()"
      ],
      "execution_count": 33,
      "outputs": [
        {
          "output_type": "execute_result",
          "data": {
            "text/plain": [
              "0    1.0\n",
              "1    1.0\n",
              "2    0.0\n",
              "3    0.0\n",
              "4    1.0\n",
              "Name: 0, dtype: float64"
            ]
          },
          "metadata": {
            "tags": []
          },
          "execution_count": 33
        }
      ]
    },
    {
      "cell_type": "code",
      "metadata": {
        "id": "no2W-3_5tWwp"
      },
      "source": [
        "sub_file = ss.copy()"
      ],
      "execution_count": 34,
      "outputs": []
    },
    {
      "cell_type": "code",
      "metadata": {
        "id": "_Z-pkLWOtWwq"
      },
      "source": [
        "sub_file.target = sub"
      ],
      "execution_count": 35,
      "outputs": []
    },
    {
      "cell_type": "code",
      "metadata": {
        "id": "MSxxKUTXtWwq"
      },
      "source": [
        "sub_file.to_csv('confirm_score_reproducibility.csv',index=False)"
      ],
      "execution_count": 36,
      "outputs": []
    },
    {
      "cell_type": "code",
      "metadata": {
        "id": "F0w5uiLStWwq"
      },
      "source": [
        ""
      ],
      "execution_count": 36,
      "outputs": []
    }
  ]
}