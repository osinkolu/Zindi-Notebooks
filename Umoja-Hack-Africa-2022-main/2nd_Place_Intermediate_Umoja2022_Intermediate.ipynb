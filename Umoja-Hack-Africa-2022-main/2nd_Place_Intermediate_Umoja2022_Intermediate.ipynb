{
  "nbformat": 4,
  "nbformat_minor": 0,
  "metadata": {
    "colab": {
      "name": "Second_Place_Umoja2022.ipynb",
      "provenance": []
    },
    "kernelspec": {
      "name": "python3",
      "display_name": "Python 3"
    },
    "language_info": {
      "name": "python"
    }
  },
  "cells": [
    {
      "cell_type": "code",
      "source": [
        "from google.colab import drive\n",
        "drive.mount('/content/drive')"
      ],
      "metadata": {
        "colab": {
          "base_uri": "https://localhost:8080/"
        },
        "id": "kk-mpVsHaLae",
        "outputId": "15f268cf-fc7f-413b-c11f-2b1601fde148"
      },
      "execution_count": null,
      "outputs": [
        {
          "output_type": "stream",
          "name": "stdout",
          "text": [
            "Drive already mounted at /content/drive; to attempt to forcibly remount, call drive.mount(\"/content/drive\", force_remount=True).\n"
          ]
        }
      ]
    },
    {
      "cell_type": "code",
      "execution_count": null,
      "metadata": {
        "id": "v2POkqHzrm2R"
      },
      "outputs": [],
      "source": [
        "!pip install catboost    #CATBOOST VERSION 1.0.4"
      ]
    },
    {
      "cell_type": "code",
      "source": [
        "!pip install -U lightgbm    #LIGHTGBM  VERSION 3.3.2"
      ],
      "metadata": {
        "id": "OfI-VP97s0i6"
      },
      "execution_count": null,
      "outputs": []
    },
    {
      "cell_type": "code",
      "source": [
        "!pip install -U xgboost   #XGBOOST 1.5.2"
      ],
      "metadata": {
        "id": "Wgekonyusxdb"
      },
      "execution_count": null,
      "outputs": []
    },
    {
      "cell_type": "markdown",
      "source": [
        "IMPORTING LIBRARIES"
      ],
      "metadata": {
        "id": "Tc-94Tq_3KyU"
      }
    },
    {
      "cell_type": "code",
      "source": [
        "import numpy as np\n",
        "import pandas as pd\n",
        "from catboost import CatBoostRegressor\n",
        "from lightgbm import LGBMRegressor\n",
        "from xgboost import XGBRegressor\n",
        "\n",
        "import seaborn as sns\n",
        "import matplotlib.pyplot as plt\n",
        "%matplotlib inline\n",
        "\n",
        "import warnings\n",
        "warnings.filterwarnings('ignore')"
      ],
      "metadata": {
        "id": "zdWBRxrssOpv"
      },
      "execution_count": null,
      "outputs": []
    },
    {
      "cell_type": "markdown",
      "source": [
        "IMPORTING DATASET  (exact same data from competition website)"
      ],
      "metadata": {
        "id": "GtGk7ebo3RAf"
      }
    },
    {
      "cell_type": "code",
      "source": [
        "train = pd.read_csv(\"/content/drive/MyDrive/UmojaData/train.csv\")\n",
        "policy = pd.read_csv(\"/content/drive/MyDrive/UmojaData/policies.csv\")\n",
        "test = pd.read_csv(\"/content/drive/MyDrive/UmojaData/test.csv\")\n",
        "sub = pd.read_csv(\"/content/drive/MyDrive/UmojaData/SampleSubmission.csv\")"
      ],
      "metadata": {
        "id": "V8J-9iyxs9_m"
      },
      "execution_count": null,
      "outputs": []
    },
    {
      "cell_type": "code",
      "source": [
        "policy['class_of_business'].mode()  #Filling Missing Values in Policy data with mode."
      ],
      "metadata": {
        "colab": {
          "base_uri": "https://localhost:8080/"
        },
        "id": "1hUO0MLF2-Lv",
        "outputId": "d6849e6a-d971-4fff-cb43-c8810e0a2fc9"
      },
      "execution_count": null,
      "outputs": [
        {
          "output_type": "execute_result",
          "data": {
            "text/plain": [
              "0    cob00031\n",
              "dtype: object"
            ]
          },
          "metadata": {},
          "execution_count": 4
        }
      ]
    },
    {
      "cell_type": "code",
      "source": [
        "policy['class_of_business'] = policy['class_of_business'].fillna('cob00031')"
      ],
      "metadata": {
        "id": "oncaOD9pta1w"
      },
      "execution_count": null,
      "outputs": []
    },
    {
      "cell_type": "markdown",
      "source": [
        "Feature Engineering on Policy data.\n",
        "- Group policy data by \"policy number\" and aggregating \"max\", \"min\",\"mean\" and \"count\" for each group.\n",
        "- Label Encode the categorical variables of the resulting data\n",
        "- Merge with training and test data on \"policy number\""
      ],
      "metadata": {
        "id": "vL7bgHGD4PB8"
      }
    },
    {
      "cell_type": "code",
      "source": [
        "#Find the number of days between  policy[\"to_date\"] and policy['from_date']\n",
        "policy['diff_days'] = (pd.to_datetime(policy[\"to_date\"]) - pd.to_datetime(policy['from_date'])).dt.days   \n"
      ],
      "metadata": {
        "id": "P0c4VomH3zF9"
      },
      "execution_count": null,
      "outputs": []
    },
    {
      "cell_type": "code",
      "source": [
        "pols = policy.groupby('policy_number').agg(\n",
        "             prd_min = ('product_code', 'min'),\n",
        "             prd_max = ('product_code', 'max'),\n",
        "             prd_count = ('product_code', 'count'),\n",
        "             ag_min = ('agent', 'min'),\n",
        "             diff_days_min = (\"diff_days\", \"min\"),\n",
        "             diff_days_max = (\"diff_days\", \"max\"),\n",
        "             diff_days_mean = (\"diff_days\", \"mean\"),\n",
        "             ag_max = ('agent', 'max'),\n",
        "             class_min = ('class_of_business', 'min'),\n",
        "             class_max = ('class_of_business', 'max'),).reset_index()"
      ],
      "metadata": {
        "id": "YqaIGXLptcYu"
      },
      "execution_count": null,
      "outputs": []
    },
    {
      "cell_type": "code",
      "source": [
        "pols.head()"
      ],
      "metadata": {
        "colab": {
          "base_uri": "https://localhost:8080/",
          "height": 270
        },
        "id": "d7-fzy1GwCtu",
        "outputId": "2a967f6e-8e65-4d31-ee24-7ec68afff05e"
      },
      "execution_count": null,
      "outputs": [
        {
          "output_type": "execute_result",
          "data": {
            "text/plain": [
              "  policy_number    prd_min    prd_max  prd_count   ag_min  diff_days_min  \\\n",
              "0  pol000005333  prod00002  prod00002          6  ag00005             79   \n",
              "1  pol000005334  prod00002  prod00002         27  ag00006             30   \n",
              "2  pol000005335  prod00002  prod00002         20  ag00007             41   \n",
              "3  pol000005336  prod00002  prod00002         90  ag00003             29   \n",
              "4  pol000005337  prod00002  prod00002         15  ag00005            120   \n",
              "\n",
              "   diff_days_max  diff_days_mean   ag_max class_min class_max  \n",
              "0            365      215.333333  ag00006  cob00004  cob00004  \n",
              "1            182      118.407407  ag00006  cob00001  cob00006  \n",
              "2            122      112.800000  ag00007  cob00001  cob00004  \n",
              "3            365      140.322222  ag00003  cob00001  cob00006  \n",
              "4            121      120.600000  ag00005  cob00001  cob00004  "
            ],
            "text/html": [
              "\n",
              "  <div id=\"df-7f26b513-8dbf-4592-b9fe-6a9261dcdbab\">\n",
              "    <div class=\"colab-df-container\">\n",
              "      <div>\n",
              "<style scoped>\n",
              "    .dataframe tbody tr th:only-of-type {\n",
              "        vertical-align: middle;\n",
              "    }\n",
              "\n",
              "    .dataframe tbody tr th {\n",
              "        vertical-align: top;\n",
              "    }\n",
              "\n",
              "    .dataframe thead th {\n",
              "        text-align: right;\n",
              "    }\n",
              "</style>\n",
              "<table border=\"1\" class=\"dataframe\">\n",
              "  <thead>\n",
              "    <tr style=\"text-align: right;\">\n",
              "      <th></th>\n",
              "      <th>policy_number</th>\n",
              "      <th>prd_min</th>\n",
              "      <th>prd_max</th>\n",
              "      <th>prd_count</th>\n",
              "      <th>ag_min</th>\n",
              "      <th>diff_days_min</th>\n",
              "      <th>diff_days_max</th>\n",
              "      <th>diff_days_mean</th>\n",
              "      <th>ag_max</th>\n",
              "      <th>class_min</th>\n",
              "      <th>class_max</th>\n",
              "    </tr>\n",
              "  </thead>\n",
              "  <tbody>\n",
              "    <tr>\n",
              "      <th>0</th>\n",
              "      <td>pol000005333</td>\n",
              "      <td>prod00002</td>\n",
              "      <td>prod00002</td>\n",
              "      <td>6</td>\n",
              "      <td>ag00005</td>\n",
              "      <td>79</td>\n",
              "      <td>365</td>\n",
              "      <td>215.333333</td>\n",
              "      <td>ag00006</td>\n",
              "      <td>cob00004</td>\n",
              "      <td>cob00004</td>\n",
              "    </tr>\n",
              "    <tr>\n",
              "      <th>1</th>\n",
              "      <td>pol000005334</td>\n",
              "      <td>prod00002</td>\n",
              "      <td>prod00002</td>\n",
              "      <td>27</td>\n",
              "      <td>ag00006</td>\n",
              "      <td>30</td>\n",
              "      <td>182</td>\n",
              "      <td>118.407407</td>\n",
              "      <td>ag00006</td>\n",
              "      <td>cob00001</td>\n",
              "      <td>cob00006</td>\n",
              "    </tr>\n",
              "    <tr>\n",
              "      <th>2</th>\n",
              "      <td>pol000005335</td>\n",
              "      <td>prod00002</td>\n",
              "      <td>prod00002</td>\n",
              "      <td>20</td>\n",
              "      <td>ag00007</td>\n",
              "      <td>41</td>\n",
              "      <td>122</td>\n",
              "      <td>112.800000</td>\n",
              "      <td>ag00007</td>\n",
              "      <td>cob00001</td>\n",
              "      <td>cob00004</td>\n",
              "    </tr>\n",
              "    <tr>\n",
              "      <th>3</th>\n",
              "      <td>pol000005336</td>\n",
              "      <td>prod00002</td>\n",
              "      <td>prod00002</td>\n",
              "      <td>90</td>\n",
              "      <td>ag00003</td>\n",
              "      <td>29</td>\n",
              "      <td>365</td>\n",
              "      <td>140.322222</td>\n",
              "      <td>ag00003</td>\n",
              "      <td>cob00001</td>\n",
              "      <td>cob00006</td>\n",
              "    </tr>\n",
              "    <tr>\n",
              "      <th>4</th>\n",
              "      <td>pol000005337</td>\n",
              "      <td>prod00002</td>\n",
              "      <td>prod00002</td>\n",
              "      <td>15</td>\n",
              "      <td>ag00005</td>\n",
              "      <td>120</td>\n",
              "      <td>121</td>\n",
              "      <td>120.600000</td>\n",
              "      <td>ag00005</td>\n",
              "      <td>cob00001</td>\n",
              "      <td>cob00004</td>\n",
              "    </tr>\n",
              "  </tbody>\n",
              "</table>\n",
              "</div>\n",
              "      <button class=\"colab-df-convert\" onclick=\"convertToInteractive('df-7f26b513-8dbf-4592-b9fe-6a9261dcdbab')\"\n",
              "              title=\"Convert this dataframe to an interactive table.\"\n",
              "              style=\"display:none;\">\n",
              "        \n",
              "  <svg xmlns=\"http://www.w3.org/2000/svg\" height=\"24px\"viewBox=\"0 0 24 24\"\n",
              "       width=\"24px\">\n",
              "    <path d=\"M0 0h24v24H0V0z\" fill=\"none\"/>\n",
              "    <path d=\"M18.56 5.44l.94 2.06.94-2.06 2.06-.94-2.06-.94-.94-2.06-.94 2.06-2.06.94zm-11 1L8.5 8.5l.94-2.06 2.06-.94-2.06-.94L8.5 2.5l-.94 2.06-2.06.94zm10 10l.94 2.06.94-2.06 2.06-.94-2.06-.94-.94-2.06-.94 2.06-2.06.94z\"/><path d=\"M17.41 7.96l-1.37-1.37c-.4-.4-.92-.59-1.43-.59-.52 0-1.04.2-1.43.59L10.3 9.45l-7.72 7.72c-.78.78-.78 2.05 0 2.83L4 21.41c.39.39.9.59 1.41.59.51 0 1.02-.2 1.41-.59l7.78-7.78 2.81-2.81c.8-.78.8-2.07 0-2.86zM5.41 20L4 18.59l7.72-7.72 1.47 1.35L5.41 20z\"/>\n",
              "  </svg>\n",
              "      </button>\n",
              "      \n",
              "  <style>\n",
              "    .colab-df-container {\n",
              "      display:flex;\n",
              "      flex-wrap:wrap;\n",
              "      gap: 12px;\n",
              "    }\n",
              "\n",
              "    .colab-df-convert {\n",
              "      background-color: #E8F0FE;\n",
              "      border: none;\n",
              "      border-radius: 50%;\n",
              "      cursor: pointer;\n",
              "      display: none;\n",
              "      fill: #1967D2;\n",
              "      height: 32px;\n",
              "      padding: 0 0 0 0;\n",
              "      width: 32px;\n",
              "    }\n",
              "\n",
              "    .colab-df-convert:hover {\n",
              "      background-color: #E2EBFA;\n",
              "      box-shadow: 0px 1px 2px rgba(60, 64, 67, 0.3), 0px 1px 3px 1px rgba(60, 64, 67, 0.15);\n",
              "      fill: #174EA6;\n",
              "    }\n",
              "\n",
              "    [theme=dark] .colab-df-convert {\n",
              "      background-color: #3B4455;\n",
              "      fill: #D2E3FC;\n",
              "    }\n",
              "\n",
              "    [theme=dark] .colab-df-convert:hover {\n",
              "      background-color: #434B5C;\n",
              "      box-shadow: 0px 1px 3px 1px rgba(0, 0, 0, 0.15);\n",
              "      filter: drop-shadow(0px 1px 2px rgba(0, 0, 0, 0.3));\n",
              "      fill: #FFFFFF;\n",
              "    }\n",
              "  </style>\n",
              "\n",
              "      <script>\n",
              "        const buttonEl =\n",
              "          document.querySelector('#df-7f26b513-8dbf-4592-b9fe-6a9261dcdbab button.colab-df-convert');\n",
              "        buttonEl.style.display =\n",
              "          google.colab.kernel.accessAllowed ? 'block' : 'none';\n",
              "\n",
              "        async function convertToInteractive(key) {\n",
              "          const element = document.querySelector('#df-7f26b513-8dbf-4592-b9fe-6a9261dcdbab');\n",
              "          const dataTable =\n",
              "            await google.colab.kernel.invokeFunction('convertToInteractive',\n",
              "                                                     [key], {});\n",
              "          if (!dataTable) return;\n",
              "\n",
              "          const docLinkHtml = 'Like what you see? Visit the ' +\n",
              "            '<a target=\"_blank\" href=https://colab.research.google.com/notebooks/data_table.ipynb>data table notebook</a>'\n",
              "            + ' to learn more about interactive tables.';\n",
              "          element.innerHTML = '';\n",
              "          dataTable['output_type'] = 'display_data';\n",
              "          await google.colab.output.renderOutput(dataTable, element);\n",
              "          const docLink = document.createElement('div');\n",
              "          docLink.innerHTML = docLinkHtml;\n",
              "          element.appendChild(docLink);\n",
              "        }\n",
              "      </script>\n",
              "    </div>\n",
              "  </div>\n",
              "  "
            ]
          },
          "metadata": {},
          "execution_count": 8
        }
      ]
    },
    {
      "cell_type": "code",
      "source": [
        "from sklearn.preprocessing import LabelEncoder"
      ],
      "metadata": {
        "id": "zqeghhxc6830"
      },
      "execution_count": null,
      "outputs": []
    },
    {
      "cell_type": "code",
      "source": [
        "policy_cat = [\"prd_max\",\"ag_min\", \"prd_min\",\"ag_max\",\"class_min\",\"class_max\"]"
      ],
      "metadata": {
        "id": "Bp6dau3z39cx"
      },
      "execution_count": null,
      "outputs": []
    },
    {
      "cell_type": "code",
      "source": [
        "for col in policy_cat:\n",
        "  lr = LabelEncoder()\n",
        "  pols[col] = lr.fit_transform(pols[col])"
      ],
      "metadata": {
        "id": "vPjvxL--7CD7"
      },
      "execution_count": null,
      "outputs": []
    },
    {
      "cell_type": "code",
      "source": [
        "pols.head()"
      ],
      "metadata": {
        "id": "_T7Fvt96xgwR",
        "colab": {
          "base_uri": "https://localhost:8080/",
          "height": 270
        },
        "outputId": "91caa69d-cb0d-4e62-9ba6-758cab2a51df"
      },
      "execution_count": null,
      "outputs": [
        {
          "output_type": "execute_result",
          "data": {
            "text/plain": [
              "  policy_number  prd_min  prd_max  prd_count  ag_min  diff_days_min  \\\n",
              "0  pol000005333        1        1          6       4             79   \n",
              "1  pol000005334        1        1         27       5             30   \n",
              "2  pol000005335        1        1         20       6             41   \n",
              "3  pol000005336        1        1         90       2             29   \n",
              "4  pol000005337        1        1         15       4            120   \n",
              "\n",
              "   diff_days_max  diff_days_mean  ag_max  class_min  class_max  \n",
              "0            365      215.333333       5          3          2  \n",
              "1            182      118.407407       5          0          4  \n",
              "2            122      112.800000       6          0          2  \n",
              "3            365      140.322222       2          0          4  \n",
              "4            121      120.600000       4          0          2  "
            ],
            "text/html": [
              "\n",
              "  <div id=\"df-ef03e9f8-ca00-4820-8de5-3a9a9e4dcdde\">\n",
              "    <div class=\"colab-df-container\">\n",
              "      <div>\n",
              "<style scoped>\n",
              "    .dataframe tbody tr th:only-of-type {\n",
              "        vertical-align: middle;\n",
              "    }\n",
              "\n",
              "    .dataframe tbody tr th {\n",
              "        vertical-align: top;\n",
              "    }\n",
              "\n",
              "    .dataframe thead th {\n",
              "        text-align: right;\n",
              "    }\n",
              "</style>\n",
              "<table border=\"1\" class=\"dataframe\">\n",
              "  <thead>\n",
              "    <tr style=\"text-align: right;\">\n",
              "      <th></th>\n",
              "      <th>policy_number</th>\n",
              "      <th>prd_min</th>\n",
              "      <th>prd_max</th>\n",
              "      <th>prd_count</th>\n",
              "      <th>ag_min</th>\n",
              "      <th>diff_days_min</th>\n",
              "      <th>diff_days_max</th>\n",
              "      <th>diff_days_mean</th>\n",
              "      <th>ag_max</th>\n",
              "      <th>class_min</th>\n",
              "      <th>class_max</th>\n",
              "    </tr>\n",
              "  </thead>\n",
              "  <tbody>\n",
              "    <tr>\n",
              "      <th>0</th>\n",
              "      <td>pol000005333</td>\n",
              "      <td>1</td>\n",
              "      <td>1</td>\n",
              "      <td>6</td>\n",
              "      <td>4</td>\n",
              "      <td>79</td>\n",
              "      <td>365</td>\n",
              "      <td>215.333333</td>\n",
              "      <td>5</td>\n",
              "      <td>3</td>\n",
              "      <td>2</td>\n",
              "    </tr>\n",
              "    <tr>\n",
              "      <th>1</th>\n",
              "      <td>pol000005334</td>\n",
              "      <td>1</td>\n",
              "      <td>1</td>\n",
              "      <td>27</td>\n",
              "      <td>5</td>\n",
              "      <td>30</td>\n",
              "      <td>182</td>\n",
              "      <td>118.407407</td>\n",
              "      <td>5</td>\n",
              "      <td>0</td>\n",
              "      <td>4</td>\n",
              "    </tr>\n",
              "    <tr>\n",
              "      <th>2</th>\n",
              "      <td>pol000005335</td>\n",
              "      <td>1</td>\n",
              "      <td>1</td>\n",
              "      <td>20</td>\n",
              "      <td>6</td>\n",
              "      <td>41</td>\n",
              "      <td>122</td>\n",
              "      <td>112.800000</td>\n",
              "      <td>6</td>\n",
              "      <td>0</td>\n",
              "      <td>2</td>\n",
              "    </tr>\n",
              "    <tr>\n",
              "      <th>3</th>\n",
              "      <td>pol000005336</td>\n",
              "      <td>1</td>\n",
              "      <td>1</td>\n",
              "      <td>90</td>\n",
              "      <td>2</td>\n",
              "      <td>29</td>\n",
              "      <td>365</td>\n",
              "      <td>140.322222</td>\n",
              "      <td>2</td>\n",
              "      <td>0</td>\n",
              "      <td>4</td>\n",
              "    </tr>\n",
              "    <tr>\n",
              "      <th>4</th>\n",
              "      <td>pol000005337</td>\n",
              "      <td>1</td>\n",
              "      <td>1</td>\n",
              "      <td>15</td>\n",
              "      <td>4</td>\n",
              "      <td>120</td>\n",
              "      <td>121</td>\n",
              "      <td>120.600000</td>\n",
              "      <td>4</td>\n",
              "      <td>0</td>\n",
              "      <td>2</td>\n",
              "    </tr>\n",
              "  </tbody>\n",
              "</table>\n",
              "</div>\n",
              "      <button class=\"colab-df-convert\" onclick=\"convertToInteractive('df-ef03e9f8-ca00-4820-8de5-3a9a9e4dcdde')\"\n",
              "              title=\"Convert this dataframe to an interactive table.\"\n",
              "              style=\"display:none;\">\n",
              "        \n",
              "  <svg xmlns=\"http://www.w3.org/2000/svg\" height=\"24px\"viewBox=\"0 0 24 24\"\n",
              "       width=\"24px\">\n",
              "    <path d=\"M0 0h24v24H0V0z\" fill=\"none\"/>\n",
              "    <path d=\"M18.56 5.44l.94 2.06.94-2.06 2.06-.94-2.06-.94-.94-2.06-.94 2.06-2.06.94zm-11 1L8.5 8.5l.94-2.06 2.06-.94-2.06-.94L8.5 2.5l-.94 2.06-2.06.94zm10 10l.94 2.06.94-2.06 2.06-.94-2.06-.94-.94-2.06-.94 2.06-2.06.94z\"/><path d=\"M17.41 7.96l-1.37-1.37c-.4-.4-.92-.59-1.43-.59-.52 0-1.04.2-1.43.59L10.3 9.45l-7.72 7.72c-.78.78-.78 2.05 0 2.83L4 21.41c.39.39.9.59 1.41.59.51 0 1.02-.2 1.41-.59l7.78-7.78 2.81-2.81c.8-.78.8-2.07 0-2.86zM5.41 20L4 18.59l7.72-7.72 1.47 1.35L5.41 20z\"/>\n",
              "  </svg>\n",
              "      </button>\n",
              "      \n",
              "  <style>\n",
              "    .colab-df-container {\n",
              "      display:flex;\n",
              "      flex-wrap:wrap;\n",
              "      gap: 12px;\n",
              "    }\n",
              "\n",
              "    .colab-df-convert {\n",
              "      background-color: #E8F0FE;\n",
              "      border: none;\n",
              "      border-radius: 50%;\n",
              "      cursor: pointer;\n",
              "      display: none;\n",
              "      fill: #1967D2;\n",
              "      height: 32px;\n",
              "      padding: 0 0 0 0;\n",
              "      width: 32px;\n",
              "    }\n",
              "\n",
              "    .colab-df-convert:hover {\n",
              "      background-color: #E2EBFA;\n",
              "      box-shadow: 0px 1px 2px rgba(60, 64, 67, 0.3), 0px 1px 3px 1px rgba(60, 64, 67, 0.15);\n",
              "      fill: #174EA6;\n",
              "    }\n",
              "\n",
              "    [theme=dark] .colab-df-convert {\n",
              "      background-color: #3B4455;\n",
              "      fill: #D2E3FC;\n",
              "    }\n",
              "\n",
              "    [theme=dark] .colab-df-convert:hover {\n",
              "      background-color: #434B5C;\n",
              "      box-shadow: 0px 1px 3px 1px rgba(0, 0, 0, 0.15);\n",
              "      filter: drop-shadow(0px 1px 2px rgba(0, 0, 0, 0.3));\n",
              "      fill: #FFFFFF;\n",
              "    }\n",
              "  </style>\n",
              "\n",
              "      <script>\n",
              "        const buttonEl =\n",
              "          document.querySelector('#df-ef03e9f8-ca00-4820-8de5-3a9a9e4dcdde button.colab-df-convert');\n",
              "        buttonEl.style.display =\n",
              "          google.colab.kernel.accessAllowed ? 'block' : 'none';\n",
              "\n",
              "        async function convertToInteractive(key) {\n",
              "          const element = document.querySelector('#df-ef03e9f8-ca00-4820-8de5-3a9a9e4dcdde');\n",
              "          const dataTable =\n",
              "            await google.colab.kernel.invokeFunction('convertToInteractive',\n",
              "                                                     [key], {});\n",
              "          if (!dataTable) return;\n",
              "\n",
              "          const docLinkHtml = 'Like what you see? Visit the ' +\n",
              "            '<a target=\"_blank\" href=https://colab.research.google.com/notebooks/data_table.ipynb>data table notebook</a>'\n",
              "            + ' to learn more about interactive tables.';\n",
              "          element.innerHTML = '';\n",
              "          dataTable['output_type'] = 'display_data';\n",
              "          await google.colab.output.renderOutput(dataTable, element);\n",
              "          const docLink = document.createElement('div');\n",
              "          docLink.innerHTML = docLinkHtml;\n",
              "          element.appendChild(docLink);\n",
              "        }\n",
              "      </script>\n",
              "    </div>\n",
              "  </div>\n",
              "  "
            ]
          },
          "metadata": {},
          "execution_count": 12
        }
      ]
    },
    {
      "cell_type": "markdown",
      "source": [
        "Feature Engineering on Train and Test data.\n",
        "- Group data by \"policy_number\" and \"product number\" and extract aggregate features (mean, sum, count etc)\n",
        "- map categorical variables to thier frequency of occurence.\n",
        "- Extract date and time feature from \"loss date\""
      ],
      "metadata": {
        "id": "I6QI3tjf7SyI"
      }
    },
    {
      "cell_type": "code",
      "source": [
        "data = pd.concat([train, test]).reset_index()"
      ],
      "metadata": {
        "id": "ojEDfjpayQBm"
      },
      "execution_count": null,
      "outputs": []
    },
    {
      "cell_type": "code",
      "source": [
        "data['policy_insured_mean'] = data.groupby(['policy_number'])['sum_insured'].transform('mean')\n",
        "data['policy_insured_max'] = data.groupby(['policy_number'])['sum_insured'].transform('max')\n",
        "data['policy_insured_count'] = data.groupby(['policy_number'])['sum_insured'].transform('count')\n",
        "data['policy_insured_sum'] = data.groupby(['policy_number'])['sum_insured'].transform('sum')\n",
        "\n",
        "\n",
        "data['product_sum'] = data.groupby(['policy_number'])['product'].transform('count')\n",
        "data['product_nunique'] = data.groupby(['policy_number'])['product'].transform('nunique')"
      ],
      "metadata": {
        "id": "TA5bvcBgyZSV"
      },
      "execution_count": null,
      "outputs": []
    },
    {
      "cell_type": "code",
      "source": [
        "cat = ['claim_number','product', 'policy_number', 'agent', 'class_of_business', 'risk_type','client_type', 'renewal_frequency', 'primary_cause', 'secondary_cause',\n",
        "       'branch']\n",
        "for i in cat:\n",
        "    data[i+'_freq'] = data[i].map(data[i].value_counts())"
      ],
      "metadata": {
        "id": "Yz-GQY5NyjEN"
      },
      "execution_count": null,
      "outputs": []
    },
    {
      "cell_type": "code",
      "source": [
        "data['loss_date'] = pd.to_datetime(data['loss_date'])"
      ],
      "metadata": {
        "id": "sXwTrccIy_wN"
      },
      "execution_count": null,
      "outputs": []
    },
    {
      "cell_type": "code",
      "source": [
        "data['loss_year'] = data['loss_date'].dt.year\n",
        "data['loss_month'] = data['loss_date'].dt.month\n",
        "data['loss_day'] = data['loss_date'].dt.day"
      ],
      "metadata": {
        "id": "bbFvn1M-zHN6"
      },
      "execution_count": null,
      "outputs": []
    },
    {
      "cell_type": "markdown",
      "source": [
        "Merge training (and test) data with policy data"
      ],
      "metadata": {
        "id": "WpElLn6a9Dk8"
      }
    },
    {
      "cell_type": "code",
      "source": [
        "data = data.merge(pols, how='left', on='policy_number')"
      ],
      "metadata": {
        "id": "EOnNlZW-zRbc"
      },
      "execution_count": null,
      "outputs": []
    },
    {
      "cell_type": "code",
      "source": [
        "for i in cat:\n",
        "  le = LabelEncoder()\n",
        "  data[i] = le.fit_transform(data[i])"
      ],
      "metadata": {
        "id": "Ka57KFtQ2pD-"
      },
      "execution_count": null,
      "outputs": []
    },
    {
      "cell_type": "markdown",
      "source": [
        "Split Combined data into train and test"
      ],
      "metadata": {
        "id": "WShv_JpY9SsY"
      }
    },
    {
      "cell_type": "code",
      "source": [
        "train_df  = data[~data['target'].isna()].reset_index(drop=True)\n",
        "test_df = data[data['target'].isna()].reset_index(drop=True)"
      ],
      "metadata": {
        "id": "xhKz1qVp0J-s"
      },
      "execution_count": null,
      "outputs": []
    },
    {
      "cell_type": "markdown",
      "source": [
        "## Modeling."
      ],
      "metadata": {
        "id": "cJI5AV4e9aSn"
      }
    },
    {
      "cell_type": "code",
      "source": [
        "X = train_df.drop(columns=['claim_id','claim_number', 'index', 'loss_date', 'target','policy_number'])\n",
        "y = train_df['target']\n",
        "X_test = test_df.drop(columns=['claim_id','claim_number', 'index', 'loss_date', 'target','policy_number'])"
      ],
      "metadata": {
        "id": "LxhC6mIIzpOO"
      },
      "execution_count": null,
      "outputs": []
    },
    {
      "cell_type": "code",
      "source": [
        "X.head()"
      ],
      "metadata": {
        "colab": {
          "base_uri": "https://localhost:8080/",
          "height": 299
        },
        "id": "kz3Qgfza2VDh",
        "outputId": "cc0a5042-6da2-4ee4-e238-f7046029231d"
      },
      "execution_count": null,
      "outputs": [
        {
          "output_type": "execute_result",
          "data": {
            "text/plain": [
              "   sum_insured  product  agent  class_of_business  risk_type  client_type  \\\n",
              "0     300000.0       26      4                 30          5            2   \n",
              "1      16000.0        4      7                  9         31            2   \n",
              "2       3000.0       28      1                  9         25            2   \n",
              "3       6000.0        4      1                  8         31            2   \n",
              "4      26850.0       14      7                 32         22            0   \n",
              "\n",
              "   renewal_frequency  primary_cause  secondary_cause  branch  ...  prd_min  \\\n",
              "0                  0              6               20       5  ...     26.0   \n",
              "1                  0              6               21       1  ...      4.0   \n",
              "2                  0              6               22       1  ...     28.0   \n",
              "3                  0              6               19       0  ...      4.0   \n",
              "4                  0              6               19       0  ...     14.0   \n",
              "\n",
              "   prd_max  prd_count  ag_min  diff_days_min  diff_days_max  diff_days_mean  \\\n",
              "0     26.0        8.0    31.0          119.0          122.0      120.875000   \n",
              "1      4.0        2.0    10.0          122.0          122.0      122.000000   \n",
              "2     28.0        2.0    47.0          121.0          121.0      121.000000   \n",
              "3      4.0        6.0    18.0          119.0          130.0      122.666667   \n",
              "4     14.0       11.0    59.0           93.0          122.0      117.090909   \n",
              "\n",
              "   ag_max  class_min  class_max  \n",
              "0    31.0       27.0       25.0  \n",
              "1    10.0        7.0       25.0  \n",
              "2    47.0       27.0       25.0  \n",
              "3    18.0        7.0       25.0  \n",
              "4    59.0       29.0       27.0  \n",
              "\n",
              "[5 rows x 40 columns]"
            ],
            "text/html": [
              "\n",
              "  <div id=\"df-d082ee0b-d087-4a81-9418-545b645e2851\">\n",
              "    <div class=\"colab-df-container\">\n",
              "      <div>\n",
              "<style scoped>\n",
              "    .dataframe tbody tr th:only-of-type {\n",
              "        vertical-align: middle;\n",
              "    }\n",
              "\n",
              "    .dataframe tbody tr th {\n",
              "        vertical-align: top;\n",
              "    }\n",
              "\n",
              "    .dataframe thead th {\n",
              "        text-align: right;\n",
              "    }\n",
              "</style>\n",
              "<table border=\"1\" class=\"dataframe\">\n",
              "  <thead>\n",
              "    <tr style=\"text-align: right;\">\n",
              "      <th></th>\n",
              "      <th>sum_insured</th>\n",
              "      <th>product</th>\n",
              "      <th>agent</th>\n",
              "      <th>class_of_business</th>\n",
              "      <th>risk_type</th>\n",
              "      <th>client_type</th>\n",
              "      <th>renewal_frequency</th>\n",
              "      <th>primary_cause</th>\n",
              "      <th>secondary_cause</th>\n",
              "      <th>branch</th>\n",
              "      <th>...</th>\n",
              "      <th>prd_min</th>\n",
              "      <th>prd_max</th>\n",
              "      <th>prd_count</th>\n",
              "      <th>ag_min</th>\n",
              "      <th>diff_days_min</th>\n",
              "      <th>diff_days_max</th>\n",
              "      <th>diff_days_mean</th>\n",
              "      <th>ag_max</th>\n",
              "      <th>class_min</th>\n",
              "      <th>class_max</th>\n",
              "    </tr>\n",
              "  </thead>\n",
              "  <tbody>\n",
              "    <tr>\n",
              "      <th>0</th>\n",
              "      <td>300000.0</td>\n",
              "      <td>26</td>\n",
              "      <td>4</td>\n",
              "      <td>30</td>\n",
              "      <td>5</td>\n",
              "      <td>2</td>\n",
              "      <td>0</td>\n",
              "      <td>6</td>\n",
              "      <td>20</td>\n",
              "      <td>5</td>\n",
              "      <td>...</td>\n",
              "      <td>26.0</td>\n",
              "      <td>26.0</td>\n",
              "      <td>8.0</td>\n",
              "      <td>31.0</td>\n",
              "      <td>119.0</td>\n",
              "      <td>122.0</td>\n",
              "      <td>120.875000</td>\n",
              "      <td>31.0</td>\n",
              "      <td>27.0</td>\n",
              "      <td>25.0</td>\n",
              "    </tr>\n",
              "    <tr>\n",
              "      <th>1</th>\n",
              "      <td>16000.0</td>\n",
              "      <td>4</td>\n",
              "      <td>7</td>\n",
              "      <td>9</td>\n",
              "      <td>31</td>\n",
              "      <td>2</td>\n",
              "      <td>0</td>\n",
              "      <td>6</td>\n",
              "      <td>21</td>\n",
              "      <td>1</td>\n",
              "      <td>...</td>\n",
              "      <td>4.0</td>\n",
              "      <td>4.0</td>\n",
              "      <td>2.0</td>\n",
              "      <td>10.0</td>\n",
              "      <td>122.0</td>\n",
              "      <td>122.0</td>\n",
              "      <td>122.000000</td>\n",
              "      <td>10.0</td>\n",
              "      <td>7.0</td>\n",
              "      <td>25.0</td>\n",
              "    </tr>\n",
              "    <tr>\n",
              "      <th>2</th>\n",
              "      <td>3000.0</td>\n",
              "      <td>28</td>\n",
              "      <td>1</td>\n",
              "      <td>9</td>\n",
              "      <td>25</td>\n",
              "      <td>2</td>\n",
              "      <td>0</td>\n",
              "      <td>6</td>\n",
              "      <td>22</td>\n",
              "      <td>1</td>\n",
              "      <td>...</td>\n",
              "      <td>28.0</td>\n",
              "      <td>28.0</td>\n",
              "      <td>2.0</td>\n",
              "      <td>47.0</td>\n",
              "      <td>121.0</td>\n",
              "      <td>121.0</td>\n",
              "      <td>121.000000</td>\n",
              "      <td>47.0</td>\n",
              "      <td>27.0</td>\n",
              "      <td>25.0</td>\n",
              "    </tr>\n",
              "    <tr>\n",
              "      <th>3</th>\n",
              "      <td>6000.0</td>\n",
              "      <td>4</td>\n",
              "      <td>1</td>\n",
              "      <td>8</td>\n",
              "      <td>31</td>\n",
              "      <td>2</td>\n",
              "      <td>0</td>\n",
              "      <td>6</td>\n",
              "      <td>19</td>\n",
              "      <td>0</td>\n",
              "      <td>...</td>\n",
              "      <td>4.0</td>\n",
              "      <td>4.0</td>\n",
              "      <td>6.0</td>\n",
              "      <td>18.0</td>\n",
              "      <td>119.0</td>\n",
              "      <td>130.0</td>\n",
              "      <td>122.666667</td>\n",
              "      <td>18.0</td>\n",
              "      <td>7.0</td>\n",
              "      <td>25.0</td>\n",
              "    </tr>\n",
              "    <tr>\n",
              "      <th>4</th>\n",
              "      <td>26850.0</td>\n",
              "      <td>14</td>\n",
              "      <td>7</td>\n",
              "      <td>32</td>\n",
              "      <td>22</td>\n",
              "      <td>0</td>\n",
              "      <td>0</td>\n",
              "      <td>6</td>\n",
              "      <td>19</td>\n",
              "      <td>0</td>\n",
              "      <td>...</td>\n",
              "      <td>14.0</td>\n",
              "      <td>14.0</td>\n",
              "      <td>11.0</td>\n",
              "      <td>59.0</td>\n",
              "      <td>93.0</td>\n",
              "      <td>122.0</td>\n",
              "      <td>117.090909</td>\n",
              "      <td>59.0</td>\n",
              "      <td>29.0</td>\n",
              "      <td>27.0</td>\n",
              "    </tr>\n",
              "  </tbody>\n",
              "</table>\n",
              "<p>5 rows × 40 columns</p>\n",
              "</div>\n",
              "      <button class=\"colab-df-convert\" onclick=\"convertToInteractive('df-d082ee0b-d087-4a81-9418-545b645e2851')\"\n",
              "              title=\"Convert this dataframe to an interactive table.\"\n",
              "              style=\"display:none;\">\n",
              "        \n",
              "  <svg xmlns=\"http://www.w3.org/2000/svg\" height=\"24px\"viewBox=\"0 0 24 24\"\n",
              "       width=\"24px\">\n",
              "    <path d=\"M0 0h24v24H0V0z\" fill=\"none\"/>\n",
              "    <path d=\"M18.56 5.44l.94 2.06.94-2.06 2.06-.94-2.06-.94-.94-2.06-.94 2.06-2.06.94zm-11 1L8.5 8.5l.94-2.06 2.06-.94-2.06-.94L8.5 2.5l-.94 2.06-2.06.94zm10 10l.94 2.06.94-2.06 2.06-.94-2.06-.94-.94-2.06-.94 2.06-2.06.94z\"/><path d=\"M17.41 7.96l-1.37-1.37c-.4-.4-.92-.59-1.43-.59-.52 0-1.04.2-1.43.59L10.3 9.45l-7.72 7.72c-.78.78-.78 2.05 0 2.83L4 21.41c.39.39.9.59 1.41.59.51 0 1.02-.2 1.41-.59l7.78-7.78 2.81-2.81c.8-.78.8-2.07 0-2.86zM5.41 20L4 18.59l7.72-7.72 1.47 1.35L5.41 20z\"/>\n",
              "  </svg>\n",
              "      </button>\n",
              "      \n",
              "  <style>\n",
              "    .colab-df-container {\n",
              "      display:flex;\n",
              "      flex-wrap:wrap;\n",
              "      gap: 12px;\n",
              "    }\n",
              "\n",
              "    .colab-df-convert {\n",
              "      background-color: #E8F0FE;\n",
              "      border: none;\n",
              "      border-radius: 50%;\n",
              "      cursor: pointer;\n",
              "      display: none;\n",
              "      fill: #1967D2;\n",
              "      height: 32px;\n",
              "      padding: 0 0 0 0;\n",
              "      width: 32px;\n",
              "    }\n",
              "\n",
              "    .colab-df-convert:hover {\n",
              "      background-color: #E2EBFA;\n",
              "      box-shadow: 0px 1px 2px rgba(60, 64, 67, 0.3), 0px 1px 3px 1px rgba(60, 64, 67, 0.15);\n",
              "      fill: #174EA6;\n",
              "    }\n",
              "\n",
              "    [theme=dark] .colab-df-convert {\n",
              "      background-color: #3B4455;\n",
              "      fill: #D2E3FC;\n",
              "    }\n",
              "\n",
              "    [theme=dark] .colab-df-convert:hover {\n",
              "      background-color: #434B5C;\n",
              "      box-shadow: 0px 1px 3px 1px rgba(0, 0, 0, 0.15);\n",
              "      filter: drop-shadow(0px 1px 2px rgba(0, 0, 0, 0.3));\n",
              "      fill: #FFFFFF;\n",
              "    }\n",
              "  </style>\n",
              "\n",
              "      <script>\n",
              "        const buttonEl =\n",
              "          document.querySelector('#df-d082ee0b-d087-4a81-9418-545b645e2851 button.colab-df-convert');\n",
              "        buttonEl.style.display =\n",
              "          google.colab.kernel.accessAllowed ? 'block' : 'none';\n",
              "\n",
              "        async function convertToInteractive(key) {\n",
              "          const element = document.querySelector('#df-d082ee0b-d087-4a81-9418-545b645e2851');\n",
              "          const dataTable =\n",
              "            await google.colab.kernel.invokeFunction('convertToInteractive',\n",
              "                                                     [key], {});\n",
              "          if (!dataTable) return;\n",
              "\n",
              "          const docLinkHtml = 'Like what you see? Visit the ' +\n",
              "            '<a target=\"_blank\" href=https://colab.research.google.com/notebooks/data_table.ipynb>data table notebook</a>'\n",
              "            + ' to learn more about interactive tables.';\n",
              "          element.innerHTML = '';\n",
              "          dataTable['output_type'] = 'display_data';\n",
              "          await google.colab.output.renderOutput(dataTable, element);\n",
              "          const docLink = document.createElement('div');\n",
              "          docLink.innerHTML = docLinkHtml;\n",
              "          element.appendChild(docLink);\n",
              "        }\n",
              "      </script>\n",
              "    </div>\n",
              "  </div>\n",
              "  "
            ]
          },
          "metadata": {},
          "execution_count": 22
        }
      ]
    },
    {
      "cell_type": "code",
      "source": [
        "from sklearn.metrics import mean_absolute_error\n",
        "from sklearn.model_selection import KFold"
      ],
      "metadata": {
        "id": "YzwhJFCO1sQd"
      },
      "execution_count": null,
      "outputs": []
    },
    {
      "cell_type": "markdown",
      "source": [
        "Transform target variable \n",
        "\n",
        "- Log transform the target variable (cuz it's very skewed) using `np.log1p()` but remember to reverse the transformation using `np.expm1()`\n",
        "\n",
        "[more details](https://scikit-learn.org/stable/auto_examples/compose/plot_transformed_target.html)\n",
        "\n",
        "[more details](https://www.kaggle.com/product-feedback/164183)\n"
      ],
      "metadata": {
        "id": "RjleULPb-Qnz"
      }
    },
    {
      "cell_type": "code",
      "source": [
        "sns.set()\n",
        "y = train_df[\"target\"]\n",
        "y_transformed = pd.Series(np.log1p(y))\n",
        "\n",
        "fig, ax = plt.subplots(1, 2)\n",
        "sns.distplot(y, ax=ax[0])\n",
        "plt.title(\"Target after Log transformation\")\n",
        "# ax[0].axvline(y_transformed)\n",
        "sns.distplot(y_transformed, ax=ax[1])\n",
        "plt.show()"
      ],
      "metadata": {
        "colab": {
          "base_uri": "https://localhost:8080/",
          "height": 301
        },
        "id": "imMYN5h6_ieW",
        "outputId": "0bf8015e-3f2c-4032-adda-bc97c1425d22"
      },
      "execution_count": null,
      "outputs": [
        {
          "output_type": "display_data",
          "data": {
            "text/plain": [
              "<Figure size 432x288 with 2 Axes>"
            ],
            "image/png": "[encoded data removed]"
          },
          "metadata": {}
        }
      ]
    },
    {
      "cell_type": "code",
      "source": [
        "fold_pred=[]\n",
        "oof_pred = []\n",
        "\n",
        "params = {'colsample_bytree': 0.384606276881856,\n",
        " 'learning_rate': 0.23251453473545997,\n",
        " 'max_depth': 7,\n",
        " 'subsample': 0.3530887571489526}\n",
        "\n",
        "\n",
        "\n",
        "\n",
        "fold= KFold(n_splits=5)#15#5#10\n",
        "i=1\n",
        "for train_index, test_index in fold.split(X,y):     \n",
        "  \n",
        "    X_train, X_test = X.iloc[train_index], X.iloc[test_index]\n",
        "    y_train, y_test = np.log1p(y.iloc[train_index]), y.iloc[test_index]\n",
        "\n",
        "    model = LGBMRegressor(**params, objective = \"mae\")\n",
        "    model.fit(X_train,y_train,eval_set=[(X_train,y_train),(X_test, y_test)], early_stopping_rounds=300, verbose = False)#erly100\n",
        "\n",
        "    preds= model.predict(X_test)\n",
        "    print(\"err: \",(mean_absolute_error(y_test,np.expm1(preds))))  #Reverse transformation\n",
        "    oof_pred.append(mean_absolute_error(y_test,np.expm1(preds)))\n",
        "    p2 = model.predict(test_df[X.columns])\n",
        "    fold_pred.append(np.expm1(p2))\n",
        "    \n",
        "\n",
        "print(np.mean(oof_pred))"
      ],
      "metadata": {
        "colab": {
          "base_uri": "https://localhost:8080/"
        },
        "id": "AyK3BIyAx2W9",
        "outputId": "6e039682-94d0-4d34-98ed-9316065c3f95"
      },
      "execution_count": null,
      "outputs": [
        {
          "output_type": "stream",
          "name": "stdout",
          "text": [
            "err:  33900.17930738362\n",
            "err:  37267.10023098928\n",
            "err:  32324.45112652706\n",
            "err:  27729.001944863216\n",
            "err:  39939.52862143089\n",
            "34232.05224623882\n"
          ]
        }
      ]
    },
    {
      "cell_type": "markdown",
      "source": [
        "## Hyperparameter Tuning using Optuna. "
      ],
      "metadata": {
        "id": "OOgIyzvR9qvM"
      }
    },
    {
      "cell_type": "code",
      "source": [
        "def objective(trial):\n",
        "    fold_pred=[]\n",
        "    oof_pred = []\n",
        "\n",
        "\n",
        "    param = {}\n",
        "    param['objective'] = \"mae\"\n",
        "\n",
        "    param[\"learning_rate\"] = trial.suggest_float(\"learning_rate\", 1e-2, 0.25, log=True)\n",
        "#     param['reg_lambda'] = trial.suggest_loguniform(\"reg_lambda\", 1e-8, 100.0)\n",
        "#     param['reg_alpha'] = trial.suggest_loguniform(\"reg_alpha\", 1e-8, 100.0)\n",
        "    param['subsample'] = trial.suggest_float(\"subsample\", 0.1, 1.0)\n",
        "    param['colsample_bytree'] = trial.suggest_float(\"colsample_bytree\", 0.1, 1.0)\n",
        "    param['max_depth'] = trial.suggest_int(\"max_depth\", 5, 20)\n",
        "    # param['scale_pos_weight'] = trial.suggest_int('scale_pos_weight', 3, 10)\n",
        "\n",
        "\n",
        "\n",
        "\n",
        "    fold=KFold(n_splits=3)#15#5#10\n",
        "    i=1\n",
        "    for train_index, test_index in fold.split(X,y):\n",
        "        \n",
        "        X_train, X_test = X.iloc[train_index], X.iloc[test_index]\n",
        "        y_train, y_test = np.log1p(y.iloc[train_index]), y.iloc[test_index]\n",
        "        # m2 = CatBoostRegressor(**param)\n",
        "        m2 = LGBMRegressor(**param)\n",
        "\n",
        "        m2.fit(X_train,y_train,eval_set=[(X_train,y_train),(X_test, y_test)], early_stopping_rounds=500, verbose = False)#erly100\n",
        "        preds=m2.predict(X_test)\n",
        "        oof_pred.append(mean_absolute_error(y_test,np.expm1(preds)))\n",
        "\n",
        "    \n",
        "\n",
        "    return np.mean(oof_pred)\n"
      ],
      "metadata": {
        "id": "kniDu1rVs3BB"
      },
      "execution_count": null,
      "outputs": []
    },
    {
      "cell_type": "code",
      "source": [
        "!pip install optuna"
      ],
      "metadata": {
        "id": "VE22wikougNX"
      },
      "execution_count": null,
      "outputs": []
    },
    {
      "cell_type": "code",
      "source": [
        "import optuna"
      ],
      "metadata": {
        "id": "nSWJWk_BurAw"
      },
      "execution_count": null,
      "outputs": []
    },
    {
      "cell_type": "markdown",
      "source": [
        "Find best params"
      ],
      "metadata": {
        "id": "QGqtOflXBfqu"
      }
    },
    {
      "cell_type": "code",
      "source": [
        "# study = optuna.create_study(direction=\"minimize\")\n",
        "# study.optimize(objective, n_trials=100)"
      ],
      "metadata": {
        "id": "ZDUABzkss2-X"
      },
      "execution_count": null,
      "outputs": []
    },
    {
      "cell_type": "code",
      "source": [
        "# print(\"Number of finished trials: {}\".format(len(study.trials)))\n",
        "\n",
        "# print(\"Best trial:\")\n",
        "# trial = study.best_trial\n",
        "\n",
        "# print(\"  Value: {}\".format(trial.value))\n",
        "\n",
        "# print(\"  Params: \")\n",
        "# for key, value in trial.params.items():\n",
        "#     print(\"    {}: {}\".format(key, value))"
      ],
      "metadata": {
        "colab": {
          "base_uri": "https://localhost:8080/"
        },
        "id": "IACsD7vxs27q",
        "outputId": "469082da-ea9e-4e6d-e094-9fc0e9a2c833"
      },
      "execution_count": null,
      "outputs": [
        {
          "output_type": "stream",
          "name": "stdout",
          "text": [
            "Number of finished trials: 100\n",
            "Best trial:\n",
            "  Value: 33758.99131957881\n",
            "  Params: \n",
            "    learning_rate: 0.23251453473545997\n",
            "    subsample: 0.3530887571489526\n",
            "    colsample_bytree: 0.384606276881856\n",
            "    max_depth: 7\n"
          ]
        }
      ]
    },
    {
      "cell_type": "code",
      "source": [
        "# trial.params   #best params"
      ],
      "metadata": {
        "colab": {
          "base_uri": "https://localhost:8080/"
        },
        "id": "DyXcTbDfs240",
        "outputId": "bba29233-de31-4ccc-be23-90784d6b0d09"
      },
      "execution_count": null,
      "outputs": [
        {
          "output_type": "execute_result",
          "data": {
            "text/plain": [
              "{'colsample_bytree': 0.384606276881856,\n",
              " 'learning_rate': 0.23251453473545997,\n",
              " 'max_depth': 7,\n",
              " 'subsample': 0.3530887571489526}"
            ]
          },
          "metadata": {},
          "execution_count": 88
        }
      ]
    },
    {
      "cell_type": "code",
      "source": [
        "# # 0.7831404345536787\n",
        "feature_importance_df = pd.DataFrame(model.feature_importances_, columns=['importance'])\n",
        "feature_importance_df['feature'] = X.columns\n",
        "\n",
        "plt.figure(figsize=(20, 12));\n",
        "sns.barplot(x=\"importance\", y=\"feature\", data=feature_importance_df.sort_values(by = ['importance'], ascending = False).head(60))\n",
        "plt.title('CatboostClassifier features importance (top 50):')"
      ],
      "metadata": {
        "colab": {
          "base_uri": "https://localhost:8080/",
          "height": 602
        },
        "id": "Fx04AyYVGh0q",
        "outputId": "15d70357-a174-4d85-ec80-e74086f20bae"
      },
      "execution_count": null,
      "outputs": [
        {
          "output_type": "execute_result",
          "data": {
            "text/plain": [
              "Text(0.5, 1.0, 'CatboostClassifier features importance (top 50):')"
            ]
          },
          "metadata": {},
          "execution_count": 30
        },
        {
          "output_type": "display_data",
          "data": {
            "text/plain": [
              "<Figure size 1440x864 with 1 Axes>"
            ],
            "image/png": "[encoded data removed]"
          },
          "metadata": {}
        }
      ]
    },
    {
      "cell_type": "markdown",
      "source": [
        "## Submission"
      ],
      "metadata": {
        "id": "Lkg25M4mDyHI"
      }
    },
    {
      "cell_type": "code",
      "source": [
        "sub['target'] =  np.mean(fold_pred, axis = 0)"
      ],
      "metadata": {
        "id": "Mr64ZqZ43rl4"
      },
      "execution_count": null,
      "outputs": []
    },
    {
      "cell_type": "code",
      "source": [
        "sub.head()"
      ],
      "metadata": {
        "colab": {
          "base_uri": "https://localhost:8080/",
          "height": 206
        },
        "id": "j7NVoCpnFLhi",
        "outputId": "70133667-3c2a-431c-a656-6708643ef945"
      },
      "execution_count": null,
      "outputs": [
        {
          "output_type": "execute_result",
          "data": {
            "text/plain": [
              "          claim_id         target\n",
              "0  ID_4RO0KZI9BBW2  154964.276126\n",
              "1  ID_GTE9ZUJ9GZ97   40191.625992\n",
              "2  ID_RUVIYRKWZ4RG    2123.975472\n",
              "3  ID_J81X8SWU6JYN     625.087877\n",
              "4  ID_94NM3JJAWWOQ    9846.816691"
            ],
            "text/html": [
              "\n",
              "  <div id=\"df-8a75033e-baba-444f-a200-d6da68be4f0a\">\n",
              "    <div class=\"colab-df-container\">\n",
              "      <div>\n",
              "<style scoped>\n",
              "    .dataframe tbody tr th:only-of-type {\n",
              "        vertical-align: middle;\n",
              "    }\n",
              "\n",
              "    .dataframe tbody tr th {\n",
              "        vertical-align: top;\n",
              "    }\n",
              "\n",
              "    .dataframe thead th {\n",
              "        text-align: right;\n",
              "    }\n",
              "</style>\n",
              "<table border=\"1\" class=\"dataframe\">\n",
              "  <thead>\n",
              "    <tr style=\"text-align: right;\">\n",
              "      <th></th>\n",
              "      <th>claim_id</th>\n",
              "      <th>target</th>\n",
              "    </tr>\n",
              "  </thead>\n",
              "  <tbody>\n",
              "    <tr>\n",
              "      <th>0</th>\n",
              "      <td>ID_4RO0KZI9BBW2</td>\n",
              "      <td>154964.276126</td>\n",
              "    </tr>\n",
              "    <tr>\n",
              "      <th>1</th>\n",
              "      <td>ID_GTE9ZUJ9GZ97</td>\n",
              "      <td>40191.625992</td>\n",
              "    </tr>\n",
              "    <tr>\n",
              "      <th>2</th>\n",
              "      <td>ID_RUVIYRKWZ4RG</td>\n",
              "      <td>2123.975472</td>\n",
              "    </tr>\n",
              "    <tr>\n",
              "      <th>3</th>\n",
              "      <td>ID_J81X8SWU6JYN</td>\n",
              "      <td>625.087877</td>\n",
              "    </tr>\n",
              "    <tr>\n",
              "      <th>4</th>\n",
              "      <td>ID_94NM3JJAWWOQ</td>\n",
              "      <td>9846.816691</td>\n",
              "    </tr>\n",
              "  </tbody>\n",
              "</table>\n",
              "</div>\n",
              "      <button class=\"colab-df-convert\" onclick=\"convertToInteractive('df-8a75033e-baba-444f-a200-d6da68be4f0a')\"\n",
              "              title=\"Convert this dataframe to an interactive table.\"\n",
              "              style=\"display:none;\">\n",
              "        \n",
              "  <svg xmlns=\"http://www.w3.org/2000/svg\" height=\"24px\"viewBox=\"0 0 24 24\"\n",
              "       width=\"24px\">\n",
              "    <path d=\"M0 0h24v24H0V0z\" fill=\"none\"/>\n",
              "    <path d=\"M18.56 5.44l.94 2.06.94-2.06 2.06-.94-2.06-.94-.94-2.06-.94 2.06-2.06.94zm-11 1L8.5 8.5l.94-2.06 2.06-.94-2.06-.94L8.5 2.5l-.94 2.06-2.06.94zm10 10l.94 2.06.94-2.06 2.06-.94-2.06-.94-.94-2.06-.94 2.06-2.06.94z\"/><path d=\"M17.41 7.96l-1.37-1.37c-.4-.4-.92-.59-1.43-.59-.52 0-1.04.2-1.43.59L10.3 9.45l-7.72 7.72c-.78.78-.78 2.05 0 2.83L4 21.41c.39.39.9.59 1.41.59.51 0 1.02-.2 1.41-.59l7.78-7.78 2.81-2.81c.8-.78.8-2.07 0-2.86zM5.41 20L4 18.59l7.72-7.72 1.47 1.35L5.41 20z\"/>\n",
              "  </svg>\n",
              "      </button>\n",
              "      \n",
              "  <style>\n",
              "    .colab-df-container {\n",
              "      display:flex;\n",
              "      flex-wrap:wrap;\n",
              "      gap: 12px;\n",
              "    }\n",
              "\n",
              "    .colab-df-convert {\n",
              "      background-color: #E8F0FE;\n",
              "      border: none;\n",
              "      border-radius: 50%;\n",
              "      cursor: pointer;\n",
              "      display: none;\n",
              "      fill: #1967D2;\n",
              "      height: 32px;\n",
              "      padding: 0 0 0 0;\n",
              "      width: 32px;\n",
              "    }\n",
              "\n",
              "    .colab-df-convert:hover {\n",
              "      background-color: #E2EBFA;\n",
              "      box-shadow: 0px 1px 2px rgba(60, 64, 67, 0.3), 0px 1px 3px 1px rgba(60, 64, 67, 0.15);\n",
              "      fill: #174EA6;\n",
              "    }\n",
              "\n",
              "    [theme=dark] .colab-df-convert {\n",
              "      background-color: #3B4455;\n",
              "      fill: #D2E3FC;\n",
              "    }\n",
              "\n",
              "    [theme=dark] .colab-df-convert:hover {\n",
              "      background-color: #434B5C;\n",
              "      box-shadow: 0px 1px 3px 1px rgba(0, 0, 0, 0.15);\n",
              "      filter: drop-shadow(0px 1px 2px rgba(0, 0, 0, 0.3));\n",
              "      fill: #FFFFFF;\n",
              "    }\n",
              "  </style>\n",
              "\n",
              "      <script>\n",
              "        const buttonEl =\n",
              "          document.querySelector('#df-8a75033e-baba-444f-a200-d6da68be4f0a button.colab-df-convert');\n",
              "        buttonEl.style.display =\n",
              "          google.colab.kernel.accessAllowed ? 'block' : 'none';\n",
              "\n",
              "        async function convertToInteractive(key) {\n",
              "          const element = document.querySelector('#df-8a75033e-baba-444f-a200-d6da68be4f0a');\n",
              "          const dataTable =\n",
              "            await google.colab.kernel.invokeFunction('convertToInteractive',\n",
              "                                                     [key], {});\n",
              "          if (!dataTable) return;\n",
              "\n",
              "          const docLinkHtml = 'Like what you see? Visit the ' +\n",
              "            '<a target=\"_blank\" href=https://colab.research.google.com/notebooks/data_table.ipynb>data table notebook</a>'\n",
              "            + ' to learn more about interactive tables.';\n",
              "          element.innerHTML = '';\n",
              "          dataTable['output_type'] = 'display_data';\n",
              "          await google.colab.output.renderOutput(dataTable, element);\n",
              "          const docLink = document.createElement('div');\n",
              "          docLink.innerHTML = docLinkHtml;\n",
              "          element.appendChild(docLink);\n",
              "        }\n",
              "      </script>\n",
              "    </div>\n",
              "  </div>\n",
              "  "
            ]
          },
          "metadata": {},
          "execution_count": 32
        }
      ]
    },
    {
      "cell_type": "code",
      "source": [
        "sub.to_csv('Submission.csv', index=False)"
      ],
      "metadata": {
        "id": "lyjTuW1jdHb5"
      },
      "execution_count": null,
      "outputs": []
    },
    {
      "cell_type": "code",
      "source": [
        ""
      ],
      "metadata": {
        "id": "f3uk_nr1EA7x"
      },
      "execution_count": null,
      "outputs": []
    }
  ]
}
